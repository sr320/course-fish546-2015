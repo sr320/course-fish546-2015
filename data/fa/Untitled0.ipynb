{
 "metadata": {
  "name": "",
  "signature": "sha256:c5c36c01f7abd5e21f8760952217ff9c25b46c428b19c8a97da6c25a33a43f74"
 },
 "nbformat": 3,
 "nbformat_minor": 0,
 "worksheets": [
  {
   "cells": [
    {
     "cell_type": "code",
     "collapsed": false,
     "input": [
      "ls"
     ],
     "language": "python",
     "metadata": {},
     "outputs": [
      {
       "output_type": "stream",
       "stream": "stdout",
       "text": [
        "Ahyacinthus_v1.fasta     Olurida_v1.fasta         Untitled0.ipynb\r\n",
        "Hcracherodii_v1.fasta    Pchilensis_v1.fasta\r\n",
        "Hkamtschatkana_v1.fasta  README.md\r\n"
       ]
      }
     ],
     "prompt_number": 1
    },
    {
     "cell_type": "code",
     "collapsed": false,
     "input": [
      "for f in H*\n",
      "do\n",
      " echo \"Processing $f\"\n",
      " # do something on $f\n",
      "done"
     ],
     "language": "python",
     "metadata": {},
     "outputs": [
      {
       "ename": "IndentationError",
       "evalue": "unexpected indent (<ipython-input-5-111df6cb29f8>, line 3)",
       "output_type": "pyerr",
       "traceback": [
        "\u001b[0;36m  File \u001b[0;32m\"<ipython-input-5-111df6cb29f8>\"\u001b[0;36m, line \u001b[0;32m3\u001b[0m\n\u001b[0;31m    echo \"Processing $f\"\u001b[0m\n\u001b[0m    ^\u001b[0m\n\u001b[0;31mIndentationError\u001b[0m\u001b[0;31m:\u001b[0m unexpected indent\n"
       ]
      }
     ],
     "prompt_number": 5
    },
    {
     "cell_type": "code",
     "collapsed": false,
     "input": [],
     "language": "python",
     "metadata": {},
     "outputs": []
    }
   ],
   "metadata": {}
  }
 ]
}