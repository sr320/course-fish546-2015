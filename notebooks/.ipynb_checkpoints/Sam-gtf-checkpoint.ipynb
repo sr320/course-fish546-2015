{
 "metadata": {
  "name": "",
  "signature": "sha256:f096c9247aca1c8b5bea07cb55bb609320b65c807870a3f4eecb54641eb3cecf"
 },
 "nbformat": 3,
 "nbformat_minor": 0,
 "worksheets": [
  {
   "cells": [
    {
     "cell_type": "heading",
     "level": 1,
     "metadata": {},
     "source": [
      "de novo annoation"
     ]
    },
    {
     "cell_type": "code",
     "collapsed": false,
     "input": [
      "pwd"
     ],
     "language": "python",
     "metadata": {},
     "outputs": [
      {
       "metadata": {},
       "output_type": "pyout",
       "prompt_number": 1,
       "text": [
        "u'/Users/sr320/git-repos/fish546-2015/notebooks'"
       ]
      }
     ],
     "prompt_number": 1
    },
    {
     "cell_type": "code",
     "collapsed": false,
     "input": [
      "cd ../data"
     ],
     "language": "python",
     "metadata": {},
     "outputs": [
      {
       "output_type": "stream",
       "stream": "stdout",
       "text": [
        "/Users/sr320/git-repos/fish546-2015/data\n"
       ]
      }
     ],
     "prompt_number": 4
    },
    {
     "cell_type": "code",
     "collapsed": false,
     "input": [
      "mkdir gtf"
     ],
     "language": "python",
     "metadata": {},
     "outputs": [],
     "prompt_number": 5
    },
    {
     "cell_type": "code",
     "collapsed": false,
     "input": [
      "cd gtf"
     ],
     "language": "python",
     "metadata": {},
     "outputs": [
      {
       "output_type": "stream",
       "stream": "stdout",
       "text": [
        "/Users/sr320/git-repos/fish546-2015/data/gtf\n"
       ]
      }
     ],
     "prompt_number": 6
    },
    {
     "cell_type": "code",
     "collapsed": false,
     "input": [
      "!curl -O --insecure https://raw.githubusercontent.com/kubu4/fish546_2015/master/gigasHSrnaSeq/analysis/cuffmerge/merged_asm/merged.gtf"
     ],
     "language": "python",
     "metadata": {},
     "outputs": [
      {
       "output_type": "stream",
       "stream": "stdout",
       "text": [
        "  % Total    % Received % Xferd  Average Speed   Time    Time     Time  Current\r\n",
        "                                 Dload  Upload   Total   Spent    Left  Speed\r\n",
        "\r",
        "  0     0    0     0    0     0      0      0 --:--:-- --:--:-- --:--:--     0"
       ]
      },
      {
       "output_type": "stream",
       "stream": "stdout",
       "text": [
        "\r",
        "  0     0    0     0    0     0      0      0 --:--:--  0:00:01 --:--:--     0"
       ]
      },
      {
       "output_type": "stream",
       "stream": "stdout",
       "text": [
        "\r",
        "  0     0    0     0    0     0      0      0 --:--:--  0:00:02 --:--:--     0"
       ]
      },
      {
       "output_type": "stream",
       "stream": "stdout",
       "text": [
        "\r",
        "  0     0    0     0    0     0      0      0 --:--:--  0:00:03 --:--:--     0"
       ]
      },
      {
       "output_type": "stream",
       "stream": "stdout",
       "text": [
        "\r",
        "  0 42.1M    0     0    0     0      0      0 --:--:--  0:00:04 --:--:--     0"
       ]
      },
      {
       "output_type": "stream",
       "stream": "stdout",
       "text": [
        "\r",
        "  0 42.1M    0  104k    0     0  22584      0  0:32:38  0:00:04  0:32:34 25063"
       ]
      },
      {
       "output_type": "stream",
       "stream": "stdout",
       "text": [
        "\r",
        "  1 42.1M    1  444k    0     0  79152      0  0:09:18  0:00:05  0:09:13  107k"
       ]
      },
      {
       "output_type": "stream",
       "stream": "stdout",
       "text": [
        "\r",
        "  1 42.1M    1  832k    0     0   123k      0  0:05:49  0:00:06  0:05:43  201k"
       ]
      },
      {
       "output_type": "stream",
       "stream": "stdout",
       "text": [
        "\r",
        "  2 42.1M    2 1179k    0     0   152k      0  0:04:42  0:00:07  0:04:35  285k"
       ]
      },
      {
       "output_type": "stream",
       "stream": "stdout",
       "text": [
        "\r",
        "  3 42.1M    3 1679k    0     0   191k      0  0:03:45  0:00:08  0:03:37  381k"
       ]
      },
      {
       "output_type": "stream",
       "stream": "stdout",
       "text": [
        "\r",
        "  5 42.1M    5 2249k    0     0   231k      0  0:03:06  0:00:09  0:02:57  428k"
       ]
      },
      {
       "output_type": "stream",
       "stream": "stdout",
       "text": [
        "\r",
        "  7 42.1M    7 3280k    0     0   305k      0  0:02:21  0:00:10  0:02:11  569k"
       ]
      },
      {
       "output_type": "stream",
       "stream": "stdout",
       "text": [
        "\r",
        " 10 42.1M   10 4679k    0     0   397k      0  0:01:48  0:00:11  0:01:37  764k"
       ]
      },
      {
       "output_type": "stream",
       "stream": "stdout",
       "text": [
        "\r",
        " 15 42.1M   15 6808k    0     0   534k      0  0:01:20  0:00:12  0:01:08 1123k"
       ]
      },
      {
       "output_type": "stream",
       "stream": "stdout",
       "text": [
        "\r",
        " 22 42.1M   22 9680k    0     0   705k      0  0:01:01  0:00:13  0:00:48 1611k"
       ]
      },
      {
       "output_type": "stream",
       "stream": "stdout",
       "text": [
        "\r",
        " 25 42.1M   25 10.7M    0     0   744k      0  0:00:58  0:00:14  0:00:44 1732k"
       ]
      },
      {
       "output_type": "stream",
       "stream": "stdout",
       "text": [
        "\r",
        " 31 42.1M   31 13.1M    0     0   855k      0  0:00:50  0:00:15  0:00:35 2040k"
       ]
      },
      {
       "output_type": "stream",
       "stream": "stdout",
       "text": [
        "\r",
        " 39 42.1M   39 16.8M    0     0  1029k      0  0:00:41  0:00:16  0:00:25 2531k"
       ]
      },
      {
       "output_type": "stream",
       "stream": "stdout",
       "text": [
        "\r",
        " 50 42.1M   50 21.3M    0     0  1232k      0  0:00:35  0:00:17  0:00:18 3001k"
       ]
      },
      {
       "output_type": "stream",
       "stream": "stdout",
       "text": [
        "\r",
        " 62 42.1M   62 26.5M    0     0  1453k      0  0:00:29  0:00:18  0:00:11 3504k"
       ]
      },
      {
       "output_type": "stream",
       "stream": "stdout",
       "text": [
        "\r",
        " 77 42.1M   77 32.7M    0     0  1700k      0  0:00:25  0:00:19  0:00:06 4552k"
       ]
      },
      {
       "output_type": "stream",
       "stream": "stdout",
       "text": [
        "\r",
        " 90 42.1M   90 38.2M    0     0  1888k      0  0:00:22  0:00:20  0:00:02 5106k"
       ]
      },
      {
       "output_type": "stream",
       "stream": "stdout",
       "text": [
        "\r",
        " 97 42.1M   97 41.3M    0     0  1948k      0  0:00:22  0:00:21  0:00:01 5010k"
       ]
      },
      {
       "output_type": "stream",
       "stream": "stdout",
       "text": [
        "\r",
        "100 42.1M  100 42.1M    0     0  1936k      0  0:00:22  0:00:22 --:--:-- 4690k\r\n"
       ]
      }
     ],
     "prompt_number": 11
    },
    {
     "cell_type": "code",
     "collapsed": false,
     "input": [
      "!head merged.gtf"
     ],
     "language": "python",
     "metadata": {},
     "outputs": [
      {
       "output_type": "stream",
       "stream": "stdout",
       "text": [
        "C12764\tCufflinks\texon\t28\t201\t.\t.\t.\tgene_id \"XLOC_000001\"; transcript_id \"TCONS_00000001\"; exon_number \"1\"; oId \"CUFF.2.1\"; tss_id \"TSS1\";\r\n",
        "C12768\tCufflinks\texon\t4\t189\t.\t.\t.\tgene_id \"XLOC_000002\"; transcript_id \"TCONS_00000002\"; exon_number \"1\"; oId \"CUFF.1.1\"; tss_id \"TSS2\";\r\n",
        "C12830\tCufflinks\texon\t2\t199\t.\t.\t.\tgene_id \"XLOC_000003\"; transcript_id \"TCONS_00000003\"; exon_number \"1\"; oId \"CUFF.3.1\"; tss_id \"TSS3\";\r\n",
        "C13102\tCufflinks\texon\t1\t209\t.\t.\t.\tgene_id \"XLOC_000004\"; transcript_id \"TCONS_00000004\"; exon_number \"1\"; oId \"CUFF.4.1\"; tss_id \"TSS4\";\r\n",
        "C13346\tCufflinks\texon\t6\t192\t.\t.\t.\tgene_id \"XLOC_000005\"; transcript_id \"TCONS_00000005\"; exon_number \"1\"; oId \"CUFF.5.1\"; tss_id \"TSS5\";\r\n",
        "C13868\tCufflinks\texon\t2\t203\t.\t.\t.\tgene_id \"XLOC_000006\"; transcript_id \"TCONS_00000006\"; exon_number \"1\"; oId \"CUFF.6.1\"; tss_id \"TSS6\";\r\n",
        "C14184\tCufflinks\texon\t28\t241\t.\t.\t.\tgene_id \"XLOC_000007\"; transcript_id \"TCONS_00000007\"; exon_number \"1\"; oId \"CUFF.7.1\"; tss_id \"TSS7\";\r\n",
        "C14226\tCufflinks\texon\t1\t244\t.\t.\t.\tgene_id \"XLOC_000008\"; transcript_id \"TCONS_00000008\"; exon_number \"1\"; oId \"CUFF.8.1\"; tss_id \"TSS8\";\r\n",
        "C14322\tCufflinks\texon\t1\t169\t.\t.\t.\tgene_id \"XLOC_000009\"; transcript_id \"TCONS_00000009\"; exon_number \"1\"; oId \"CUFF.9.1\"; tss_id \"TSS9\";\r\n",
        "C14440\tCufflinks\texon\t3\t252\t.\t.\t.\tgene_id \"XLOC_000010\"; transcript_id \"TCONS_00000010\"; exon_number \"1\"; oId \"CUFF.10.1\"; tss_id \"TSS10\";\r\n"
       ]
      }
     ],
     "prompt_number": 12
    },
    {
     "cell_type": "code",
     "collapsed": false,
     "input": [
      "!curl -O --insecure http://eagle.fish.washington.edu/trilobite/Crassostrea_gigas_ensembl_tracks/Crassostrea_gigas.GCA_000297895.1.22.gtf"
     ],
     "language": "python",
     "metadata": {},
     "outputs": [
      {
       "output_type": "stream",
       "stream": "stdout",
       "text": [
        "  % Total    % Received % Xferd  Average Speed   Time    Time     Time  Current\r\n",
        "                                 Dload  Upload   Total   Spent    Left  Speed\r\n",
        "\r",
        "  0     0    0     0    0     0      0      0 --:--:-- --:--:-- --:--:--     0"
       ]
      },
      {
       "output_type": "stream",
       "stream": "stdout",
       "text": [
        "\r",
        "  1 56.5M    1  629k    0     0   429k      0  0:02:14  0:00:01  0:02:13  613k"
       ]
      },
      {
       "output_type": "stream",
       "stream": "stdout",
       "text": [
        "\r",
        "  2 56.5M    2 1190k    0     0   485k      0  0:01:59  0:00:02  0:01:57  591k"
       ]
      },
      {
       "output_type": "stream",
       "stream": "stdout",
       "text": [
        "\r",
        "  3 56.5M    3 1780k    0     0   517k      0  0:01:51  0:00:03  0:01:48  593k"
       ]
      },
      {
       "output_type": "stream",
       "stream": "stdout",
       "text": [
        "\r",
        "  4 56.5M    4 2587k    0     0   576k      0  0:01:40  0:00:04  0:01:36  638k"
       ]
      },
      {
       "output_type": "stream",
       "stream": "stdout",
       "text": [
        "\r",
        "  7 56.5M    7 4275k    0     0   786k      0  0:01:13  0:00:05  0:01:08  855k"
       ]
      },
      {
       "output_type": "stream",
       "stream": "stdout",
       "text": [
        "\r",
        " 12 56.5M   12 7180k    0     0  1115k      0  0:00:51  0:00:06  0:00:45 1317k"
       ]
      },
      {
       "output_type": "stream",
       "stream": "stdout",
       "text": [
        "\r",
        " 18 56.5M   18 10.2M    0     0  1405k      0  0:00:41  0:00:07  0:00:34 1853k"
       ]
      },
      {
       "output_type": "stream",
       "stream": "stdout",
       "text": [
        "\r",
        " 23 56.5M   23 13.3M    0     0  1617k      0  0:00:35  0:00:08  0:00:27 2371k"
       ]
      },
      {
       "output_type": "stream",
       "stream": "stdout",
       "text": [
        "\r",
        " 28 56.5M   28 16.2M    0     0  1756k      0  0:00:32  0:00:09  0:00:23 2826k"
       ]
      },
      {
       "output_type": "stream",
       "stream": "stdout",
       "text": [
        "\r",
        " 34 56.5M   34 19.6M    0     0  1918k      0  0:00:30  0:00:10  0:00:20 3139k"
       ]
      },
      {
       "output_type": "stream",
       "stream": "stdout",
       "text": [
        "\r",
        " 40 56.5M   40 22.8M    0     0  2043k      0  0:00:28  0:00:11  0:00:17 3237k"
       ]
      },
      {
       "output_type": "stream",
       "stream": "stdout",
       "text": [
        "\r",
        " 48 56.5M   48 27.1M    0     0  2238k      0  0:00:25  0:00:12  0:00:13 3497k"
       ]
      },
      {
       "output_type": "stream",
       "stream": "stdout",
       "text": [
        "\r",
        " 54 56.5M   54 30.9M    0     0  2355k      0  0:00:24  0:00:13  0:00:11 3599k"
       ]
      },
      {
       "output_type": "stream",
       "stream": "stdout",
       "text": [
        "\r",
        " 63 56.5M   63 35.9M    0     0  2545k      0  0:00:22  0:00:14  0:00:08 4031k"
       ]
      },
      {
       "output_type": "stream",
       "stream": "stdout",
       "text": [
        "\r",
        " 72 56.5M   72 40.9M    0     0  2713k      0  0:00:21  0:00:15  0:00:06 4391k"
       ]
      },
      {
       "output_type": "stream",
       "stream": "stdout",
       "text": [
        "\r",
        " 81 56.5M   81 45.9M    0     0  2854k      0  0:00:20  0:00:16  0:00:04 4690k"
       ]
      },
      {
       "output_type": "stream",
       "stream": "stdout",
       "text": [
        "\r",
        " 90 56.5M   90 51.0M    0     0  2999k      0  0:00:19  0:00:17  0:00:02 4893k"
       ]
      },
      {
       "output_type": "stream",
       "stream": "stdout",
       "text": [
        "\r",
        "100 56.5M  100 56.5M    0     0  3168k      0  0:00:18  0:00:18 --:--:-- 5449k\r\n"
       ]
      }
     ],
     "prompt_number": 13
    },
    {
     "cell_type": "code",
     "collapsed": false,
     "input": [
      "!head Crassostrea_gigas.GCA_000297895.1.22.gtf"
     ],
     "language": "python",
     "metadata": {},
     "outputs": [
      {
       "output_type": "stream",
       "stream": "stdout",
       "text": [
        "scaffold39040\tprotein_coding\texon\t10564\t10567\t.\t-\t.\t gene_id \"CGI_10003144\"; transcript_id \"EKC21896\"; exon_number \"1\"; seqedit \"false\";\r\n",
        "scaffold39040\tprotein_coding\tCDS\t10564\t10567\t.\t-\t0\t gene_id \"CGI_10003144\"; transcript_id \"EKC21896\"; exon_number \"1\"; protein_id \"EKC21896\";\r\n",
        "scaffold39040\tprotein_coding\tstart_codon\t10565\t10567\t.\t-\t0\t gene_id \"CGI_10003144\"; transcript_id \"EKC21896\"; exon_number \"1\";\r\n",
        "scaffold39040\tprotein_coding\texon\t3542\t3712\t.\t-\t.\t gene_id \"CGI_10003144\"; transcript_id \"EKC21896\"; exon_number \"2\"; seqedit \"false\";\r\n",
        "scaffold39040\tprotein_coding\tCDS\t3542\t3712\t.\t-\t2\t gene_id \"CGI_10003144\"; transcript_id \"EKC21896\"; exon_number \"2\"; protein_id \"EKC21896\";\r\n",
        "scaffold39040\tprotein_coding\texon\t3267\t3380\t.\t-\t.\t gene_id \"CGI_10003144\"; transcript_id \"EKC21896\"; exon_number \"3\"; seqedit \"false\";\r\n",
        "scaffold39040\tprotein_coding\tCDS\t3267\t3380\t.\t-\t2\t gene_id \"CGI_10003144\"; transcript_id \"EKC21896\"; exon_number \"3\"; protein_id \"EKC21896\";\r\n",
        "scaffold39040\tprotein_coding\texon\t908\t1041\t.\t-\t.\t gene_id \"CGI_10003144\"; transcript_id \"EKC21896\"; exon_number \"4\"; seqedit \"false\";\r\n",
        "scaffold39040\tprotein_coding\tCDS\t908\t1041\t.\t-\t2\t gene_id \"CGI_10003144\"; transcript_id \"EKC21896\"; exon_number \"4\"; protein_id \"EKC21896\";\r\n",
        "scaffold39040\tprotein_coding\texon\t587\t685\t.\t-\t.\t gene_id \"CGI_10003144\"; transcript_id \"EKC21896\"; exon_number \"5\"; seqedit \"false\";\r\n"
       ]
      }
     ],
     "prompt_number": 14
    },
    {
     "cell_type": "code",
     "collapsed": false,
     "input": [
      "cd ..\n"
     ],
     "language": "python",
     "metadata": {},
     "outputs": [
      {
       "output_type": "stream",
       "stream": "stdout",
       "text": [
        "/Users/sr320/git-repos/fish546-2015/data\n"
       ]
      }
     ],
     "prompt_number": 15
    },
    {
     "cell_type": "code",
     "collapsed": false,
     "input": [
      "cd .."
     ],
     "language": "python",
     "metadata": {},
     "outputs": [
      {
       "output_type": "stream",
       "stream": "stdout",
       "text": [
        "/Users/sr320/git-repos/fish546-2015\n"
       ]
      }
     ],
     "prompt_number": 16
    },
    {
     "cell_type": "heading",
     "level": 1,
     "metadata": {},
     "source": [
      "Bedtools"
     ]
    },
    {
     "cell_type": "code",
     "collapsed": false,
     "input": [
      "!/Applications/bedtools2/bin/intersectBed"
     ],
     "language": "python",
     "metadata": {},
     "outputs": [
      {
       "output_type": "stream",
       "stream": "stdout",
       "text": [
        "\r\n",
        "Tool:    bedtools intersect (aka intersectBed)\r\n",
        "Version: v2.21.0\r\n",
        "Summary: Report overlaps between two feature files.\r\n",
        "\r\n",
        "Usage:   bedtools intersect [OPTIONS] -a <bed/gff/vcf> -b <bed/gff/vcf>\r\n",
        "\r\n",
        "\t\tNote: -b may be followed with multiple databases and/or \r\n",
        "\t\twildcard (*) character(s). \r\n",
        "Options: \r\n",
        "\t-abam\tThe A input file is in BAM format.  Output will be BAM as well.\r\n",
        "\r\n",
        "\t-ubam\tWrite uncompressed BAM output. Default writes compressed BAM.\r\n",
        "\r\n",
        "\t-bed\tWhen using BAM input (-abam), write output as BED. The default\r\n",
        "\t\tis to write output in BAM when using -abam.\r\n",
        "\r\n",
        "\t-wa\tWrite the original entry in A for each overlap.\r\n",
        "\r\n",
        "\t-wb\tWrite the original entry in B for each overlap.\r\n",
        "\t\t- Useful for knowing _what_ A overlaps. Restricted by -f and -r.\r\n",
        "\r\n",
        "\t-loj\tPerform a \"left outer join\". That is, for each feature in A\r\n",
        "\t\treport each overlap with B.  If no overlaps are found, \r\n",
        "\t\treport a NULL feature for B.\r\n",
        "\r\n",
        "\t-wo\tWrite the original A and B entries plus the number of base\r\n",
        "\t\tpairs of overlap between the two features.\r\n",
        "\t\t- Overlaps restricted by -f and -r.\r\n",
        "\t\t  Only A features with overlap are reported.\r\n",
        "\r\n",
        "\t-wao\tWrite the original A and B entries plus the number of base\r\n",
        "\t\tpairs of overlap between the two features.\r\n",
        "\t\t- Overlapping features restricted by -f and -r.\r\n",
        "\t\t  However, A features w/o overlap are also reported\r\n",
        "\t\t  with a NULL B feature and overlap = 0.\r\n",
        "\r\n",
        "\t-u\tWrite the original A entry _once_ if _any_ overlaps found in B.\r\n",
        "\t\t- In other words, just report the fact >=1 hit was found.\r\n",
        "\t\t- Overlaps restricted by -f and -r.\r\n",
        "\r\n",
        "\t-c\tFor each entry in A, report the number of overlaps with B.\r\n",
        "\t\t- Reports 0 for A entries that have no overlap with B.\r\n",
        "\t\t- Overlaps restricted by -f and -r.\r\n",
        "\r\n",
        "\t-v\tOnly report those entries in A that have _no overlaps_ with B.\r\n",
        "\t\t- Similar to \"grep -v\" (an homage).\r\n",
        "\r\n",
        "\t-f\tMinimum overlap required as a fraction of A.\r\n",
        "\t\t- Default is 1E-9 (i.e., 1bp).\r\n",
        "\t\t- FLOAT (e.g. 0.50)\r\n",
        "\r\n",
        "\t-r\tRequire that the fraction overlap be reciprocal for A and B.\r\n",
        "\t\t- In other words, if -f is 0.90 and -r is used, this requires\r\n",
        "\t\t  that B overlap 90% of A and A _also_ overlaps 90% of B.\r\n",
        "\r\n",
        "\t-s\tRequire same strandedness.  That is, only report hits in B\r\n",
        "\t\tthat overlap A on the _same_ strand.\r\n",
        "\t\t- By default, overlaps are reported without respect to strand.\r\n",
        "\r\n",
        "\t-S\tRequire different strandedness.  That is, only report hits in B\r\n",
        "\t\tthat overlap A on the _opposite_ strand.\r\n",
        "\t\t- By default, overlaps are reported without respect to strand.\r\n",
        "\r\n",
        "\t-split\tTreat \"split\" BAM or BED12 entries as distinct BED intervals.\r\n",
        "\r\n",
        "\t-sorted\tUse the \"chromsweep\" algorithm for sorted (-k1,1 -k2,2n) input.\r\n",
        "\r\n",
        "\t-g\tProvide a genome file to enforce consistent chromosome sort order\r\n",
        "\t\tacross input files. Only applies when used with -sorted option.\r\n",
        "\r\n",
        "\t-header\tPrint the header from the A file prior to results.\r\n",
        "\r\n",
        "\t-nobuf\tDisable buffered output. Using this option will cause each line\r\n",
        "\t\tof output to be printed as it is generated, rather than saved\r\n",
        "\t\tin a buffer. This will make printing large output files \r\n",
        "\t\tnoticeably slower, but can be useful in conjunction with\r\n",
        "\t\tother software tools and scripts that need to process one\r\n",
        "\t\tline of bedtools output at a time.\r\n",
        "\r\n",
        "\t-names\tWhen using multiple databases, provide an alias for each that\r\n",
        "\t\twill appear instead of a fileId when also printing the DB record.\r\n",
        "\r\n",
        "\t-filenames\tWhen using multiple databases, show each complete filename\r\n",
        "\t\t\tinstead of a fileId when also printing the DB record.\r\n",
        "\r\n",
        "\t-sortout\tWhen using multiple databases, sort the output DB hits\r\n",
        "\t\t\tfor each record.\r\n",
        "\r\n",
        "\t-iobuf\tFollow with desired integer size of read buffer.\r\n",
        "\t\tOptional suffixes K/M/G supported.\r\n",
        "\t\tNote: currently has no effect with compressed files.\r\n",
        "\r\n",
        "Notes: \r\n",
        "\t(1) When a BAM file is used for the A file, the alignment is retained if overlaps exist,\r\n",
        "\tand exlcuded if an overlap cannot be found.  If multiple overlaps exist, they are not\r\n",
        "\treported, as we are only testing for one or more overlaps.\r\n",
        "\r\n"
       ]
      }
     ],
     "prompt_number": 18
    },
    {
     "cell_type": "code",
     "collapsed": false,
     "input": [
      "!/Applications/bedtools2/bin/intersectBed \\\n",
      "-a ./data/gtf/merged.gtf \\\n",
      "-b ./data/gtf/Crassostrea_gigas.GCA_000297895.1.22.gtf \\\n",
      "-loj \\\n",
      "> ./analyses/sw-inter_ensemble.tab\n"
     ],
     "language": "python",
     "metadata": {},
     "outputs": [
      {
       "output_type": "stream",
       "stream": "stdout",
       "text": [
        "scaffold999\tCufflinks\texon\t57819\t57968\t.\t-\t.\tgene_id \"XLOC_042699\"; transcript_id \"TCONS_00054674\"; exon_number \"4\"; oId \"CUFF.43561.1\"; tss_id \"TSS48593\";\tscaffold999\tprotein_coding\texon\t57819\t57911\t.\t-\t.\t gene_id \"CGI_10006971\"; transcript_id \"EKC31255\"; exon_number \"1\"; seqedit \"false\";\r\n",
        "scaffold999\tCufflinks\texon\t57819\t57968\t.\t-\t.\tgene_id \"XLOC_042699\"; transcript_id \"TCONS_00054674\"; exon_number \"4\"; oId \"CUFF.43561.1\"; tss_id \"TSS48593\";\tscaffold999\tprotein_coding\tCDS\t57819\t57911\t.\t-\t0\t gene_id \"CGI_10006971\"; transcript_id \"EKC31255\"; exon_number \"1\"; protein_id \"EKC31255\";\r\n",
        "scaffold999\tCufflinks\texon\t57819\t57968\t.\t-\t.\tgene_id \"XLOC_042699\"; transcript_id \"TCONS_00054674\"; exon_number \"4\"; oId \"CUFF.43561.1\"; tss_id \"TSS48593\";\tscaffold999\tprotein_coding\tstart_codon\t57909\t57911\t.\t-\t0\t gene_id \"CGI_10006971\"; transcript_id \"EKC31255\"; exon_number \"1\";\r\n",
        "scaffold999\tCufflinks\texon\t73662\t74207\t.\t-\t.\tgene_id \"XLOC_042700\"; transcript_id \"TCONS_00054675\"; exon_number \"1\"; oId \"CUFF.43559.1\"; tss_id \"TSS48594\";\t.\t.\t.\t-1\t-1\t.\t.\t.\t.\r\n",
        "scaffold999\tCufflinks\texon\t74496\t74636\t.\t-\t.\tgene_id \"XLOC_042700\"; transcript_id \"TCONS_00054675\"; exon_number \"2\"; oId \"CUFF.43559.1\"; tss_id \"TSS48594\";\t.\t.\t.\t-1\t-1\t.\t.\t.\t.\r\n",
        "scaffold999\tCufflinks\texon\t26718\t27165\t.\t.\t.\tgene_id \"XLOC_042701\"; transcript_id \"TCONS_00054676\"; exon_number \"1\"; oId \"CUFF.43555.1\"; tss_id \"TSS48595\";\t.\t.\t.\t-1\t-1\t.\t.\t.\t.\r\n",
        "scaffold999\tCufflinks\texon\t38486\t38975\t.\t.\t.\tgene_id \"XLOC_042702\"; transcript_id \"TCONS_00054677\"; exon_number \"1\"; oId \"CUFF.43556.1\"; tss_id \"TSS48596\";\t.\t.\t.\t-1\t-1\t.\t.\t.\t.\r\n",
        "scaffold999\tCufflinks\texon\t116970\t117137\t.\t.\t.\tgene_id \"XLOC_042703\"; transcript_id \"TCONS_00054678\"; exon_number \"1\"; oId \"CUFF.43557.1\"; tss_id \"TSS48597\";\tscaffold999\tprotein_coding\texon\t116967\t117221\t.\t+\t.\t gene_id \"CGI_10006973\"; transcript_id \"EKC31257\"; exon_number \"3\"; seqedit \"false\";\r\n",
        "scaffold999\tCufflinks\texon\t116970\t117137\t.\t.\t.\tgene_id \"XLOC_042703\"; transcript_id \"TCONS_00054678\"; exon_number \"1\"; oId \"CUFF.43557.1\"; tss_id \"TSS48597\";\tscaffold999\tprotein_coding\tCDS\t116967\t117221\t.\t+\t2\t gene_id \"CGI_10006973\"; transcript_id \"EKC31257\"; exon_number \"3\"; protein_id \"EKC31257\";\r\n",
        "scaffold999\tCufflinks\texon\t157585\t157751\t.\t.\t.\tgene_id \"XLOC_042704\"; transcript_id \"TCONS_00054679\"; exon_number \"1\"; oId \"CUFF.43558.1\"; tss_id \"TSS48598\";\t.\t.\t.\t-1\t-1\t.\t.\t.\t.\r\n"
       ]
      }
     ],
     "prompt_number": 20
    },
    {
     "cell_type": "code",
     "collapsed": false,
     "input": [
      "!tail -3 ../analyses/sw-inter_ensemble.tab"
     ],
     "language": "python",
     "metadata": {},
     "outputs": [
      {
       "output_type": "stream",
       "stream": "stdout",
       "text": [
        "scaffold999\tCufflinks\texon\t116970\t117137\t.\t.\t.\tgene_id \"XLOC_042703\"; transcript_id \"TCONS_00054678\"; exon_number \"1\"; oId \"CUFF.43557.1\"; tss_id \"TSS48597\";\tscaffold999\tprotein_coding\texon\t116967\t117221\t.\t+\t.\t gene_id \"CGI_10006973\"; transcript_id \"EKC31257\"; exon_number \"3\"; seqedit \"false\";\r\n",
        "scaffold999\tCufflinks\texon\t116970\t117137\t.\t.\t.\tgene_id \"XLOC_042703\"; transcript_id \"TCONS_00054678\"; exon_number \"1\"; oId \"CUFF.43557.1\"; tss_id \"TSS48597\";\tscaffold999\tprotein_coding\tCDS\t116967\t117221\t.\t+\t2\t gene_id \"CGI_10006973\"; transcript_id \"EKC31257\"; exon_number \"3\"; protein_id \"EKC31257\";\r\n",
        "scaffold999\tCufflinks\texon\t157585\t157751\t.\t.\t.\tgene_id \"XLOC_042704\"; transcript_id \"TCONS_00054679\"; exon_number \"1\"; oId \"CUFF.43558.1\"; tss_id \"TSS48598\";\t.\t.\t.\t-1\t-1\t.\t.\t.\t.\r\n"
       ]
      }
     ],
     "prompt_number": 9
    },
    {
     "cell_type": "heading",
     "level": 1,
     "metadata": {},
     "source": [
      "Adding CGI Number to Cuffmerge Output"
     ]
    },
    {
     "cell_type": "heading",
     "level": 2,
     "metadata": {},
     "source": [
      "via Ensemble"
     ]
    },
    {
     "cell_type": "code",
     "collapsed": false,
     "input": [
      "!awk -F'\\t' '{print $1,$2,$3,$4,$5,$6,$7,$8,$9,$18}' ../analyses/sw-inter_ensemble.tab | tail"
     ],
     "language": "python",
     "metadata": {},
     "outputs": [
      {
       "output_type": "stream",
       "stream": "stdout",
       "text": [
        "scaffold999 Cufflinks exon 57819 57968 . - . gene_id \"XLOC_042699\"; transcript_id \"TCONS_00054674\"; exon_number \"4\"; oId \"CUFF.43561.1\"; tss_id \"TSS48593\";  gene_id \"CGI_10006971\"; transcript_id \"EKC31255\"; exon_number \"1\"; seqedit \"false\";\r\n",
        "scaffold999 Cufflinks exon 57819 57968 . - . gene_id \"XLOC_042699\"; transcript_id \"TCONS_00054674\"; exon_number \"4\"; oId \"CUFF.43561.1\"; tss_id \"TSS48593\";  gene_id \"CGI_10006971\"; transcript_id \"EKC31255\"; exon_number \"1\"; protein_id \"EKC31255\";\r\n",
        "scaffold999 Cufflinks exon 57819 57968 . - . gene_id \"XLOC_042699\"; transcript_id \"TCONS_00054674\"; exon_number \"4\"; oId \"CUFF.43561.1\"; tss_id \"TSS48593\";  gene_id \"CGI_10006971\"; transcript_id \"EKC31255\"; exon_number \"1\";\r\n",
        "scaffold999 Cufflinks exon 73662 74207 . - . gene_id \"XLOC_042700\"; transcript_id \"TCONS_00054675\"; exon_number \"1\"; oId \"CUFF.43559.1\"; tss_id \"TSS48594\"; .\r\n",
        "scaffold999 Cufflinks exon 74496 74636 . - . gene_id \"XLOC_042700\"; transcript_id \"TCONS_00054675\"; exon_number \"2\"; oId \"CUFF.43559.1\"; tss_id \"TSS48594\"; .\r\n",
        "scaffold999 Cufflinks exon 26718 27165 . . . gene_id \"XLOC_042701\"; transcript_id \"TCONS_00054676\"; exon_number \"1\"; oId \"CUFF.43555.1\"; tss_id \"TSS48595\"; .\r\n",
        "scaffold999 Cufflinks exon 38486 38975 . . . gene_id \"XLOC_042702\"; transcript_id \"TCONS_00054677\"; exon_number \"1\"; oId \"CUFF.43556.1\"; tss_id \"TSS48596\"; .\r\n",
        "scaffold999 Cufflinks exon 116970 117137 . . . gene_id \"XLOC_042703\"; transcript_id \"TCONS_00054678\"; exon_number \"1\"; oId \"CUFF.43557.1\"; tss_id \"TSS48597\";  gene_id \"CGI_10006973\"; transcript_id \"EKC31257\"; exon_number \"3\"; seqedit \"false\";\r\n",
        "scaffold999 Cufflinks exon 116970 117137 . . . gene_id \"XLOC_042703\"; transcript_id \"TCONS_00054678\"; exon_number \"1\"; oId \"CUFF.43557.1\"; tss_id \"TSS48597\";  gene_id \"CGI_10006973\"; transcript_id \"EKC31257\"; exon_number \"3\"; protein_id \"EKC31257\";\r\n",
        "scaffold999 Cufflinks exon 157585 157751 . . . gene_id \"XLOC_042704\"; transcript_id \"TCONS_00054679\"; exon_number \"1\"; oId \"CUFF.43558.1\"; tss_id \"TSS48598\"; .\r\n"
       ]
      }
     ],
     "prompt_number": 11
    },
    {
     "cell_type": "code",
     "collapsed": false,
     "input": [
      "!awk -F'\\t' '{print $1,$2,$3,$4,$5,$6,$7,$8,$9,$18}' ../analyses/sw-inter_ensemble.tab > ../analyses/sw-inter_ensemble_CGI.tab"
     ],
     "language": "python",
     "metadata": {},
     "outputs": [],
     "prompt_number": 15
    },
    {
     "cell_type": "code",
     "collapsed": false,
     "input": [
      "!tail ../data/gtf/Crassostrea_gigas.GCA_000297895.1.22.gtf"
     ],
     "language": "python",
     "metadata": {},
     "outputs": [
      {
       "output_type": "stream",
       "stream": "stdout",
       "text": [
        "scaffold695\tprotein_coding\tCDS\t811793\t811862\t.\t+\t0\t gene_id \"CGI_10023309\"; transcript_id \"EKC33774\"; exon_number \"13\"; protein_id \"EKC33774\";\r\n",
        "scaffold695\tprotein_coding\texon\t812504\t812659\t.\t+\t.\t gene_id \"CGI_10023309\"; transcript_id \"EKC33774\"; exon_number \"14\"; seqedit \"false\";\r\n",
        "scaffold695\tprotein_coding\tCDS\t812504\t812659\t.\t+\t2\t gene_id \"CGI_10023309\"; transcript_id \"EKC33774\"; exon_number \"14\"; protein_id \"EKC33774\";\r\n",
        "scaffold695\tprotein_coding\texon\t813041\t813141\t.\t+\t.\t gene_id \"CGI_10023309\"; transcript_id \"EKC33774\"; exon_number \"15\"; seqedit \"false\";\r\n",
        "scaffold695\tprotein_coding\tCDS\t813041\t813141\t.\t+\t2\t gene_id \"CGI_10023309\"; transcript_id \"EKC33774\"; exon_number \"15\"; protein_id \"EKC33774\";\r\n",
        "scaffold695\tprotein_coding\texon\t813308\t813369\t.\t+\t.\t gene_id \"CGI_10023309\"; transcript_id \"EKC33774\"; exon_number \"16\"; seqedit \"false\";\r\n",
        "scaffold695\tprotein_coding\tCDS\t813308\t813369\t.\t+\t0\t gene_id \"CGI_10023309\"; transcript_id \"EKC33774\"; exon_number \"16\"; protein_id \"EKC33774\";\r\n",
        "scaffold695\tprotein_coding\texon\t813609\t813753\t.\t+\t.\t gene_id \"CGI_10023309\"; transcript_id \"EKC33774\"; exon_number \"17\"; seqedit \"false\";\r\n",
        "scaffold695\tprotein_coding\tCDS\t813609\t813750\t.\t+\t1\t gene_id \"CGI_10023309\"; transcript_id \"EKC33774\"; exon_number \"17\"; protein_id \"EKC33774\";\r\n",
        "scaffold695\tprotein_coding\tstop_codon\t813751\t813753\t.\t+\t0\t gene_id \"CGI_10023309\"; transcript_id \"EKC33774\"; exon_number \"17\";\r\n"
       ]
      }
     ],
     "prompt_number": 13
    },
    {
     "cell_type": "heading",
     "level": 1,
     "metadata": {},
     "source": [
      "Adding CGI via our \"Canonical tracks\""
     ]
    },
    {
     "cell_type": "code",
     "collapsed": false,
     "input": [
      "cd ../data/gtf"
     ],
     "language": "python",
     "metadata": {},
     "outputs": [
      {
       "output_type": "stream",
       "stream": "stdout",
       "text": [
        "/Users/sr320/git-repos/fish546-2015/data/gtf\n"
       ]
      }
     ],
     "prompt_number": 16
    },
    {
     "cell_type": "code",
     "collapsed": false,
     "input": [
      "!curl -O http://eagle.fish.washington.edu/trilobite/Crassostrea_gigas_v9_tracks/Cgigas_v9_gene.gff"
     ],
     "language": "python",
     "metadata": {},
     "outputs": [
      {
       "output_type": "stream",
       "stream": "stdout",
       "text": [
        "  % Total    % Received % Xferd  Average Speed   Time    Time     Time  Current\r\n",
        "                                 Dload  Upload   Total   Spent    Left  Speed\r\n",
        "\r",
        "  0     0    0     0    0     0      0      0 --:--:-- --:--:-- --:--:--     0"
       ]
      },
      {
       "output_type": "stream",
       "stream": "stdout",
       "text": [
        "\r",
        " 13 1777k   13  243k    0     0   709k      0  0:00:02 --:--:--  0:00:02  786k"
       ]
      },
      {
       "output_type": "stream",
       "stream": "stdout",
       "text": [
        "\r",
        "100 1777k  100 1777k    0     0  1671k      0  0:00:01  0:00:01 --:--:-- 1726k\r\n"
       ]
      }
     ],
     "prompt_number": 17
    },
    {
     "cell_type": "code",
     "collapsed": false,
     "input": [
      "cd .."
     ],
     "language": "python",
     "metadata": {},
     "outputs": [
      {
       "output_type": "stream",
       "stream": "stdout",
       "text": [
        "/Users/sr320/git-repos/fish546-2015\n"
       ]
      }
     ],
     "prompt_number": 19
    },
    {
     "cell_type": "code",
     "collapsed": false,
     "input": [
      "!/Applications/bedtools2/bin/intersectBed \\\n",
      "-a ./data/gtf/merged.gtf \\\n",
      "-b ./data/gtf/Cgigas_v9_gene.gff \\\n",
      "> ./analyses/sw-inter_version9.tab"
     ],
     "language": "python",
     "metadata": {},
     "outputs": [],
     "prompt_number": 21
    },
    {
     "cell_type": "code",
     "collapsed": false,
     "input": [],
     "language": "python",
     "metadata": {},
     "outputs": []
    }
   ],
   "metadata": {}
  }
 ]
}