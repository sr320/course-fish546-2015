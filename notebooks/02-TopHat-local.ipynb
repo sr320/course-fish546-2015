{
 "metadata": {
  "name": "",
  "signature": "sha256:a52cfe0759152ceecd32fa9907448f6d961fdca4e88c79479073d48b05788f29"
 },
 "nbformat": 3,
 "nbformat_minor": 0,
 "worksheets": [
  {
   "cells": [
    {
     "cell_type": "markdown",
     "metadata": {},
     "source": [
      "<img src=\"http://eagle.fiskajdfkjadfajdkfjadjfajdf
    },
    {
     "cell_type": "code",
     "collapsed": false,
     "input": [
      "cd /Volumes/Bay3/Software"
     ],
     "language": "python",
     "metadata": {},
     "outputs": [
      {
       "output_type": "stream",
       "stream": "stdout",
       "text": [
        "/Volumes/Bay3/Software\n"
       ]
      }
     ],
     "prompt_number": 1
    },
    {
     "cell_type": "code",
     "collapsed": false,
     "input": [
      "!tar xvfz tophat-2.0.13.OSX_x86_64.tar.gz"
     ],
     "language": "python",
     "metadata": {},
     "outputs": [
      {
       "output_type": "stream",
       "stream": "stdout",
       "text": [
        "x tophat-2.0.13.OSX_x86_64/\r\n",
        "x tophat-2.0.13.OSX_x86_64/AUTHORS\r\n",
        "x tophat-2.0.13.OSX_x86_64/bam2fastx\r\n",
        "x tophat-2.0.13.OSX_x86_64/bam_merge"
       ]
      },
      {
       "output_type": "stream",
       "stream": "stdout",
       "text": [
        "\r\n",
        "x tophat-2.0.13.OSX_x86_64/bed_to_juncs\r\n",
        "x tophat-2.0.13.OSX_x86_64/contig_to_chr_coords\r\n",
        "x tophat-2.0.13.OSX_x86_64/COPYING\r\n",
        "x tophat-2.0.13.OSX_x86_64/fix_map_ordering\r\n",
        "x tophat-2.0.13.OSX_x86_64/gtf_juncs"
       ]
      },
      {
       "output_type": "stream",
       "stream": "stdout",
       "text": [
        "\r\n",
        "x tophat-2.0.13.OSX_x86_64/gtf_to_fasta\r\n",
        "x tophat-2.0.13.OSX_x86_64/juncs_db\r\n",
        "x tophat-2.0.13.OSX_x86_64/long_spanning_reads\r\n",
        "x tophat-2.0.13.OSX_x86_64/map2gtf\r\n",
        "x tophat-2.0.13.OSX_x86_64/prep_reads\r\n",
        "x tophat-2.0.13.OSX_x86_64/README\r\n",
        "x tophat-2.0.13.OSX_x86_64/sam_juncs\r\n",
        "x tophat-2.0.13.OSX_x86_64/samtools_0.1.18\r\n",
        "x tophat-2.0.13.OSX_x86_64/segment_juncs"
       ]
      },
      {
       "output_type": "stream",
       "stream": "stdout",
       "text": [
        "\r\n",
        "x tophat-2.0.13.OSX_x86_64/sra_to_solid\r\n",
        "x tophat-2.0.13.OSX_x86_64/tophat\r\n",
        "x tophat-2.0.13.OSX_x86_64/tophat-fusion-post\r\n",
        "x tophat-2.0.13.OSX_x86_64/tophat2\r\n",
        "x tophat-2.0.13.OSX_x86_64/tophat_reports\r\n"
       ]
      }
     ],
     "prompt_number": 2
    },
    {
     "cell_type": "code",
     "collapsed": false,
     "input": [
      "cd /bin/sh"
     ],
     "language": "python",
     "metadata": {},
     "outputs": [
      {
       "output_type": "stream",
       "stream": "stdout",
       "text": [
        "[Errno 20] Not a directory: '/bin/sh'\n",
        "/Users/sr320/bin\n"
       ]
      }
     ],
     "prompt_number": 17
    },
    {
     "cell_type": "code",
     "collapsed": false,
     "input": [
      "!/Volumes/Bay3/Software/tophat-2.0.13.OSX_x86_64/tophat2 -help"
     ],
     "language": "python",
     "metadata": {},
     "outputs": [
      {
       "output_type": "stream",
       "stream": "stdout",
       "text": [
        "tophat: option -e not recognized\r\n",
        "    for detailed help see http://tophat.cbcb.umd.edu/manual.html\r\n"
       ]
      }
     ],
     "prompt_number": 33
    },
    {
     "cell_type": "code",
     "collapsed": false,
     "input": [
      "!tophat2 "
     ],
     "language": "python",
     "metadata": {},
     "outputs": [
      {
       "output_type": "stream",
       "stream": "stdout",
       "text": [
        "/bin/sh: tophat2: command not found\r\n"
       ]
      }
     ],
     "prompt_number": 16
    },
    {
     "cell_type": "code",
     "collapsed": false,
     "input": [
      "cd /Users/sr320/Desktop/test_data"
     ],
     "language": "python",
     "metadata": {},
     "outputs": [
      {
       "output_type": "stream",
       "stream": "stdout",
       "text": [
        "/Users/sr320/Desktop/test_data\n"
       ]
      }
     ],
     "prompt_number": 19
    },
    {
     "cell_type": "code",
     "collapsed": false,
     "input": [
      "!/Volumes/Bay3/Software/tophat-2.0.13.OSX_x86_64/tophat2 \\\n",
      "-r 20 test_ref reads_1.fq reads_2.fq"
     ],
     "language": "python",
     "metadata": {},
     "outputs": [
      {
       "output_type": "stream",
       "stream": "stdout",
       "text": [
        "Traceback (most recent call last):\r\n",
        "  File \"/Volumes/Bay3/Software/tophat-2.0.13.OSX_x86_64/tophat\", line 4088, in <module>\r\n",
        "    sys.exit(main())\r\n",
        "  File \"/Volumes/Bay3/Software/tophat-2.0.13.OSX_x86_64/tophat\", line 3867, in main\r\n",
        "    init_logger(logging_dir + \"tophat.log\")\r\n",
        "  File \"/Volumes/Bay3/Software/tophat-2.0.13.OSX_x86_64/tophat\", line 284, in init_logger\r\n",
        "    os.remove(log_fname)\r\n",
        "OSError: [Errno 16] Resource busy: './tophat_out/logs/tophat.log'\r\n"
       ]
      }
     ],
     "prompt_number": 11
    },
    {
     "cell_type": "code",
     "collapsed": false,
     "input": [
      "cd /Volumes/web/cnidarian/"
     ],
     "language": "python",
     "metadata": {},
     "outputs": [
      {
       "output_type": "stream",
       "stream": "stdout",
       "text": [
        "/Volumes/web/cnidarian\n"
       ]
      }
     ],
     "prompt_number": 8
    },
    {
     "cell_type": "code",
     "collapsed": false,
     "input": [
      "!bowtie2-build -f oyster.v9.fa oyster.v9"
     ],
     "language": "python",
     "metadata": {},
     "outputs": [
      {
       "output_type": "stream",
       "stream": "stdout",
       "text": [
        "Settings:\r\n",
        "  Output files: \"oyster.v9.*.bt2\"\r\n",
        "  Line rate: 6 (line is 64 bytes)\r\n",
        "  Lines per side: 1 (side is 64 bytes)\r\n",
        "  Offset rate: 4 (one in 16)\r\n",
        "  FTable chars: 10\r\n",
        "  Strings: unpacked\r\n",
        "  Max bucket size: default\r\n",
        "  Max bucket size, sqrt multiplier: default\r\n",
        "  Max bucket size, len divisor: 4\r\n",
        "  Difference-cover sample period: 1024\r\n",
        "  Endianness: little\r\n",
        "  Actual local endianness: little\r\n",
        "  Sanity checking: disabled\r\n",
        "  Assertions: disabled\r\n",
        "  Random seed: 0\r\n",
        "  Sizeofs: void*:8, int:4, long:8, size_t:8\r\n",
        "Input files DNA, FASTA:\r\n",
        "  oyster.v9.fa\r\n"
       ]
      },
      {
       "output_type": "stream",
       "stream": "stdout",
       "text": [
        "Building a SMALL index\r\n",
        "Reading reference sizes\r\n"
       ]
      },
      {
       "output_type": "stream",
       "stream": "stdout",
       "text": [
        "  Time reading reference sizes: 00:00:12\r\n",
        "Calculating joined length\r\n",
        "Writing header\r\n",
        "Reserving space for joined string\r\n",
        "Joining reference sequences\r\n"
       ]
      },
      {
       "output_type": "stream",
       "stream": "stdout",
       "text": [
        "  Time to join reference sequences: 00:00:08\r\n",
        "bmax according to bmaxDivN setting: 123267717\r\n",
        "Using parameters --bmax 92450788 --dcv 1024\r\n",
        "  Doing ahead-of-time memory usage test\r\n"
       ]
      },
      {
       "output_type": "stream",
       "stream": "stdout",
       "text": [
        "  Passed!  Constructing with these parameters: --bmax 92450788 --dcv 1024\r\n"
       ]
      },
      {
       "output_type": "stream",
       "stream": "stdout",
       "text": [
        "Constructing suffix-array element generator\r\n",
        "Building DifferenceCoverSample\r\n",
        "  Building sPrime\r\n"
       ]
      },
      {
       "output_type": "stream",
       "stream": "stdout",
       "text": [
        "  Building sPrimeOrder\r\n"
       ]
      },
      {
       "output_type": "stream",
       "stream": "stdout",
       "text": [
        "  V-Sorting samples\r\n"
       ]
      },
      {
       "output_type": "stream",
       "stream": "stdout",
       "text": [
        "  V-Sorting samples time: 00:00:26\r\n",
        "  Allocating rank array\r\n",
        "  Ranking v-sort output\r\n"
       ]
      },
      {
       "output_type": "stream",
       "stream": "stdout",
       "text": [
        "  Ranking v-sort output time: 00:00:07\r\n"
       ]
      },
      {
       "output_type": "stream",
       "stream": "stdout",
       "text": [
        "  Invoking Larsson-Sadakane on ranks\r\n"
       ]
      },
      {
       "output_type": "stream",
       "stream": "stdout",
       "text": [
        "  Invoking Larsson-Sadakane on ranks time: 00:00:11\r\n"
       ]
      },
      {
       "output_type": "stream",
       "stream": "stdout",
       "text": [
        "  Sanity-checking and returning\r\n"
       ]
      },
      {
       "output_type": "stream",
       "stream": "stdout",
       "text": [
        "Building samples\r\n",
        "Reserving space for 12 sample suffixes\r\n",
        "Generating random suffixes\r\n",
        "QSorting 12 sample offsets, eliminating duplicates\r\n",
        "QSorting sample offsets, eliminating duplicates time: 00:00:00\r\n",
        "Multikey QSorting 12 samples\r\n",
        "  (Using difference cover)\r\n",
        "  Multikey QSorting samples time: 00:00:00\r\n",
        "Calculating bucket sizes\r\n",
        "  Binary sorting into buckets\r\n"
       ]
      },
      {
       "output_type": "stream",
       "stream": "stdout",
       "text": [
        "  10%\r\n"
       ]
      },
      {
       "output_type": "stream",
       "stream": "stdout",
       "text": [
        "  20%\r\n"
       ]
      },
      {
       "output_type": "stream",
       "stream": "stdout",
       "text": [
        "  30%\r\n"
       ]
      },
      {
       "output_type": "stream",
       "stream": "stdout",
       "text": [
        "  40%\r\n"
       ]
      },
      {
       "output_type": "stream",
       "stream": "stdout",
       "text": [
        "  50%\r\n"
       ]
      },
      {
       "output_type": "stream",
       "stream": "stdout",
       "text": [
        "  60%\r\n"
       ]
      },
      {
       "output_type": "stream",
       "stream": "stdout",
       "text": [
        "  70%\r\n"
       ]
      },
      {
       "output_type": "stream",
       "stream": "stdout",
       "text": [
        "  80%\r\n"
       ]
      },
      {
       "output_type": "stream",
       "stream": "stdout",
       "text": [
        "  90%\r\n"
       ]
      },
      {
       "output_type": "stream",
       "stream": "stdout",
       "text": [
        "  100%\r\n",
        "  Binary sorting into buckets time: 00:00:51\r\n",
        "Splitting and merging\r\n",
        "  Splitting and merging time: 00:00:00\r\n",
        "Split 1, merged 6; iterating...\r\n",
        "  Binary sorting into buckets\r\n"
       ]
      },
      {
       "output_type": "stream",
       "stream": "stdout",
       "text": [
        "  10%\r\n"
       ]
      },
      {
       "output_type": "stream",
       "stream": "stdout",
       "text": [
        "  20%\r\n"
       ]
      },
      {
       "output_type": "stream",
       "stream": "stdout",
       "text": [
        "  30%\r\n"
       ]
      },
      {
       "output_type": "stream",
       "stream": "stdout",
       "text": [
        "  40%\r\n"
       ]
      },
      {
       "output_type": "stream",
       "stream": "stdout",
       "text": [
        "  50%\r\n"
       ]
      },
      {
       "output_type": "stream",
       "stream": "stdout",
       "text": [
        "  60%\r\n"
       ]
      },
      {
       "output_type": "stream",
       "stream": "stdout",
       "text": [
        "  70%\r\n"
       ]
      },
      {
       "output_type": "stream",
       "stream": "stdout",
       "text": [
        "  80%\r\n"
       ]
      },
      {
       "output_type": "stream",
       "stream": "stdout",
       "text": [
        "  90%\r\n"
       ]
      },
      {
       "output_type": "stream",
       "stream": "stdout",
       "text": [
        "  100%\r\n",
        "  Binary sorting into buckets time: 00:00:39\r\n",
        "Splitting and merging\r\n",
        "  Splitting and merging time: 00:00:00\r\n",
        "Avg bucket size: 6.16339e+07 (target: 92450787)\r\n",
        "Converting suffix-array elements to index image\r\n",
        "Allocating ftab, absorbFtab\r\n",
        "Entering Ebwt loop\r\n",
        "Getting block 1 of 8\r\n",
        "  Reserving size (92450788) for bucket\r\n",
        "  Calculating Z arrays\r\n",
        "  Calculating Z arrays time: 00:00:00\r\n",
        "  Entering block accumulator loop:\r\n"
       ]
      },
      {
       "output_type": "stream",
       "stream": "stdout",
       "text": [
        "  10%\r\n"
       ]
      },
      {
       "output_type": "stream",
       "stream": "stdout",
       "text": [
        "  20%\r\n"
       ]
      },
      {
       "output_type": "stream",
       "stream": "stdout",
       "text": [
        "  30%\r\n"
       ]
      },
      {
       "output_type": "stream",
       "stream": "stdout",
       "text": [
        "  40%\r\n"
       ]
      },
      {
       "output_type": "stream",
       "stream": "stdout",
       "text": [
        "  50%\r\n"
       ]
      },
      {
       "output_type": "stream",
       "stream": "stdout",
       "text": [
        "  60%\r\n"
       ]
      },
      {
       "output_type": "stream",
       "stream": "stdout",
       "text": [
        "  70%\r\n"
       ]
      },
      {
       "output_type": "stream",
       "stream": "stdout",
       "text": [
        "  80%\r\n"
       ]
      },
      {
       "output_type": "stream",
       "stream": "stdout",
       "text": [
        "  90%\r\n"
       ]
      },
      {
       "output_type": "stream",
       "stream": "stdout",
       "text": [
        "  100%\r\n",
        "  Block accumulator loop time: 00:00:11\r\n",
        "  Sorting block of length 87013509\r\n",
        "  (Using difference cover)\r\n"
       ]
      },
      {
       "output_type": "stream",
       "stream": "stdout",
       "text": [
        "  Sorting block time: 00:01:38\r\n",
        "Returning block of 87013510\r\n"
       ]
      },
      {
       "output_type": "stream",
       "stream": "stdout",
       "text": [
        "Getting block 2 of 8\r\n",
        "  Reserving size (92450788) for bucket\r\n",
        "  Calculating Z arrays\r\n",
        "  Calculating Z arrays time: 00:00:00\r\n",
        "  Entering block accumulator loop:\r\n"
       ]
      },
      {
       "output_type": "stream",
       "stream": "stdout",
       "text": [
        "  10%\r\n"
       ]
      },
      {
       "output_type": "stream",
       "stream": "stdout",
       "text": [
        "  20%\r\n"
       ]
      },
      {
       "output_type": "stream",
       "stream": "stdout",
       "text": [
        "  30%\r\n"
       ]
      },
      {
       "output_type": "stream",
       "stream": "stdout",
       "text": [
        "  40%\r\n"
       ]
      },
      {
       "output_type": "stream",
       "stream": "stdout",
       "text": [
        "  50%\r\n"
       ]
      },
      {
       "output_type": "stream",
       "stream": "stdout",
       "text": [
        "  60%\r\n"
       ]
      },
      {
       "output_type": "stream",
       "stream": "stdout",
       "text": [
        "  70%\r\n"
       ]
      },
      {
       "output_type": "stream",
       "stream": "stdout",
       "text": [
        "  80%\r\n"
       ]
      },
      {
       "output_type": "stream",
       "stream": "stdout",
       "text": [
        "  90%\r\n"
       ]
      },
      {
       "output_type": "stream",
       "stream": "stdout",
       "text": [
        "  100%\r\n",
        "  Block accumulator loop time: 00:00:13\r\n",
        "  Sorting block of length 55710594\r\n",
        "  (Using difference cover)\r\n"
       ]
      },
      {
       "output_type": "stream",
       "stream": "stdout",
       "text": [
        "  Sorting block time: 00:00:53\r\n",
        "Returning block of 55710595\r\n"
       ]
      },
      {
       "output_type": "stream",
       "stream": "stdout",
       "text": [
        "Getting block 3 of 8\r\n",
        "  Reserving size (92450788) for bucket\r\n",
        "  Calculating Z arrays\r\n",
        "  Calculating Z arrays time: 00:00:00\r\n",
        "  Entering block accumulator loop:\r\n"
       ]
      },
      {
       "output_type": "stream",
       "stream": "stdout",
       "text": [
        "  10%\r\n"
       ]
      },
      {
       "output_type": "stream",
       "stream": "stdout",
       "text": [
        "  20%\r\n"
       ]
      },
      {
       "output_type": "stream",
       "stream": "stdout",
       "text": [
        "  30%\r\n"
       ]
      },
      {
       "output_type": "stream",
       "stream": "stdout",
       "text": [
        "  40%\r\n"
       ]
      },
      {
       "output_type": "stream",
       "stream": "stdout",
       "text": [
        "  50%\r\n"
       ]
      },
      {
       "output_type": "stream",
       "stream": "stdout",
       "text": [
        "  60%\r\n"
       ]
      },
      {
       "output_type": "stream",
       "stream": "stdout",
       "text": [
        "  70%\r\n"
       ]
      },
      {
       "output_type": "stream",
       "stream": "stdout",
       "text": [
        "  80%\r\n"
       ]
      },
      {
       "output_type": "stream",
       "stream": "stdout",
       "text": [
        "  90%\r\n"
       ]
      },
      {
       "output_type": "stream",
       "stream": "stdout",
       "text": [
        "  100%\r\n",
        "  Block accumulator loop time: 00:00:14\r\n",
        "  Sorting block of length 83903089\r\n",
        "  (Using difference cover)\r\n"
       ]
      },
      {
       "output_type": "stream",
       "stream": "stdout",
       "text": [
        "  Sorting block time: 00:01:24\r\n",
        "Returning block of 83903090\r\n"
       ]
      },
      {
       "output_type": "stream",
       "stream": "stdout",
       "text": [
        "Getting block 4 of 8\r\n",
        "  Reserving size (92450788) for bucket\r\n",
        "  Calculating Z arrays\r\n",
        "  Calculating Z arrays time: 00:00:00\r\n",
        "  Entering block accumulator loop:\r\n"
       ]
      },
      {
       "output_type": "stream",
       "stream": "stdout",
       "text": [
        "  10%\r\n"
       ]
      },
      {
       "output_type": "stream",
       "stream": "stdout",
       "text": [
        "  20%\r\n"
       ]
      },
      {
       "output_type": "stream",
       "stream": "stdout",
       "text": [
        "  30%\r\n"
       ]
      },
      {
       "output_type": "stream",
       "stream": "stdout",
       "text": [
        "  40%\r\n"
       ]
      },
      {
       "output_type": "stream",
       "stream": "stdout",
       "text": [
        "  50%\r\n"
       ]
      },
      {
       "output_type": "stream",
       "stream": "stdout",
       "text": [
        "  60%\r\n"
       ]
      },
      {
       "output_type": "stream",
       "stream": "stdout",
       "text": [
        "  70%\r\n"
       ]
      },
      {
       "output_type": "stream",
       "stream": "stdout",
       "text": [
        "  80%\r\n"
       ]
      },
      {
       "output_type": "stream",
       "stream": "stdout",
       "text": [
        "  90%\r\n"
       ]
      },
      {
       "output_type": "stream",
       "stream": "stdout",
       "text": [
        "  100%\r\n",
        "  Block accumulator loop time: 00:00:13\r\n",
        "  Sorting block of length 11071878\r\n",
        "  (Using difference cover)\r\n"
       ]
      },
      {
       "output_type": "stream",
       "stream": "stdout",
       "text": [
        "  Sorting block time: 00:00:14\r\n",
        "Returning block of 11071879\r\n"
       ]
      },
      {
       "output_type": "stream",
       "stream": "stdout",
       "text": [
        "Getting block 5 of 8\r\n",
        "  Reserving size (92450788) for bucket\r\n",
        "  Calculating Z arrays\r\n",
        "  Calculating Z arrays time: 00:00:00\r\n",
        "  Entering block accumulator loop:\r\n"
       ]
      },
      {
       "output_type": "stream",
       "stream": "stdout",
       "text": [
        "  10%\r\n"
       ]
      },
      {
       "output_type": "stream",
       "stream": "stdout",
       "text": [
        "  20%\r\n"
       ]
      },
      {
       "output_type": "stream",
       "stream": "stdout",
       "text": [
        "  30%\r\n"
       ]
      },
      {
       "output_type": "stream",
       "stream": "stdout",
       "text": [
        "  40%\r\n"
       ]
      },
      {
       "output_type": "stream",
       "stream": "stdout",
       "text": [
        "  50%\r\n"
       ]
      },
      {
       "output_type": "stream",
       "stream": "stdout",
       "text": [
        "  60%\r\n"
       ]
      },
      {
       "output_type": "stream",
       "stream": "stdout",
       "text": [
        "  70%\r\n"
       ]
      },
      {
       "output_type": "stream",
       "stream": "stdout",
       "text": [
        "  80%\r\n"
       ]
      },
      {
       "output_type": "stream",
       "stream": "stdout",
       "text": [
        "  90%\r\n"
       ]
      },
      {
       "output_type": "stream",
       "stream": "stdout",
       "text": [
        "  100%\r\n",
        "  Block accumulator loop time: 00:00:27\r\n",
        "  Sorting block of length 87464654\r\n",
        "  (Using difference cover)\r\n"
       ]
      },
      {
       "output_type": "stream",
       "stream": "stdout",
       "text": [
        "  Sorting block time: 00:02:36\r\n",
        "Returning block of 87464655\r\n"
       ]
      },
      {
       "output_type": "stream",
       "stream": "stdout",
       "text": [
        "Getting block 6 of 8\r\n",
        "  Reserving size (92450788) for bucket\r\n",
        "  Calculating Z arrays\r\n",
        "  Calculating Z arrays time: 00:00:00\r\n",
        "  Entering block accumulator loop:\r\n"
       ]
      },
      {
       "output_type": "stream",
       "stream": "stdout",
       "text": [
        "  10%\r\n"
       ]
      },
      {
       "output_type": "stream",
       "stream": "stdout",
       "text": [
        "  20%\r\n"
       ]
      },
      {
       "output_type": "stream",
       "stream": "stdout",
       "text": [
        "  30%\r\n"
       ]
      },
      {
       "output_type": "stream",
       "stream": "stdout",
       "text": [
        "  40%\r\n"
       ]
      },
      {
       "output_type": "stream",
       "stream": "stdout",
       "text": [
        "  50%\r\n"
       ]
      },
      {
       "output_type": "stream",
       "stream": "stdout",
       "text": [
        "  60%\r\n"
       ]
      },
      {
       "output_type": "stream",
       "stream": "stdout",
       "text": [
        "  70%\r\n"
       ]
      },
      {
       "output_type": "stream",
       "stream": "stdout",
       "text": [
        "  80%\r\n"
       ]
      },
      {
       "output_type": "stream",
       "stream": "stdout",
       "text": [
        "  90%\r\n"
       ]
      },
      {
       "output_type": "stream",
       "stream": "stdout",
       "text": [
        "  100%\r\n",
        "  Block accumulator loop time: 00:00:34\r\n",
        "  Sorting block of length 47768524\r\n",
        "  (Using difference cover)\r\n"
       ]
      },
      {
       "output_type": "stream",
       "stream": "stdout",
       "text": [
        "  Sorting block time: 00:01:28\r\n",
        "Returning block of 47768525\r\n"
       ]
      },
      {
       "output_type": "stream",
       "stream": "stdout",
       "text": [
        "Getting block 7 of 8\r\n",
        "  Reserving size (92450788) for bucket\r\n",
        "  Calculating Z arrays\r\n",
        "  Calculating Z arrays time: 00:00:00\r\n",
        "  Entering block accumulator loop:\r\n"
       ]
      },
      {
       "output_type": "stream",
       "stream": "stdout",
       "text": [
        "  10%\r\n"
       ]
      },
      {
       "output_type": "stream",
       "stream": "stdout",
       "text": [
        "  20%\r\n"
       ]
      },
      {
       "output_type": "stream",
       "stream": "stdout",
       "text": [
        "  30%\r\n"
       ]
      },
      {
       "output_type": "stream",
       "stream": "stdout",
       "text": [
        "  40%\r\n"
       ]
      },
      {
       "output_type": "stream",
       "stream": "stdout",
       "text": [
        "  50%\r\n"
       ]
      },
      {
       "output_type": "stream",
       "stream": "stdout",
       "text": [
        "  60%\r\n"
       ]
      },
      {
       "output_type": "stream",
       "stream": "stdout",
       "text": [
        "  70%\r\n"
       ]
      },
      {
       "output_type": "stream",
       "stream": "stdout",
       "text": [
        "  80%\r\n"
       ]
      },
      {
       "output_type": "stream",
       "stream": "stdout",
       "text": [
        "  90%\r\n"
       ]
      },
      {
       "output_type": "stream",
       "stream": "stdout",
       "text": [
        "  100%\r\n",
        "  Block accumulator loop time: 00:00:26\r\n",
        "  Sorting block of length 85475520\r\n",
        "  (Using difference cover)\r\n"
       ]
      },
      {
       "output_type": "stream",
       "stream": "stdout",
       "text": [
        "  Sorting block time: 00:02:38\r\n",
        "Returning block of 85475521\r\n"
       ]
      },
      {
       "output_type": "stream",
       "stream": "stdout",
       "text": [
        "Getting block 8 of 8\r\n",
        "  Reserving size (92450788) for bucket\r\n",
        "  Calculating Z arrays\r\n"
       ]
      },
      {
       "output_type": "stream",
       "stream": "stdout",
       "text": [
        "  Calculating Z arrays time: 00:00:00\r\n",
        "  Entering block accumulator loop:\r\n"
       ]
      },
      {
       "output_type": "stream",
       "stream": "stdout",
       "text": [
        "  10%\r\n"
       ]
      },
      {
       "output_type": "stream",
       "stream": "stdout",
       "text": [
        "  20%\r\n"
       ]
      },
      {
       "output_type": "stream",
       "stream": "stdout",
       "text": [
        "  30%\r\n"
       ]
      },
      {
       "output_type": "stream",
       "stream": "stdout",
       "text": [
        "  40%\r\n"
       ]
      },
      {
       "output_type": "stream",
       "stream": "stdout",
       "text": [
        "  50%\r\n"
       ]
      },
      {
       "output_type": "stream",
       "stream": "stdout",
       "text": [
        "  60%\r\n"
       ]
      },
      {
       "output_type": "stream",
       "stream": "stdout",
       "text": [
        "  70%\r\n"
       ]
      },
      {
       "output_type": "stream",
       "stream": "stdout",
       "text": [
        "  80%\r\n"
       ]
      },
      {
       "output_type": "stream",
       "stream": "stdout",
       "text": [
        "  90%\r\n"
       ]
      },
      {
       "output_type": "stream",
       "stream": "stdout",
       "text": [
        "  100%\r\n",
        "  Block accumulator loop time: 00:00:24\r\n",
        "  Sorting block of length 34663095\r\n",
        "  (Using difference cover)\r\n"
       ]
      },
      {
       "output_type": "stream",
       "stream": "stdout",
       "text": [
        "  Sorting block time: 00:00:52\r\n",
        "Returning block of 34663096\r\n"
       ]
      },
      {
       "output_type": "stream",
       "stream": "stdout",
       "text": [
        "Exited Ebwt loop\r\n",
        "fchr[A]: 0\r\n",
        "fchr[C]: 164099870\r\n",
        "fchr[G]: 246517050\r\n",
        "fchr[T]: 328973089\r\n",
        "fchr[$]: 493070870\r\n"
       ]
      },
      {
       "output_type": "stream",
       "stream": "stdout",
       "text": [
        "Exiting Ebwt::buildToDisk()\r\n"
       ]
      },
      {
       "output_type": "stream",
       "stream": "stdout",
       "text": [
        "Returning from initFromVector\r\n"
       ]
      },
      {
       "output_type": "stream",
       "stream": "stdout",
       "text": [
        "Wrote 169335660 bytes to primary EBWT file: oyster.v9.1.bt2\r\n"
       ]
      },
      {
       "output_type": "stream",
       "stream": "stdout",
       "text": [
        "Wrote 123267724 bytes to secondary EBWT file: oyster.v9.2.bt2\r\n"
       ]
      },
      {
       "output_type": "stream",
       "stream": "stdout",
       "text": [
        "Re-opening _in1 and _in2 as input streams\r\n",
        "Returning from Ebwt constructor\r\n",
        "Headers:\r\n",
        "    len: 493070870\r\n",
        "    bwtLen: 493070871\r\n",
        "    sz: 123267718\r\n",
        "    bwtSz: 123267718\r\n",
        "    lineRate: 6\r\n",
        "    offRate: 4\r\n",
        "    offMask: 0xfffffff0\r\n",
        "    ftabChars: 10\r\n",
        "    eftabLen: 20\r\n",
        "    eftabSz: 80\r\n",
        "    ftabLen: 1048577\r\n",
        "    ftabSz: 4194308\r\n",
        "    offsLen: 30816930\r\n",
        "    offsSz: 123267720\r\n",
        "    lineSz: 64\r\n",
        "    sideSz: 64\r\n",
        "    sideBwtSz: 48\r\n",
        "    sideBwtLen: 192\r\n",
        "    numSides: 2568078\r\n",
        "    numLines: 2568078\r\n",
        "    ebwtTotLen: 164356992\r\n",
        "    ebwtTotSz: 164356992\r\n",
        "    color: 0\r\n",
        "    reverse: 0\r\n",
        "Total time for call to driver() for forward index: 00:20:13\r\n"
       ]
      },
      {
       "output_type": "stream",
       "stream": "stdout",
       "text": [
        "Reading reference sizes\r\n"
       ]
      },
      {
       "output_type": "stream",
       "stream": "stdout",
       "text": [
        "  Time reading reference sizes: 00:00:15\r\n"
       ]
      },
      {
       "output_type": "stream",
       "stream": "stdout",
       "text": [
        "Calculating joined length\r\n",
        "Writing header\r\n",
        "Reserving space for joined string\r\n",
        "Joining reference sequences\r\n"
       ]
      },
      {
       "output_type": "stream",
       "stream": "stdout",
       "text": [
        "  Time to join reference sequences: 00:00:09\r\n"
       ]
      },
      {
       "output_type": "stream",
       "stream": "stdout",
       "text": [
        "  Time to reverse reference sequence: 00:00:01\r\n",
        "bmax according to bmaxDivN setting: 123267717\r\n",
        "Using parameters --bmax 92450788 --dcv 1024\r\n",
        "  Doing ahead-of-time memory usage test\r\n"
       ]
      },
      {
       "output_type": "stream",
       "stream": "stdout",
       "text": [
        "  Passed!  Constructing with these parameters: --bmax 92450788 --dcv 1024"
       ]
      },
      {
       "output_type": "stream",
       "stream": "stdout",
       "text": [
        "\r\n"
       ]
      },
      {
       "output_type": "stream",
       "stream": "stdout",
       "text": [
        "Constructing suffix-array element generator\r\n",
        "Building DifferenceCoverSample\r\n",
        "  Building sPrime\r\n"
       ]
      },
      {
       "output_type": "stream",
       "stream": "stdout",
       "text": [
        "  Building sPrimeOrder\r\n"
       ]
      },
      {
       "output_type": "stream",
       "stream": "stdout",
       "text": [
        "  V-Sorting samples\r\n"
       ]
      },
      {
       "output_type": "stream",
       "stream": "stdout",
       "text": [
        "  V-Sorting samples time: 00:00:47\r\n",
        "  Allocating rank array\r\n",
        "  Ranking v-sort output\r\n"
       ]
      },
      {
       "output_type": "stream",
       "stream": "stdout",
       "text": [
        "  Ranking v-sort output time: 00:00:11\r\n"
       ]
      },
      {
       "output_type": "stream",
       "stream": "stdout",
       "text": [
        "  Invoking Larsson-Sadakane on ranks\r\n"
       ]
      },
      {
       "output_type": "stream",
       "stream": "stdout",
       "text": [
        "  Invoking Larsson-Sadakane on ranks time: 00:00:21\r\n"
       ]
      },
      {
       "output_type": "stream",
       "stream": "stdout",
       "text": [
        "  Sanity-checking and returning\r\n"
       ]
      },
      {
       "output_type": "stream",
       "stream": "stdout",
       "text": [
        "Building samples\r\n",
        "Reserving space for 12 sample suffixes\r\n",
        "Generating random suffixes\r\n",
        "QSorting 12 sample offsets, eliminating duplicates\r\n",
        "QSorting sample offsets, eliminating duplicates time: 00:00:00\r\n",
        "Multikey QSorting 12 samples\r\n",
        "  (Using difference cover)\r\n",
        "  Multikey QSorting samples time: 00:00:00\r\n",
        "Calculating bucket sizes\r\n",
        "  Binary sorting into buckets\r\n"
       ]
      },
      {
       "output_type": "stream",
       "stream": "stdout",
       "text": [
        "  10%\r\n"
       ]
      },
      {
       "output_type": "stream",
       "stream": "stdout",
       "text": [
        "  20%\r\n"
       ]
      },
      {
       "output_type": "stream",
       "stream": "stdout",
       "text": [
        "  30%\r\n"
       ]
      },
      {
       "output_type": "stream",
       "stream": "stdout",
       "text": [
        "  40%\r\n"
       ]
      },
      {
       "output_type": "stream",
       "stream": "stdout",
       "text": [
        "  50%\r\n"
       ]
      },
      {
       "output_type": "stream",
       "stream": "stdout",
       "text": [
        "  60%\r\n"
       ]
      },
      {
       "output_type": "stream",
       "stream": "stdout",
       "text": [
        "  70%\r\n"
       ]
      },
      {
       "output_type": "stream",
       "stream": "stdout",
       "text": [
        "  80%\r\n"
       ]
      },
      {
       "output_type": "stream",
       "stream": "stdout",
       "text": [
        "  90%\r\n"
       ]
      },
      {
       "output_type": "stream",
       "stream": "stdout",
       "text": [
        "  100%\r\n",
        "  Binary sorting into buckets time: 00:01:18\r\n",
        "Splitting and merging\r\n",
        "  Splitting and merging time: 00:00:00\r\n",
        "Split 1, merged 6; iterating...\r\n",
        "  Binary sorting into buckets\r\n"
       ]
      },
      {
       "output_type": "stream",
       "stream": "stdout",
       "text": [
        "  10%\r\n"
       ]
      },
      {
       "output_type": "stream",
       "stream": "stdout",
       "text": [
        "  20%\r\n"
       ]
      },
      {
       "output_type": "stream",
       "stream": "stdout",
       "text": [
        "  30%\r\n"
       ]
      },
      {
       "output_type": "stream",
       "stream": "stdout",
       "text": [
        "  40%\r\n"
       ]
      },
      {
       "output_type": "stream",
       "stream": "stdout",
       "text": [
        "  50%\r\n"
       ]
      },
      {
       "output_type": "stream",
       "stream": "stdout",
       "text": [
        "  60%\r\n"
       ]
      },
      {
       "output_type": "stream",
       "stream": "stdout",
       "text": [
        "  70%\r\n"
       ]
      },
      {
       "output_type": "stream",
       "stream": "stdout",
       "text": [
        "  80%\r\n"
       ]
      },
      {
       "output_type": "stream",
       "stream": "stdout",
       "text": [
        "  90%\r\n"
       ]
      },
      {
       "output_type": "stream",
       "stream": "stdout",
       "text": [
        "  100%\r\n",
        "  Binary sorting into buckets time: 00:00:54\r\n",
        "Splitting and merging\r\n",
        "  Splitting and merging time: 00:00:00\r\n",
        "Split 1, merged 1; iterating...\r\n",
        "  Binary sorting into buckets\r\n"
       ]
      },
      {
       "output_type": "stream",
       "stream": "stdout",
       "text": [
        "  10%\r\n"
       ]
      },
      {
       "output_type": "stream",
       "stream": "stdout",
       "text": [
        "  20%\r\n"
       ]
      },
      {
       "output_type": "stream",
       "stream": "stdout",
       "text": [
        "  30%\r\n"
       ]
      },
      {
       "output_type": "stream",
       "stream": "stdout",
       "text": [
        "  40%\r\n"
       ]
      },
      {
       "output_type": "stream",
       "stream": "stdout",
       "text": [
        "  50%\r\n"
       ]
      },
      {
       "output_type": "stream",
       "stream": "stdout",
       "text": [
        "  60%\r\n"
       ]
      },
      {
       "output_type": "stream",
       "stream": "stdout",
       "text": [
        "  70%\r\n"
       ]
      },
      {
       "output_type": "stream",
       "stream": "stdout",
       "text": [
        "  80%\r\n"
       ]
      },
      {
       "output_type": "stream",
       "stream": "stdout",
       "text": [
        "  90%\r\n"
       ]
      },
      {
       "output_type": "stream",
       "stream": "stdout",
       "text": [
        "  100%\r\n",
        "  Binary sorting into buckets time: 00:00:55\r\n",
        "Splitting and merging\r\n",
        "  Splitting and merging time: 00:00:00\r\n",
        "Avg bucket size: 7.04387e+07 (target: 92450787)\r\n",
        "Converting suffix-array elements to index image\r\n",
        "Allocating ftab, absorbFtab\r\n",
        "Entering Ebwt loop\r\n",
        "Getting block 1 of 7\r\n",
        "  Reserving size (92450788) for bucket\r\n",
        "  Calculating Z arrays\r\n",
        "  Calculating Z arrays time: 00:00:00\r\n",
        "  Entering block accumulator loop:\r\n"
       ]
      },
      {
       "output_type": "stream",
       "stream": "stdout",
       "text": [
        "  10%\r\n"
       ]
      },
      {
       "output_type": "stream",
       "stream": "stdout",
       "text": [
        "  20%\r\n"
       ]
      },
      {
       "output_type": "stream",
       "stream": "stdout",
       "text": [
        "  30%\r\n"
       ]
      },
      {
       "output_type": "stream",
       "stream": "stdout",
       "text": [
        "  40%\r\n"
       ]
      },
      {
       "output_type": "stream",
       "stream": "stdout",
       "text": [
        "  50%\r\n"
       ]
      },
      {
       "output_type": "stream",
       "stream": "stdout",
       "text": [
        "  60%\r\n"
       ]
      },
      {
       "output_type": "stream",
       "stream": "stdout",
       "text": [
        "  70%\r\n"
       ]
      },
      {
       "output_type": "stream",
       "stream": "stdout",
       "text": [
        "  80%\r\n"
       ]
      },
      {
       "output_type": "stream",
       "stream": "stdout",
       "text": [
        "  90%\r\n"
       ]
      },
      {
       "output_type": "stream",
       "stream": "stdout",
       "text": [
        "  100%\r\n",
        "  Block accumulator loop time: 00:00:20\r\n",
        "  Sorting block of length 76740992\r\n",
        "  (Using difference cover)\r\n"
       ]
      },
      {
       "output_type": "stream",
       "stream": "stdout",
       "text": [
        "  Sorting block time: 00:04:10\r\n",
        "Returning block of 76740993\r\n"
       ]
      },
      {
       "output_type": "stream",
       "stream": "stdout",
       "text": [
        "Getting block 2 of 7\r\n",
        "  Reserving size (92450788) for bucket\r\n",
        "  Calculating Z arrays\r\n",
        "  Calculating Z arrays time: 00:00:00\r\n",
        "  Entering block accumulator loop:\r\n"
       ]
      },
      {
       "output_type": "stream",
       "stream": "stdout",
       "text": [
        "  10%\r\n"
       ]
      },
      {
       "output_type": "stream",
       "stream": "stdout",
       "text": [
        "  20%\r\n"
       ]
      },
      {
       "output_type": "stream",
       "stream": "stdout",
       "text": [
        "  30%\r\n"
       ]
      },
      {
       "output_type": "stream",
       "stream": "stdout",
       "text": [
        "  40%\r\n"
       ]
      },
      {
       "output_type": "stream",
       "stream": "stdout",
       "text": [
        "  50%\r\n"
       ]
      },
      {
       "output_type": "stream",
       "stream": "stdout",
       "text": [
        "  60%\r\n"
       ]
      },
      {
       "output_type": "stream",
       "stream": "stdout",
       "text": [
        "  70%\r\n"
       ]
      },
      {
       "output_type": "stream",
       "stream": "stdout",
       "text": [
        "  80%\r\n"
       ]
      },
      {
       "output_type": "stream",
       "stream": "stdout",
       "text": [
        "  90%\r\n"
       ]
      },
      {
       "output_type": "stream",
       "stream": "stdout",
       "text": [
        "  100%\r\n",
        "  Block accumulator loop time: 00:00:55\r\n",
        "  Sorting block of length 88477032\r\n",
        "  (Using difference cover)\r\n"
       ]
      },
      {
       "output_type": "stream",
       "stream": "stdout",
       "text": [
        "  Sorting block time: 00:03:00\r\n",
        "Returning block of 88477033\r\n"
       ]
      },
      {
       "output_type": "stream",
       "stream": "stdout",
       "text": [
        "Getting block 3 of 7\r\n",
        "  Reserving size (92450788) for bucket\r\n",
        "  Calculating Z arrays\r\n",
        "  Calculating Z arrays time: 00:00:00\r\n",
        "  Entering block accumulator loop:\r\n"
       ]
      },
      {
       "output_type": "stream",
       "stream": "stdout",
       "text": [
        "  10%\r\n"
       ]
      },
      {
       "output_type": "stream",
       "stream": "stdout",
       "text": [
        "  20%\r\n"
       ]
      },
      {
       "output_type": "stream",
       "stream": "stdout",
       "text": [
        "  30%\r\n"
       ]
      },
      {
       "output_type": "stream",
       "stream": "stdout",
       "text": [
        "  40%\r\n"
       ]
      },
      {
       "output_type": "stream",
       "stream": "stdout",
       "text": [
        "  50%\r\n"
       ]
      },
      {
       "output_type": "stream",
       "stream": "stdout",
       "text": [
        "  60%\r\n"
       ]
      },
      {
       "output_type": "stream",
       "stream": "stdout",
       "text": [
        "  70%\r\n"
       ]
      },
      {
       "output_type": "stream",
       "stream": "stdout",
       "text": [
        "  80%\r\n"
       ]
      },
      {
       "output_type": "stream",
       "stream": "stdout",
       "text": [
        "  90%\r\n"
       ]
      },
      {
       "output_type": "stream",
       "stream": "stdout",
       "text": [
        "  100%\r\n",
        "  Block accumulator loop time: 00:00:18\r\n",
        "  Sorting block of length 8876652\r\n",
        "  (Using difference cover)\r\n"
       ]
      },
      {
       "output_type": "stream",
       "stream": "stdout",
       "text": [
        "  Sorting block time: 00:00:16\r\n",
        "Returning block of 8876653\r\n"
       ]
      },
      {
       "output_type": "stream",
       "stream": "stdout",
       "text": [
        "Getting block 4 of 7\r\n",
        "  Reserving size (92450788) for bucket\r\n",
        "  Calculating Z arrays\r\n",
        "  Calculating Z arrays time: 00:00:00\r\n",
        "  Entering block accumulator loop:\r\n"
       ]
      },
      {
       "output_type": "stream",
       "stream": "stdout",
       "text": [
        "  10%\r\n"
       ]
      },
      {
       "output_type": "stream",
       "stream": "stdout",
       "text": [
        "  20%\r\n"
       ]
      },
      {
       "output_type": "stream",
       "stream": "stdout",
       "text": [
        "  30%\r\n"
       ]
      },
      {
       "output_type": "stream",
       "stream": "stdout",
       "text": [
        "  40%\r\n"
       ]
      },
      {
       "output_type": "stream",
       "stream": "stdout",
       "text": [
        "  50%\r\n"
       ]
      },
      {
       "output_type": "stream",
       "stream": "stdout",
       "text": [
        "  60%\r\n"
       ]
      },
      {
       "output_type": "stream",
       "stream": "stdout",
       "text": [
        "  70%\r\n"
       ]
      },
      {
       "output_type": "stream",
       "stream": "stdout",
       "text": [
        "  80%\r\n"
       ]
      },
      {
       "output_type": "stream",
       "stream": "stdout",
       "text": [
        "  90%\r\n"
       ]
      },
      {
       "output_type": "stream",
       "stream": "stdout",
       "text": [
        "  100%\r\n",
        "  Block accumulator loop time: 00:00:28\r\n",
        "  Sorting block of length 91102591\r\n",
        "  (Using difference cover)\r\n"
       ]
      },
      {
       "output_type": "stream",
       "stream": "stdout",
       "text": [
        "  Sorting block time: 00:02:19\r\n",
        "Returning block of 91102592\r\n"
       ]
      },
      {
       "output_type": "stream",
       "stream": "stdout",
       "text": [
        "Getting block 5 of 7\r\n",
        "  Reserving size (92450788) for bucket\r\n",
        "  Calculating Z arrays\r\n",
        "  Calculating Z arrays time: 00:00:00\r\n",
        "  Entering block accumulator loop:\r\n"
       ]
      },
      {
       "output_type": "stream",
       "stream": "stdout",
       "text": [
        "  10%\r\n"
       ]
      },
      {
       "output_type": "stream",
       "stream": "stdout",
       "text": [
        "  20%\r\n"
       ]
      },
      {
       "output_type": "stream",
       "stream": "stdout",
       "text": [
        "  30%\r\n"
       ]
      },
      {
       "output_type": "stream",
       "stream": "stdout",
       "text": [
        "  40%\r\n"
       ]
      },
      {
       "output_type": "stream",
       "stream": "stdout",
       "text": [
        "  50%\r\n"
       ]
      },
      {
       "output_type": "stream",
       "stream": "stdout",
       "text": [
        "  60%\r\n"
       ]
      },
      {
       "output_type": "stream",
       "stream": "stdout",
       "text": [
        "  70%\r\n"
       ]
      },
      {
       "output_type": "stream",
       "stream": "stdout",
       "text": [
        "  80%\r\n"
       ]
      },
      {
       "output_type": "stream",
       "stream": "stdout",
       "text": [
        "  90%\r\n"
       ]
      },
      {
       "output_type": "stream",
       "stream": "stdout",
       "text": [
        "  100%\r\n",
        "  Block accumulator loop time: 00:00:27\r\n",
        "  Sorting block of length 84601862\r\n",
        "  (Using difference cover)\r\n"
       ]
      },
      {
       "output_type": "stream",
       "stream": "stdout",
       "text": [
        "  Sorting block time: 00:02:15\r\n",
        "Returning block of 84601863\r\n"
       ]
      },
      {
       "output_type": "stream",
       "stream": "stdout",
       "text": [
        "Getting block 6 of 7\r\n",
        "  Reserving size (92450788) for bucket\r\n",
        "  Calculating Z arrays\r\n",
        "  Calculating Z arrays time: 00:00:00\r\n",
        "  Entering block accumulator loop:\r\n"
       ]
      },
      {
       "output_type": "stream",
       "stream": "stdout",
       "text": [
        "  10%\r\n"
       ]
      },
      {
       "output_type": "stream",
       "stream": "stdout",
       "text": [
        "  20%\r\n"
       ]
      },
      {
       "output_type": "stream",
       "stream": "stdout",
       "text": [
        "  30%\r\n"
       ]
      },
      {
       "output_type": "stream",
       "stream": "stdout",
       "text": [
        "  40%\r\n"
       ]
      },
      {
       "output_type": "stream",
       "stream": "stdout",
       "text": [
        "  50%\r\n"
       ]
      },
      {
       "output_type": "stream",
       "stream": "stdout",
       "text": [
        "  60%\r\n"
       ]
      },
      {
       "output_type": "stream",
       "stream": "stdout",
       "text": [
        "  70%\r\n"
       ]
      },
      {
       "output_type": "stream",
       "stream": "stdout",
       "text": [
        "  80%\r\n"
       ]
      },
      {
       "output_type": "stream",
       "stream": "stdout",
       "text": [
        "  90%\r\n"
       ]
      },
      {
       "output_type": "stream",
       "stream": "stdout",
       "text": [
        "  100%\r\n",
        "  Block accumulator loop time: 00:00:26\r\n",
        "  Sorting block of length 70335827\r\n",
        "  (Using difference cover)\r\n"
       ]
      },
      {
       "output_type": "stream",
       "stream": "stdout",
       "text": [
        "  Sorting block time: 00:01:56\r\n",
        "Returning block of 70335828\r\n"
       ]
      },
      {
       "output_type": "stream",
       "stream": "stdout",
       "text": [
        "Getting block 7 of 7\r\n",
        "  Reserving size (92450788) for bucket\r\n",
        "  Calculating Z arrays\r\n",
        "  Calculating Z arrays time: 00:00:00\r\n",
        "  Entering block accumulator loop:\r\n"
       ]
      },
      {
       "output_type": "stream",
       "stream": "stdout",
       "text": [
        "  10%\r\n"
       ]
      },
      {
       "output_type": "stream",
       "stream": "stdout",
       "text": [
        "  20%\r\n"
       ]
      },
      {
       "output_type": "stream",
       "stream": "stdout",
       "text": [
        "  30%\r\n"
       ]
      },
      {
       "output_type": "stream",
       "stream": "stdout",
       "text": [
        "  40%\r\n"
       ]
      },
      {
       "output_type": "stream",
       "stream": "stdout",
       "text": [
        "  50%\r\n"
       ]
      },
      {
       "output_type": "stream",
       "stream": "stdout",
       "text": [
        "  60%\r\n"
       ]
      },
      {
       "output_type": "stream",
       "stream": "stdout",
       "text": [
        "  70%\r\n"
       ]
      },
      {
       "output_type": "stream",
       "stream": "stdout",
       "text": [
        "  80%\r\n"
       ]
      },
      {
       "output_type": "stream",
       "stream": "stdout",
       "text": [
        "  90%\r\n"
       ]
      },
      {
       "output_type": "stream",
       "stream": "stdout",
       "text": [
        "  100%\r\n",
        "  Block accumulator loop time: 00:00:16\r\n",
        "  Sorting block of length 72935908\r\n",
        "  (Using difference cover)\r\n"
       ]
      },
      {
       "output_type": "stream",
       "stream": "stdout",
       "text": [
        "  Sorting block time: 00:02:20\r\n",
        "Returning block of 72935909\r\n"
       ]
      },
      {
       "output_type": "stream",
       "stream": "stdout",
       "text": [
        "Exited Ebwt loop\r\n",
        "fchr[A]: 0\r\n",
        "fchr[C]: 164099870\r\n",
        "fchr[G]: 246517050\r\n",
        "fchr[T]: 328973089\r\n",
        "fchr[$]: 493070870\r\n"
       ]
      },
      {
       "output_type": "stream",
       "stream": "stdout",
       "text": [
        "Exiting Ebwt::buildToDisk()\r\n"
       ]
      },
      {
       "output_type": "stream",
       "stream": "stdout",
       "text": [
        "Returning from initFromVector\r\n"
       ]
      },
      {
       "output_type": "stream",
       "stream": "stdout",
       "text": [
        "Wrote 169335660 bytes to primary EBWT file: oyster.v9.rev.1.bt2\r\n"
       ]
      },
      {
       "output_type": "stream",
       "stream": "stdout",
       "text": [
        "Wrote 123267724 bytes to secondary EBWT file: oyster.v9.rev.2.bt2\r\n"
       ]
      },
      {
       "output_type": "stream",
       "stream": "stdout",
       "text": [
        "Re-opening _in1 and _in2 as input streams\r\n",
        "Returning from Ebwt constructor\r\n",
        "Headers:\r\n",
        "    len: 493070870\r\n",
        "    bwtLen: 493070871\r\n",
        "    sz: 123267718\r\n",
        "    bwtSz: 123267718\r\n",
        "    lineRate: 6\r\n",
        "    offRate: 4\r\n",
        "    offMask: 0xfffffff0\r\n",
        "    ftabChars: 10\r\n",
        "    eftabLen: 20\r\n",
        "    eftabSz: 80\r\n",
        "    ftabLen: 1048577\r\n",
        "    ftabSz: 4194308\r\n",
        "    offsLen: 30816930\r\n",
        "    offsSz: 123267720\r\n",
        "    lineSz: 64\r\n",
        "    sideSz: 64\r\n",
        "    sideBwtSz: 48\r\n",
        "    sideBwtLen: 192\r\n",
        "    numSides: 2568078\r\n",
        "    numLines: 2568078\r\n",
        "    ebwtTotLen: 164356992\r\n",
        "    ebwtTotSz: 164356992\r\n",
        "    color: 0\r\n",
        "    reverse: 1\r\n",
        "Total time for backward call to driver() for mirror index: 00:27:53\r\n"
       ]
      }
     ],
     "prompt_number": 31
    },
    {
     "cell_type": "code",
     "collapsed": false,
     "input": [
      "!/Volumes/Bay3/Software/tophat-2.0.13.OSX_x86_64/tophat2 \\\n",
      "oyster.v9 \\\n",
      "/Volumes/web-1/nightingales/C_gigas/2M-HS_CCGTCC_L001_R1_001.fastq.gz\n"
     ],
     "language": "python",
     "metadata": {},
     "outputs": [
      {
       "output_type": "stream",
       "stream": "stdout",
       "text": [
        "Traceback (most recent call last):\r\n",
        "  File \"/Volumes/Bay3/Software/tophat-2.0.13.OSX_x86_64/tophat\", line 4088, in <module>\r\n",
        "    sys.exit(main())\r\n",
        "  File \"/Volumes/Bay3/Software/tophat-2.0.13.OSX_x86_64/tophat\", line 3867, in main\r\n",
        "    init_logger(logging_dir + \"tophat.log\")\r\n",
        "  File \"/Volumes/Bay3/Software/tophat-2.0.13.OSX_x86_64/tophat\", line 284, in init_logger\r\n",
        "    os.remove(log_fname)\r\n",
        "OSError: [Errno 16] Resource busy: './tophat_out/logs/tophat.log'\r\n"
       ]
      }
     ],
     "prompt_number": 10
    },
    {
     "cell_type": "code",
     "collapsed": false,
     "input": [
      "!tophat2"
     ],
     "language": "python",
     "metadata": {},
     "outputs": [
      {
       "output_type": "stream",
       "stream": "stdout",
       "text": [
        "/usr/local/bin/tophat: fork: Resource temporarily unavailable\r\n"
       ]
      }
     ],
     "prompt_number": 3
    },
    {
     "cell_type": "code",
     "collapsed": false,
     "input": [
      "ls /Volumes/Bay3/Software/tophat-2.0.13.OSX_x86_64"
     ],
     "language": "python",
     "metadata": {},
     "outputs": [
      {
       "output_type": "stream",
       "stream": "stdout",
       "text": [
        "AUTHORS               \u001b[31mbed_to_juncs\u001b[m\u001b[m*         \u001b[31mjuncs_db\u001b[m\u001b[m*             \u001b[31msamtools_0.1.18\u001b[m\u001b[m*      \u001b[31mtophat2\u001b[m\u001b[m*\r\n",
        "COPYING               \u001b[31mcontig_to_chr_coords\u001b[m\u001b[m* \u001b[31mlong_spanning_reads\u001b[m\u001b[m*  \u001b[31msegment_juncs\u001b[m\u001b[m*        \u001b[31mtophat_reports\u001b[m\u001b[m*\r\n",
        "README                \u001b[31mfix_map_ordering\u001b[m\u001b[m*     \u001b[31mmap2gtf\u001b[m\u001b[m*              \u001b[31msra_to_solid\u001b[m\u001b[m*\r\n",
        "\u001b[31mbam2fastx\u001b[m\u001b[m*            \u001b[31mgtf_juncs\u001b[m\u001b[m*            \u001b[31mprep_reads\u001b[m\u001b[m*           \u001b[31mtophat\u001b[m\u001b[m*\r\n",
        "\u001b[31mbam_merge\u001b[m\u001b[m*            \u001b[31mgtf_to_fasta\u001b[m\u001b[m*         \u001b[31msam_juncs\u001b[m\u001b[m*            \u001b[31mtophat-fusion-post\u001b[m\u001b[m*\r\n"
       ]
      }
     ],
     "prompt_number": 4
    },
    {
     "cell_type": "code",
     "collapsed": false,
     "input": [
      "cp /Volumes/Bay3/Software/tophat-2.0.13.OSX_x86_64/tophat2 /usr/local/bin/"
     ],
     "language": "python",
     "metadata": {},
     "outputs": [],
     "prompt_number": 5
    },
    {
     "cell_type": "code",
     "collapsed": false,
     "input": [
      "!tophat2"
     ],
     "language": "python",
     "metadata": {},
     "outputs": [
      {
       "output_type": "stream",
       "stream": "stdout",
       "text": [
        "/usr/local/bin/tophat: fork: Resource temporarily unavailable\r\n"
       ]
      }
     ],
     "prompt_number": 7
    },
    {
     "cell_type": "code",
     "collapsed": false,
     "input": [],
     "language": "python",
     "metadata": {},
     "outputs": []
    }
   ],
   "metadata": {}
  }
 ]
}