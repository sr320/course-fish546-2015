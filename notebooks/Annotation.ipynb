{
 "metadata": {
  "name": "",
  "signature": "sha256:89362dee34dbf9ebce20536ba62fdf2c0e0fb14700cd6a692a142ba45f34cdf3"
 },
 "nbformat": 3,
 "nbformat_minor": 0,
 "worksheets": [
  {
   "cells": [
    {
     "cell_type": "heading",
     "level": 1,
     "metadata": {},
     "source": [
      "Annotation via Blast"
     ]
    },
    {
     "cell_type": "code",
     "collapsed": false,
     "input": [
      "#variables to set\n",
      "\n",
      "fa=\"../data/fa/Hkamtschatkana_v1.fasta\"\n",
      "\n",
      "db=\"/Users/sr320/data-genomic/blast/db/uniprot_sprot_r2015_01\"\n",
      "\n",
      "sqls=\"/Applications/bioinfo/sqlshare-pythonclient/tools/\"\n",
      "\n",
      "usr=\"sr320@washington.edu\"\n"
     ],
     "language": "python",
     "metadata": {},
     "outputs": [],
     "prompt_number": 3
    },
    {
     "cell_type": "code",
     "collapsed": false,
     "input": [
      "!head -2 {fa}"
     ],
     "language": "python",
     "metadata": {},
     "outputs": [
      {
       "output_type": "stream",
       "stream": "stdout",
       "text": [
        ">Haliotis_kam_contig1\r\n",
        "TAGAATAGGTCCATCGCATAGTATTTGGATTAATTTAATTACAGGAAATCTGTAGATAGGGAGATTGTGGCTAGGACTAAGAAAGCTCCGGCAAAATTAATAATGAAAATTGTTGGGGTTAATAGTGTGTTTACGGATAGTGGGGGATTGATGGGATTAGGTTGATTTAGGAAGTTAGTAGAGATAAGTGTTATGCTAGAAGAGAATGTTATTCTAAATAGTAGGGTTAAGTAATAAAATAAGCTTATTAAGCTTCCTAGAAGTAATGGGAAAATTAGTGCTGGGGAGGAGATGGCGCAAGAGAAAGAGATAGCTGTTCATTTTGCGGCAAACCCGAGGAGAGGGGGTATTCCGCCGAGAGATAGAAGAATAAAAATTAAAGTTAGTTGGTTTATTTTAGGATTTTCGCTTTTTAATGCTCCAATATGACGAAAGGATTTTGTATCAGAAATTCAAAGGTTTATAAAGAGACAGATTGAGATTAGGGCATAGATAAGAAAGTAGATTTTTAACGCCCTTTCTCTTGTTAGTGCACAAAACGCTATCCAGCCTACGTGGCCAATTGATGAGTAAGCGAGGAGTGTTCGAATTTGGGTTTGGTTGATTCCACCTAGTCCGCCGATAAGGCTCGATATTCCTGCTATAATGAATAGCGTAGAGATGATGGATGGGTAATTTCATCTTTGTGTTATGGCAGTTAGCAGGAATACTGGAGCTAATTTCTGTCAGGTGGTGAGAATGAGGCAGTTTAATCAGGAAATGTTTATTATTACTTCTGGGAGCCAAAAATGGAATGGGAATGCACCAAGTTTTAGGAATAGGCTAAGGATAATTAGGGTTAGTCCGAGGACGCTTGTGTTTTGTTGATAAACTTCCCATGAGAGAGACATGTTAAAGGAGAGAAGGCTACCAAATATTAGTATTCTTGACCCTAGTGCTTGTATGATAAAATATTTGATCCTAGATTCGGTTTCTATCGTTAGTCCCCGGTAGATTAGTAGGGGGATAAATCCTATTATATTAATTTCTAGTCCTATCCAGATTCTCAGTCAGTGGATGGATGACAGGGAGAGAAGGGAGCCAAGGAAGGTAATGAAAGAAAATAAGAATCCGAACGGCATTATTGATAGCATTTT\r\n"
       ]
      }
     ],
     "prompt_number": 5
    },
    {
     "cell_type": "code",
     "collapsed": false,
     "input": [
      "#needs attention for blastoutput\n",
      "sp= !head -1 {fa} | rev | cut -c 9- | rev | tail -c +2"
     ],
     "language": "python",
     "metadata": {},
     "outputs": [],
     "prompt_number": 28
    },
    {
     "cell_type": "code",
     "collapsed": false,
     "input": [
      "sp"
     ],
     "language": "python",
     "metadata": {},
     "outputs": [
      {
       "metadata": {},
       "output_type": "pyout",
       "prompt_number": 30,
       "text": [
        "['Haliotis_kam']"
       ]
      }
     ],
     "prompt_number": 30
    },
    {
     "cell_type": "code",
     "collapsed": false,
     "input": [
      "!fgrep -c \">\" {fa}\n"
     ],
     "language": "python",
     "metadata": {},
     "outputs": [
      {
       "output_type": "stream",
       "stream": "stdout",
       "text": [
        "8641\r\n"
       ]
      }
     ],
     "prompt_number": 6
    },
    {
     "cell_type": "heading",
     "level": 2,
     "metadata": {},
     "source": [
      "Blast"
     ]
    },
    {
     "cell_type": "code",
     "collapsed": false,
     "input": [
      "!blastx \\\n",
      "-query {fa} \\\n",
      "-db {db} \\\n",
      "-max_target_seqs 1 \\\n",
      "-max_hsps 1 \\\n",
      "-outfmt 6 \\\n",
      "-evalue 1E-05 \\\n",
      "-num_threads 6 \\\n",
      "-out ../analyses/{sp}_sprot.tab"
     ],
     "language": "python",
     "metadata": {},
     "outputs": []
    },
    {
     "cell_type": "code",
     "collapsed": false,
     "input": [],
     "language": "python",
     "metadata": {},
     "outputs": []
    }
   ],
   "metadata": {}
  }
 ]
}