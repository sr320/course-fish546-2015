{
 "metadata": {
  "name": "",
  "signature": "sha256:0cdba6bf725e74dd358ef7f3697c613e671e89b12dbe491cf8db58d4fe79d259"
 },
 "nbformat": 3,
 "nbformat_minor": 0,
 "worksheets": [
  {
   "cells": [
    {
     "cell_type": "heading",
     "level": 1,
     "metadata": {},
     "source": [
      "Annotation via Blast"
     ]
    },
    {
     "cell_type": "code",
     "collapsed": false,
     "input": [
      "#variables to set\n",
      "\n",
      "fa=\"../data/fa/Ahyacinthus_v1.fasta\"\n",
      "\n",
      "db=\"/Applications/BLAST/ncbi-blast-2.2.29\\+/db/uniprot_sprot_r2013_12\"\n",
      "\n",
      "sqls=\"/Users/sr320/sqlshare-pythonclient/tools/\"\n",
      "\n",
      "usr=\"sr320@washington.edu\"\n",
      "\n",
      "sp=\"Ahyacinthus\"\n"
     ],
     "language": "python",
     "metadata": {},
     "outputs": [],
     "prompt_number": 3
    },
    {
     "cell_type": "code",
     "collapsed": false,
     "input": [
      "!head -2 {fa}"
     ],
     "language": "python",
     "metadata": {},
     "outputs": [
      {
       "output_type": "stream",
       "stream": "stdout",
       "text": [
        ">contig27\r\n",
        "CAAAATTCCAGCACTCCGTTTTGCATGGTAAACTTGTCTTAGTAGGACACTGTGGAAGATGTACAGCGCAAGACATCACAGTTGCAAGCGCCGACGAACAGCTGTTAAACTCTCCTCTCATATTCTCGAACAAACCAAATATTTCTTCCTCTCTGTTGTTGCTAACCTTTGAATATATGAAGCTGGCATTAGCACAGGACTCAAAGTTTCCGCCGAGCAGTTT\r\n"
       ]
      }
     ],
     "prompt_number": 4
    },
    {
     "cell_type": "code",
     "collapsed": false,
     "input": [
      "!fgrep -c \">\" {fa}\n"
     ],
     "language": "python",
     "metadata": {},
     "outputs": [
      {
       "output_type": "stream",
       "stream": "stdout",
       "text": [
        "33496\r\n"
       ]
      }
     ],
     "prompt_number": 5
    },
    {
     "cell_type": "heading",
     "level": 2,
     "metadata": {},
     "source": [
      "Blast"
     ]
    },
    {
     "cell_type": "code",
     "collapsed": false,
     "input": [
      "!/Applications/BLAST/ncbi-blast-2.2.29\\+/bin/blastx \\\n",
      "-query {fa} \\\n",
      "-db {db} \\\n",
      "-max_target_seqs 1 \\\n",
      "-max_hsps 1 \\\n",
      "-outfmt 6 \\\n",
      "-evalue 1E-05 \\\n",
      "-num_threads 3 \\\n",
      "-out ../analyses/{sp}_sprot.tab"
     ],
     "language": "python",
     "metadata": {},
     "outputs": [
      {
       "output_type": "stream",
       "stream": "stdout",
       "text": [
        "Selenocysteine (U) at position 123 replaced by X\r\n",
        "Selenocysteine (U) at position 126 replaced by X\r\n",
        "Selenocysteine (U) at position 126 replaced by X\r\n",
        "Selenocysteine (U) at position 126 replaced by X\r\n",
        "Selenocysteine (U) at position 126 replaced by X\r\n",
        "Selenocysteine (U) at position 126 replaced by X\r\n",
        "Selenocysteine (U) at position 126 replaced by X\r\n",
        "Selenocysteine (U) at position 133 replaced by X\r\n",
        "Selenocysteine (U) at position 266 replaced by X\r\n",
        "Selenocysteine (U) at position 132 replaced by X\r\n",
        "Selenocysteine (U) at position 265 replaced by X\r\n",
        "Selenocysteine (U) at position 134 replaced by X\r\n",
        "Selenocysteine (U) at position 133 replaced by X\r\n",
        "Selenocysteine (U) at position 266 replaced by X\r\n",
        "Selenocysteine (U) at position 124 replaced by X\r\n",
        "Selenocysteine (U) at position 130 replaced by X\r\n",
        "Selenocysteine (U) at position 263 replaced by X\r\n",
        "Selenocysteine (U) at position 128 replaced by X\r\n",
        "Selenocysteine (U) at position 261 replaced by X\r\n",
        "Selenocysteine (U) at position 160 replaced by X\r\n",
        "Selenocysteine (U) at position 133 replaced by X\r\n",
        "Selenocysteine (U) at position 266 replaced by X\r\n",
        "Selenocysteine (U) at position 130 replaced by X\r\n",
        "Selenocysteine (U) at position 263 replaced by X\r\n",
        "Selenocysteine (U) at position 144 replaced by X\r\n",
        "Selenocysteine (U) at position 122 replaced by X\r\n",
        "Selenocysteine (U) at position 144 replaced by X\r\n",
        "Selenocysteine (U) at position 133 replaced by X\r\n",
        "Selenocysteine (U) at position 144 replaced by X\r\n",
        "Selenocysteine (U) at position 144 replaced by X\r\n",
        "Selenocysteine (U) at position 144 replaced by X\r\n",
        "Selenocysteine (U) at position 144 replaced by X\r\n",
        "Selenocysteine (U) at position 131 replaced by X\r\n",
        "Selenocysteine (U) at position 132 replaced by X\r\n"
       ]
      },
      {
       "output_type": "stream",
       "stream": "stdout",
       "text": [
        "Selenocysteine (U) at position 126 replaced by X\r\n",
        "Selenocysteine (U) at position 128 replaced by X\r\n",
        "Selenocysteine (U) at position 261 replaced by X\r\n",
        "Selenocysteine (U) at position 144 replaced by X\r\n",
        "Selenocysteine (U) at position 122 replaced by X\r\n",
        "Selenocysteine (U) at position 144 replaced by X\r\n",
        "Selenocysteine (U) at position 133 replaced by X\r\n",
        "Selenocysteine (U) at position 144 replaced by X\r\n",
        "Selenocysteine (U) at position 144 replaced by X\r\n",
        "Selenocysteine (U) at position 144 replaced by X\r\n",
        "Selenocysteine (U) at position 144 replaced by X\r\n",
        "Selenocysteine (U) at position 132 replaced by X\r\n"
       ]
      },
      {
       "output_type": "stream",
       "stream": "stdout",
       "text": [
        "Selenocysteine (U) at position 637 replaced by X\r\n",
        "Selenocysteine (U) at position 690 replaced by X\r\n"
       ]
      },
      {
       "output_type": "stream",
       "stream": "stdout",
       "text": [
        "Selenocysteine (U) at position 637 replaced by X\r\n",
        "Selenocysteine (U) at position 690 replaced by X\r\n"
       ]
      },
      {
       "output_type": "stream",
       "stream": "stdout",
       "text": [
        "Selenocysteine (U) at position 637 replaced by X\r\n",
        "Selenocysteine (U) at position 690 replaced by X\r\n"
       ]
      },
      {
       "output_type": "stream",
       "stream": "stdout",
       "text": [
        "Selenocysteine (U) at position 637 replaced by X\r\n",
        "Selenocysteine (U) at position 690 replaced by X\r\n"
       ]
      },
      {
       "output_type": "stream",
       "stream": "stdout",
       "text": [
        "Selenocysteine (U) at position 637 replaced by X\r\n"
       ]
      },
      {
       "output_type": "stream",
       "stream": "stdout",
       "text": [
        "Selenocysteine (U) at position 498 replaced by X\r\n"
       ]
      },
      {
       "output_type": "stream",
       "stream": "stdout",
       "text": [
        "Selenocysteine (U) at position 666 replaced by X\r\n",
        "Selenocysteine (U) at position 494 replaced by X\r\n",
        "Selenocysteine (U) at position 648 replaced by X\r\n",
        "Selenocysteine (U) at position 612 replaced by X\r\n",
        "Selenocysteine (U) at position 498 replaced by X\r\n",
        "Selenocysteine (U) at position 498 replaced by X\r\n",
        "Selenocysteine (U) at position 498 replaced by X\r\n",
        "Selenocysteine (U) at position 510 replaced by X\r\n",
        "Selenocysteine (U) at position 523 replaced by X\r\n",
        "Selenocysteine (U) at position 523 replaced by X\r\n",
        "Selenocysteine (U) at position 525 replaced by X\r\n",
        "Selenocysteine (U) at position 642 replaced by X\r\n",
        "Selenocysteine (U) at position 651 replaced by X\r\n"
       ]
      },
      {
       "output_type": "stream",
       "stream": "stdout",
       "text": [
        "Selenocysteine (U) at position 18 replaced by X\r\n",
        "Selenocysteine (U) at position 13 replaced by X\r\n",
        "Selenocysteine (U) at position 17 replaced by X\r\n",
        "Selenocysteine (U) at position 17 replaced by X\r\n",
        "Selenocysteine (U) at position 15 replaced by X\r\n",
        "Selenocysteine (U) at position 17 replaced by X\r\n",
        "Selenocysteine (U) at position 15 replaced by X\r\n",
        "Selenocysteine (U) at position 15 replaced by X\r\n",
        "Selenocysteine (U) at position 25 replaced by X\r\n",
        "Selenocysteine (U) at position 16 replaced by X\r\n",
        "Selenocysteine (U) at position 13 replaced by X\r\n",
        "Selenocysteine (U) at position 16 replaced by X\r\n",
        "Selenocysteine (U) at position 16 replaced by X\r\n",
        "Selenocysteine (U) at position 19 replaced by X\r\n",
        "Selenocysteine (U) at position 16 replaced by X\r\n",
        "Selenocysteine (U) at position 7 replaced by X\r\n"
       ]
      },
      {
       "output_type": "stream",
       "stream": "stdout",
       "text": [
        "Selenocysteine (U) at position 16 replaced by X\r\n",
        "Selenocysteine (U) at position 21 replaced by X\r\n",
        "Selenocysteine (U) at position 24 replaced by X\r\n",
        "Selenocysteine (U) at position 60 replaced by X\r\n",
        "Selenocysteine (U) at position 63 replaced by X\r\n",
        "Selenocysteine (U) at position 63 replaced by X\r\n"
       ]
      },
      {
       "output_type": "stream",
       "stream": "stdout",
       "text": [
        "Selenocysteine (U) at position 121 replaced by X\r\n",
        "Selenocysteine (U) at position 123 replaced by X\r\n",
        "Selenocysteine (U) at position 121 replaced by X\r\n",
        "Selenocysteine (U) at position 126 replaced by X\r\n",
        "Selenocysteine (U) at position 126 replaced by X\r\n",
        "Selenocysteine (U) at position 126 replaced by X\r\n",
        "Selenocysteine (U) at position 126 replaced by X\r\n",
        "Selenocysteine (U) at position 126 replaced by X\r\n",
        "Selenocysteine (U) at position 126 replaced by X\r\n",
        "Selenocysteine (U) at position 126 replaced by X\r\n",
        "Selenocysteine (U) at position 126 replaced by X\r\n",
        "Selenocysteine (U) at position 130 replaced by X\r\n",
        "Selenocysteine (U) at position 133 replaced by X\r\n",
        "Selenocysteine (U) at position 266 replaced by X\r\n",
        "Selenocysteine (U) at position 132 replaced by X\r\n",
        "Selenocysteine (U) at position 265 replaced by X\r\n",
        "Selenocysteine (U) at position 134 replaced by X\r\n",
        "Selenocysteine (U) at position 133 replaced by X\r\n",
        "Selenocysteine (U) at position 266 replaced by X\r\n",
        "Selenocysteine (U) at position 124 replaced by X\r\n",
        "Selenocysteine (U) at position 130 replaced by X\r\n",
        "Selenocysteine (U) at position 263 replaced by X\r\n",
        "Selenocysteine (U) at position 128 replaced by X\r\n",
        "Selenocysteine (U) at position 261 replaced by X\r\n",
        "Selenocysteine (U) at position 160 replaced by X\r\n",
        "Selenocysteine (U) at position 133 replaced by X\r\n",
        "Selenocysteine (U) at position 266 replaced by X\r\n",
        "Selenocysteine (U) at position 130 replaced by X\r\n",
        "Selenocysteine (U) at position 263 replaced by X\r\n",
        "Selenocysteine (U) at position 144 replaced by X\r\n",
        "Selenocysteine (U) at position 122 replaced by X\r\n",
        "Selenocysteine (U) at position 144 replaced by X\r\n",
        "Selenocysteine (U) at position 133 replaced by X\r\n",
        "Selenocysteine (U) at position 144 replaced by X\r\n",
        "Selenocysteine (U) at position 144 replaced by X\r\n",
        "Selenocysteine (U) at position 144 replaced by X\r\n",
        "Selenocysteine (U) at position 144 replaced by X\r\n",
        "Selenocysteine (U) at position 131 replaced by X\r\n",
        "Selenocysteine (U) at position 132 replaced by X\r\n"
       ]
      },
      {
       "output_type": "stream",
       "stream": "stdout",
       "text": [
        "Selenocysteine (U) at position 637 replaced by X\r\n"
       ]
      },
      {
       "output_type": "stream",
       "stream": "stdout",
       "text": [
        "Selenocysteine (U) at position 690 replaced by X\r\n"
       ]
      },
      {
       "output_type": "stream",
       "stream": "stdout",
       "text": [
        "Selenocysteine (U) at position 637 replaced by X\r\n"
       ]
      },
      {
       "output_type": "stream",
       "stream": "stdout",
       "text": [
        "Selenocysteine (U) at position 637 replaced by X\r\n",
        "Selenocysteine (U) at position 690 replaced by X\r\n"
       ]
      },
      {
       "output_type": "stream",
       "stream": "stdout",
       "text": [
        "Selenocysteine (U) at position 25 replaced by X\r\n"
       ]
      },
      {
       "output_type": "stream",
       "stream": "stdout",
       "text": [
        "Selenocysteine (U) at position 60 replaced by X\r\n",
        "Selenocysteine (U) at position 63 replaced by X\r\n",
        "Selenocysteine (U) at position 63 replaced by X\r\n"
       ]
      },
      {
       "output_type": "stream",
       "stream": "stdout",
       "text": [
        "Selenocysteine (U) at position 637 replaced by X\r\n",
        "Selenocysteine (U) at position 690 replaced by X\r\n"
       ]
      },
      {
       "output_type": "stream",
       "stream": "stdout",
       "text": [
        "Selenocysteine (U) at position 498 replaced by X\r\n",
        "Selenocysteine (U) at position 666 replaced by X\r\n",
        "Selenocysteine (U) at position 494 replaced by X\r\n",
        "Selenocysteine (U) at position 648 replaced by X\r\n",
        "Selenocysteine (U) at position 612 replaced by X\r\n",
        "Selenocysteine (U) at position 498 replaced by X\r\n",
        "Selenocysteine (U) at position 498 replaced by X\r\n",
        "Selenocysteine (U) at position 498 replaced by X\r\n",
        "Selenocysteine (U) at position 510 replaced by X\r\n"
       ]
      },
      {
       "output_type": "stream",
       "stream": "stdout",
       "text": [
        "Selenocysteine (U) at position 523 replaced by X\r\n",
        "Selenocysteine (U) at position 523 replaced by X\r\n",
        "Selenocysteine (U) at position 525 replaced by X\r\n",
        "Selenocysteine (U) at position 642 replaced by X\r\n",
        "Selenocysteine (U) at position 651 replaced by X\r\n"
       ]
      },
      {
       "output_type": "stream",
       "stream": "stdout",
       "text": [
        "Selenocysteine (U) at position 65 replaced by X\r\n",
        "Selenocysteine (U) at position 47 replaced by X\r\n",
        "Selenocysteine (U) at position 47 replaced by X\r\n",
        "Selenocysteine (U) at position 49 replaced by X\r\n",
        "Selenocysteine (U) at position 53 replaced by X\r\n",
        "Selenocysteine (U) at position 49 replaced by X\r\n",
        "Selenocysteine (U) at position 49 replaced by X\r\n",
        "Selenocysteine (U) at position 49 replaced by X\r\n",
        "Selenocysteine (U) at position 54 replaced by X\r\n"
       ]
      },
      {
       "output_type": "stream",
       "stream": "stdout",
       "text": [
        "Selenocysteine (U) at position 93 replaced by X\r\n",
        "Selenocysteine (U) at position 84 replaced by X\r\n",
        "Selenocysteine (U) at position 93 replaced by X\r\n",
        "Selenocysteine (U) at position 93 replaced by X\r\n",
        "Selenocysteine (U) at position 93 replaced by X\r\n",
        "Selenocysteine (U) at position 93 replaced by X\r\n"
       ]
      },
      {
       "output_type": "stream",
       "stream": "stdout",
       "text": [
        "Selenocysteine (U) at position 60 replaced by X\r\n",
        "Selenocysteine (U) at position 63 replaced by X\r\n",
        "Selenocysteine (U) at position 63 replaced by X\r\n"
       ]
      },
      {
       "output_type": "stream",
       "stream": "stdout",
       "text": [
        "Selenocysteine (U) at position 93 replaced by X\r\n",
        "Selenocysteine (U) at position 84 replaced by X\r\n",
        "Selenocysteine (U) at position 93 replaced by X\r\n",
        "Selenocysteine (U) at position 93 replaced by X\r\n",
        "Selenocysteine (U) at position 84 replaced by X\r\n",
        "Selenocysteine (U) at position 93 replaced by X\r\n",
        "Selenocysteine (U) at position 93 replaced by X\r\n"
       ]
      },
      {
       "output_type": "stream",
       "stream": "stdout",
       "text": [
        "Selenocysteine (U) at position 498 replaced by X\r\n",
        "Selenocysteine (U) at position 666 replaced by X\r\n",
        "Selenocysteine (U) at position 494 replaced by X\r\n",
        "Selenocysteine (U) at position 648 replaced by X\r\n",
        "Selenocysteine (U) at position 612 replaced by X\r\n",
        "Selenocysteine (U) at position 498 replaced by X\r\n",
        "Selenocysteine (U) at position 498 replaced by X\r\n",
        "Selenocysteine (U) at position 498 replaced by X\r\n",
        "Selenocysteine (U) at position 510 replaced by X\r\n",
        "Selenocysteine (U) at position 523 replaced by X\r\n",
        "Selenocysteine (U) at position 523 replaced by X\r\n",
        "Selenocysteine (U) at position 525 replaced by X\r\n"
       ]
      },
      {
       "output_type": "stream",
       "stream": "stdout",
       "text": [
        "Selenocysteine (U) at position 690 replaced by X\r\n",
        "Selenocysteine (U) at position 667 replaced by X\r\n",
        "Selenocysteine (U) at position 665 replaced by X\r\n"
       ]
      },
      {
       "output_type": "stream",
       "stream": "stdout",
       "text": [
        "Selenocysteine (U) at position 498 replaced by X\r\n",
        "Selenocysteine (U) at position 666 replaced by X\r\n",
        "Selenocysteine (U) at position 494 replaced by X\r\n",
        "Selenocysteine (U) at position 648 replaced by X\r\n",
        "Selenocysteine (U) at position 612 replaced by X\r\n",
        "Selenocysteine (U) at position 498 replaced by X\r\n",
        "Selenocysteine (U) at position 498 replaced by X\r\n",
        "Selenocysteine (U) at position 498 replaced by X\r\n",
        "Selenocysteine (U) at position 510 replaced by X\r\n",
        "Selenocysteine (U) at position 523 replaced by X\r\n",
        "Selenocysteine (U) at position 523 replaced by X\r\n",
        "Selenocysteine (U) at position 525 replaced by X\r\n",
        "Selenocysteine (U) at position 642 replaced by X\r\n",
        "Selenocysteine (U) at position 651 replaced by X\r\n"
       ]
      },
      {
       "output_type": "stream",
       "stream": "stdout",
       "text": [
        "Selenocysteine (U) at position 637 replaced by X\r\n"
       ]
      },
      {
       "output_type": "stream",
       "stream": "stdout",
       "text": [
        "Selenocysteine (U) at position 690 replaced by X\r\n"
       ]
      },
      {
       "output_type": "stream",
       "stream": "stdout",
       "text": [
        "Selenocysteine (U) at position 637 replaced by X\r\n",
        "Selenocysteine (U) at position 690 replaced by X\r\n"
       ]
      },
      {
       "output_type": "stream",
       "stream": "stdout",
       "text": [
        "Selenocysteine (U) at position 690 replaced by X\r\n"
       ]
      },
      {
       "output_type": "stream",
       "stream": "stdout",
       "text": [
        "Selenocysteine (U) at position 637 replaced by X\r\n",
        "Selenocysteine (U) at position 690 replaced by X\r\n"
       ]
      },
      {
       "output_type": "stream",
       "stream": "stdout",
       "text": [
        "Selenocysteine (U) at position 47 replaced by X\r\n"
       ]
      },
      {
       "output_type": "stream",
       "stream": "stdout",
       "text": [
        "Selenocysteine (U) at position 85 replaced by X\r\n",
        "Selenocysteine (U) at position 74 replaced by X\r\n"
       ]
      },
      {
       "output_type": "stream",
       "stream": "stdout",
       "text": [
        "Selenocysteine (U) at position 121 replaced by X\r\n",
        "Selenocysteine (U) at position 123 replaced by X\r\n",
        "Selenocysteine (U) at position 121 replaced by X\r\n",
        "Selenocysteine (U) at position 126 replaced by X\r\n",
        "Selenocysteine (U) at position 126 replaced by X\r\n",
        "Selenocysteine (U) at position 126 replaced by X\r\n",
        "Selenocysteine (U) at position 126 replaced by X\r\n",
        "Selenocysteine (U) at position 126 replaced by X\r\n",
        "Selenocysteine (U) at position 126 replaced by X\r\n",
        "Selenocysteine (U) at position 126 replaced by X\r\n",
        "Selenocysteine (U) at position 126 replaced by X\r\n",
        "Selenocysteine (U) at position 130 replaced by X\r\n",
        "Selenocysteine (U) at position 133 replaced by X\r\n",
        "Selenocysteine (U) at position 266 replaced by X\r\n",
        "Selenocysteine (U) at position 132 replaced by X\r\n",
        "Selenocysteine (U) at position 265 replaced by X\r\n",
        "Selenocysteine (U) at position 134 replaced by X\r\n",
        "Selenocysteine (U) at position 133 replaced by X\r\n",
        "Selenocysteine (U) at position 266 replaced by X\r\n",
        "Selenocysteine (U) at position 124 replaced by X\r\n",
        "Selenocysteine (U) at position 130 replaced by X\r\n",
        "Selenocysteine (U) at position 263 replaced by X\r\n",
        "Selenocysteine (U) at position 128 replaced by X\r\n",
        "Selenocysteine (U) at position 261 replaced by X\r\n",
        "Selenocysteine (U) at position 160 replaced by X\r\n",
        "Selenocysteine (U) at position 133 replaced by X\r\n",
        "Selenocysteine (U) at position 266 replaced by X\r\n",
        "Selenocysteine (U) at position 130 replaced by X\r\n",
        "Selenocysteine (U) at position 263 replaced by X\r\n",
        "Selenocysteine (U) at position 144 replaced by X\r\n",
        "Selenocysteine (U) at position 122 replaced by X\r\n",
        "Selenocysteine (U) at position 144 replaced by X\r\n",
        "Selenocysteine (U) at position 133 replaced by X\r\n",
        "Selenocysteine (U) at position 144 replaced by X\r\n",
        "Selenocysteine (U) at position 144 replaced by X\r\n",
        "Selenocysteine (U) at position 144 replaced by X\r\n",
        "Selenocysteine (U) at position 144 replaced by X\r\n",
        "Selenocysteine (U) at position 131 replaced by X\r\n",
        "Selenocysteine (U) at position 132 replaced by X\r\n"
       ]
      },
      {
       "output_type": "stream",
       "stream": "stdout",
       "text": [
        "Selenocysteine (U) at position 637 replaced by X\r\n",
        "Selenocysteine (U) at position 690 replaced by X\r\n"
       ]
      },
      {
       "output_type": "stream",
       "stream": "stdout",
       "text": [
        "Selenocysteine (U) at position 131 replaced by X\r\n"
       ]
      },
      {
       "output_type": "stream",
       "stream": "stdout",
       "text": [
        "Selenocysteine (U) at position 637 replaced by X\r\n",
        "Selenocysteine (U) at position 690 replaced by X\r\n"
       ]
      },
      {
       "output_type": "stream",
       "stream": "stdout",
       "text": [
        "Selenocysteine (U) at position 637 replaced by X\r\n",
        "Selenocysteine (U) at position 690 replaced by X\r\n"
       ]
      },
      {
       "output_type": "stream",
       "stream": "stdout",
       "text": [
        "Selenocysteine (U) at position 637 replaced by X\r\n",
        "Selenocysteine (U) at position 690 replaced by X\r\n"
       ]
      },
      {
       "output_type": "stream",
       "stream": "stdout",
       "text": [
        "Selenocysteine (U) at position 47 replaced by X\r\n"
       ]
      },
      {
       "output_type": "stream",
       "stream": "stdout",
       "text": [
        "Selenocysteine (U) at position 47 replaced by X\r\n"
       ]
      },
      {
       "output_type": "stream",
       "stream": "stdout",
       "text": [
        "Selenocysteine (U) at position 93 replaced by X\r\n",
        "Selenocysteine (U) at position 92 replaced by X\r\n",
        "Selenocysteine (U) at position 92 replaced by X\r\n",
        "Selenocysteine (U) at position 92 replaced by X\r\n",
        "Selenocysteine (U) at position 92 replaced by X\r\n",
        "Selenocysteine (U) at position 92 replaced by X\r\n",
        "Selenocysteine (U) at position 92 replaced by X\r\n",
        "Selenocysteine (U) at position 92 replaced by X\r\n",
        "Selenocysteine (U) at position 93 replaced by X\r\n",
        "Selenocysteine (U) at position 93 replaced by X\r\n"
       ]
      },
      {
       "output_type": "stream",
       "stream": "stdout",
       "text": [
        "Selenocysteine (U) at position 44 replaced by X\r\n",
        "Selenocysteine (U) at position 44 replaced by X\r\n",
        "Selenocysteine (U) at position 38 replaced by X\r\n"
       ]
      },
      {
       "output_type": "stream",
       "stream": "stdout",
       "text": [
        "Selenocysteine (U) at position 642 replaced by X\r\n",
        "Selenocysteine (U) at position 651 replaced by X\r\n"
       ]
      },
      {
       "output_type": "stream",
       "stream": "stdout",
       "text": [
        "Selenocysteine (U) at position 52 replaced by X\r\n",
        "Selenocysteine (U) at position 47 replaced by X\r\n",
        "Selenocysteine (U) at position 47 replaced by X\r\n",
        "Selenocysteine (U) at position 49 replaced by X\r\n",
        "Selenocysteine (U) at position 47 replaced by X\r\n",
        "Selenocysteine (U) at position 47 replaced by X\r\n",
        "Selenocysteine (U) at position 47 replaced by X\r\n",
        "Selenocysteine (U) at position 47 replaced by X\r\n",
        "Selenocysteine (U) at position 52 replaced by X\r\n",
        "Selenocysteine (U) at position 47 replaced by X\r\n",
        "Selenocysteine (U) at position 46 replaced by X\r\n",
        "Selenocysteine (U) at position 47 replaced by X\r\n",
        "Selenocysteine (U) at position 43 replaced by X\r\n",
        "Selenocysteine (U) at position 40 replaced by X\r\n",
        "Selenocysteine (U) at position 40 replaced by X\r\n",
        "Selenocysteine (U) at position 40 replaced by X\r\n",
        "Selenocysteine (U) at position 40 replaced by X\r\n",
        "Selenocysteine (U) at position 40 replaced by X\r\n",
        "Selenocysteine (U) at position 40 replaced by X\r\n",
        "Selenocysteine (U) at position 40 replaced by X\r\n",
        "Selenocysteine (U) at position 40 replaced by X\r\n",
        "Selenocysteine (U) at position 73 replaced by X\r\n",
        "Selenocysteine (U) at position 73 replaced by X\r\n",
        "Selenocysteine (U) at position 73 replaced by X\r\n",
        "Selenocysteine (U) at position 73 replaced by X\r\n",
        "Selenocysteine (U) at position 73 replaced by X\r\n",
        "Selenocysteine (U) at position 73 replaced by X\r\n",
        "Selenocysteine (U) at position 73 replaced by X\r\n",
        "Selenocysteine (U) at position 73 replaced by X\r\n",
        "Selenocysteine (U) at position 73 replaced by X\r\n",
        "Selenocysteine (U) at position 64 replaced by X\r\n",
        "Selenocysteine (U) at position 28 replaced by X\r\n"
       ]
      },
      {
       "output_type": "stream",
       "stream": "stdout",
       "text": [
        "Selenocysteine (U) at position 47 replaced by X\r\n"
       ]
      },
      {
       "output_type": "stream",
       "stream": "stdout",
       "text": [
        "Selenocysteine (U) at position 690 replaced by X\r\n",
        "Selenocysteine (U) at position 667 replaced by X\r\n",
        "Selenocysteine (U) at position 665 replaced by X\r\n"
       ]
      },
      {
       "output_type": "stream",
       "stream": "stdout",
       "text": [
        "Selenocysteine (U) at position 93 replaced by X\r\n",
        "Selenocysteine (U) at position 95 replaced by X\r\n",
        "Selenocysteine (U) at position 95 replaced by X\r\n",
        "Selenocysteine (U) at position 95 replaced by X\r\n",
        "Selenocysteine (U) at position 95 replaced by X\r\n",
        "Selenocysteine (U) at position 95 replaced by X\r\n",
        "Selenocysteine (U) at position 95 replaced by X\r\n"
       ]
      },
      {
       "output_type": "stream",
       "stream": "stdout",
       "text": [
        "Selenocysteine (U) at position 637 replaced by X\r\n"
       ]
      },
      {
       "output_type": "stream",
       "stream": "stdout",
       "text": [
        "Selenocysteine (U) at position 637 replaced by X\r\n"
       ]
      },
      {
       "output_type": "stream",
       "stream": "stdout",
       "text": [
        "Selenocysteine (U) at position 637 replaced by X\r\n"
       ]
      },
      {
       "output_type": "stream",
       "stream": "stdout",
       "text": [
        "Selenocysteine (U) at position 52 replaced by X\r\n",
        "Selenocysteine (U) at position 47 replaced by X\r\n",
        "Selenocysteine (U) at position 47 replaced by X\r\n",
        "Selenocysteine (U) at position 49 replaced by X\r\n",
        "Selenocysteine (U) at position 47 replaced by X\r\n",
        "Selenocysteine (U) at position 47 replaced by X\r\n",
        "Selenocysteine (U) at position 47 replaced by X\r\n",
        "Selenocysteine (U) at position 47 replaced by X\r\n",
        "Selenocysteine (U) at position 52 replaced by X\r\n",
        "Selenocysteine (U) at position 47 replaced by X\r\n",
        "Selenocysteine (U) at position 46 replaced by X\r\n",
        "Selenocysteine (U) at position 47 replaced by X\r\n",
        "Selenocysteine (U) at position 40 replaced by X\r\n",
        "Selenocysteine (U) at position 40 replaced by X\r\n",
        "Selenocysteine (U) at position 40 replaced by X\r\n",
        "Selenocysteine (U) at position 40 replaced by X\r\n",
        "Selenocysteine (U) at position 40 replaced by X\r\n",
        "Selenocysteine (U) at position 40 replaced by X\r\n",
        "Selenocysteine (U) at position 40 replaced by X\r\n",
        "Selenocysteine (U) at position 40 replaced by X\r\n",
        "Selenocysteine (U) at position 73 replaced by X\r\n",
        "Selenocysteine (U) at position 73 replaced by X\r\n",
        "Selenocysteine (U) at position 73 replaced by X\r\n",
        "Selenocysteine (U) at position 73 replaced by X\r\n",
        "Selenocysteine (U) at position 73 replaced by X\r\n",
        "Selenocysteine (U) at position 73 replaced by X\r\n",
        "Selenocysteine (U) at position 73 replaced by X\r\n",
        "Selenocysteine (U) at position 73 replaced by X\r\n",
        "Selenocysteine (U) at position 73 replaced by X\r\n",
        "Selenocysteine (U) at position 129 replaced by X\r\n",
        "Selenocysteine (U) at position 73 replaced by X\r\n",
        "Selenocysteine (U) at position 73 replaced by X\r\n",
        "Selenocysteine (U) at position 73 replaced by X\r\n",
        "Selenocysteine (U) at position 73 replaced by X\r\n",
        "Selenocysteine (U) at position 73 replaced by X\r\n",
        "Selenocysteine (U) at position 64 replaced by X\r\n",
        "Selenocysteine (U) at position 28 replaced by X\r\n"
       ]
      },
      {
       "output_type": "stream",
       "stream": "stdout",
       "text": [
        "Selenocysteine (U) at position 637 replaced by X\r\n",
        "Selenocysteine (U) at position 690 replaced by X\r\n"
       ]
      },
      {
       "output_type": "stream",
       "stream": "stdout",
       "text": [
        "Selenocysteine (U) at position 498 replaced by X\r\n",
        "Selenocysteine (U) at position 666 replaced by X\r\n",
        "Selenocysteine (U) at position 494 replaced by X\r\n",
        "Selenocysteine (U) at position 648 replaced by X\r\n",
        "Selenocysteine (U) at position 612 replaced by X\r\n",
        "Selenocysteine (U) at position 498 replaced by X\r\n",
        "Selenocysteine (U) at position 498 replaced by X\r\n",
        "Selenocysteine (U) at position 498 replaced by X\r\n",
        "Selenocysteine (U) at position 510 replaced by X\r\n",
        "Selenocysteine (U) at position 523 replaced by X\r\n",
        "Selenocysteine (U) at position 523 replaced by X\r\n",
        "Selenocysteine (U) at position 525 replaced by X\r\n",
        "Selenocysteine (U) at position 642 replaced by X\r\n",
        "Selenocysteine (U) at position 651 replaced by X\r\n"
       ]
      },
      {
       "output_type": "stream",
       "stream": "stdout",
       "text": [
        "Selenocysteine (U) at position 106 replaced by X\r\n"
       ]
      },
      {
       "output_type": "stream",
       "stream": "stdout",
       "text": [
        "Selenocysteine (U) at position 498 replaced by X\r\n",
        "Selenocysteine (U) at position 494 replaced by X\r\n",
        "Selenocysteine (U) at position 648 replaced by X\r\n",
        "Selenocysteine (U) at position 612 replaced by X\r\n",
        "Selenocysteine (U) at position 498 replaced by X\r\n",
        "Selenocysteine (U) at position 498 replaced by X\r\n",
        "Selenocysteine (U) at position 498 replaced by X\r\n",
        "Selenocysteine (U) at position 510 replaced by X\r\n",
        "Selenocysteine (U) at position 523 replaced by X\r\n",
        "Selenocysteine (U) at position 523 replaced by X\r\n",
        "Selenocysteine (U) at position 525 replaced by X\r\n",
        "Selenocysteine (U) at position 642 replaced by X\r\n"
       ]
      },
      {
       "output_type": "stream",
       "stream": "stdout",
       "text": [
        "Selenocysteine (U) at position 690 replaced by X\r\n"
       ]
      },
      {
       "output_type": "stream",
       "stream": "stdout",
       "text": [
        "Selenocysteine (U) at position 637 replaced by X\r\n"
       ]
      },
      {
       "output_type": "stream",
       "stream": "stdout",
       "text": [
        "Selenocysteine (U) at position 690 replaced by X\r\n"
       ]
      },
      {
       "output_type": "stream",
       "stream": "stdout",
       "text": [
        "Selenocysteine (U) at position 13 replaced by X\r\n"
       ]
      },
      {
       "output_type": "stream",
       "stream": "stdout",
       "text": [
        "Selenocysteine (U) at position 637 replaced by X\r\n",
        "Selenocysteine (U) at position 690 replaced by X\r\n"
       ]
      },
      {
       "output_type": "stream",
       "stream": "stdout",
       "text": [
        "Selenocysteine (U) at position 637 replaced by X\r\n",
        "Selenocysteine (U) at position 690 replaced by X\r\n"
       ]
      },
      {
       "output_type": "stream",
       "stream": "stdout",
       "text": [
        "Selenocysteine (U) at position 637 replaced by X\r\n",
        "Selenocysteine (U) at position 690 replaced by X\r\n"
       ]
      },
      {
       "output_type": "stream",
       "stream": "stdout",
       "text": [
        "Selenocysteine (U) at position 637 replaced by X\r\n",
        "Selenocysteine (U) at position 690 replaced by X\r\n"
       ]
      },
      {
       "output_type": "stream",
       "stream": "stdout",
       "text": [
        "Selenocysteine (U) at position 690 replaced by X\r\n"
       ]
      },
      {
       "output_type": "stream",
       "stream": "stdout",
       "text": [
        "Selenocysteine (U) at position 637 replaced by X\r\n",
        "Selenocysteine (U) at position 690 replaced by X\r\n"
       ]
      },
      {
       "output_type": "stream",
       "stream": "stdout",
       "text": [
        "Selenocysteine (U) at position 106 replaced by X\r\n"
       ]
      },
      {
       "output_type": "stream",
       "stream": "stdout",
       "text": [
        "Selenocysteine (U) at position 121 replaced by X\r\n",
        "Selenocysteine (U) at position 123 replaced by X\r\n",
        "Selenocysteine (U) at position 121 replaced by X\r\n",
        "Selenocysteine (U) at position 126 replaced by X\r\n",
        "Selenocysteine (U) at position 126 replaced by X\r\n",
        "Selenocysteine (U) at position 126 replaced by X\r\n",
        "Selenocysteine (U) at position 126 replaced by X\r\n",
        "Selenocysteine (U) at position 126 replaced by X\r\n",
        "Selenocysteine (U) at position 126 replaced by X\r\n",
        "Selenocysteine (U) at position 126 replaced by X\r\n",
        "Selenocysteine (U) at position 126 replaced by X\r\n",
        "Selenocysteine (U) at position 130 replaced by X\r\n",
        "Selenocysteine (U) at position 133 replaced by X\r\n",
        "Selenocysteine (U) at position 266 replaced by X\r\n",
        "Selenocysteine (U) at position 132 replaced by X\r\n",
        "Selenocysteine (U) at position 265 replaced by X\r\n",
        "Selenocysteine (U) at position 134 replaced by X\r\n",
        "Selenocysteine (U) at position 133 replaced by X\r\n",
        "Selenocysteine (U) at position 266 replaced by X\r\n",
        "Selenocysteine (U) at position 124 replaced by X\r\n",
        "Selenocysteine (U) at position 130 replaced by X\r\n",
        "Selenocysteine (U) at position 263 replaced by X\r\n",
        "Selenocysteine (U) at position 128 replaced by X\r\n",
        "Selenocysteine (U) at position 261 replaced by X\r\n",
        "Selenocysteine (U) at position 160 replaced by X\r\n",
        "Selenocysteine (U) at position 133 replaced by X\r\n",
        "Selenocysteine (U) at position 266 replaced by X\r\n",
        "Selenocysteine (U) at position 130 replaced by X\r\n",
        "Selenocysteine (U) at position 263 replaced by X\r\n",
        "Selenocysteine (U) at position 144 replaced by X\r\n",
        "Selenocysteine (U) at position 122 replaced by X\r\n",
        "Selenocysteine (U) at position 144 replaced by X\r\n",
        "Selenocysteine (U) at position 133 replaced by X\r\n",
        "Selenocysteine (U) at position 144 replaced by X\r\n",
        "Selenocysteine (U) at position 144 replaced by X\r\n",
        "Selenocysteine (U) at position 144 replaced by X\r\n",
        "Selenocysteine (U) at position 144 replaced by X\r\n",
        "Selenocysteine (U) at position 131 replaced by X\r\n",
        "Selenocysteine (U) at position 132 replaced by X\r\n"
       ]
      },
      {
       "output_type": "stream",
       "stream": "stdout",
       "text": [
        "Selenocysteine (U) at position 121 replaced by X\r\n",
        "Selenocysteine (U) at position 123 replaced by X\r\n",
        "Selenocysteine (U) at position 121 replaced by X\r\n",
        "Selenocysteine (U) at position 126 replaced by X\r\n",
        "Selenocysteine (U) at position 126 replaced by X\r\n",
        "Selenocysteine (U) at position 126 replaced by X\r\n",
        "Selenocysteine (U) at position 126 replaced by X\r\n",
        "Selenocysteine (U) at position 126 replaced by X\r\n",
        "Selenocysteine (U) at position 126 replaced by X\r\n",
        "Selenocysteine (U) at position 126 replaced by X\r\n",
        "Selenocysteine (U) at position 126 replaced by X\r\n",
        "Selenocysteine (U) at position 130 replaced by X\r\n",
        "Selenocysteine (U) at position 133 replaced by X\r\n",
        "Selenocysteine (U) at position 266 replaced by X\r\n",
        "Selenocysteine (U) at position 132 replaced by X\r\n",
        "Selenocysteine (U) at position 265 replaced by X\r\n",
        "Selenocysteine (U) at position 134 replaced by X\r\n",
        "Selenocysteine (U) at position 133 replaced by X\r\n",
        "Selenocysteine (U) at position 266 replaced by X\r\n",
        "Selenocysteine (U) at position 124 replaced by X\r\n",
        "Selenocysteine (U) at position 130 replaced by X\r\n",
        "Selenocysteine (U) at position 263 replaced by X\r\n",
        "Selenocysteine (U) at position 128 replaced by X\r\n",
        "Selenocysteine (U) at position 261 replaced by X\r\n",
        "Selenocysteine (U) at position 160 replaced by X\r\n",
        "Selenocysteine (U) at position 133 replaced by X\r\n",
        "Selenocysteine (U) at position 266 replaced by X\r\n",
        "Selenocysteine (U) at position 130 replaced by X\r\n",
        "Selenocysteine (U) at position 263 replaced by X\r\n",
        "Selenocysteine (U) at position 144 replaced by X\r\n"
       ]
      },
      {
       "output_type": "stream",
       "stream": "stdout",
       "text": [
        "Selenocysteine (U) at position 122 replaced by X\r\n",
        "Selenocysteine (U) at position 144 replaced by X\r\n",
        "Selenocysteine (U) at position 133 replaced by X\r\n",
        "Selenocysteine (U) at position 144 replaced by X\r\n",
        "Selenocysteine (U) at position 144 replaced by X\r\n",
        "Selenocysteine (U) at position 144 replaced by X\r\n",
        "Selenocysteine (U) at position 144 replaced by X\r\n",
        "Selenocysteine (U) at position 131 replaced by X\r\n",
        "Selenocysteine (U) at position 132 replaced by X\r\n"
       ]
      },
      {
       "output_type": "stream",
       "stream": "stdout",
       "text": [
        "Selenocysteine (U) at position 387 replaced by X\r\n",
        "Selenocysteine (U) at position 387 replaced by X\r\n",
        "Selenocysteine (U) at position 388 replaced by X\r\n",
        "Selenocysteine (U) at position 387 replaced by X\r\n"
       ]
      },
      {
       "output_type": "stream",
       "stream": "stdout",
       "text": [
        "Selenocysteine (U) at position 637 replaced by X\r\n"
       ]
      },
      {
       "output_type": "stream",
       "stream": "stdout",
       "text": [
        "Selenocysteine (U) at position 637 replaced by X\r\n",
        "Selenocysteine (U) at position 690 replaced by X\r\n"
       ]
      },
      {
       "output_type": "stream",
       "stream": "stdout",
       "text": [
        "Selenocysteine (U) at position 642 replaced by X\r\n",
        "Selenocysteine (U) at position 651 replaced by X\r\n"
       ]
      },
      {
       "output_type": "stream",
       "stream": "stdout",
       "text": [
        "Selenocysteine (U) at position 637 replaced by X\r\n"
       ]
      },
      {
       "output_type": "stream",
       "stream": "stdout",
       "text": [
        "Selenocysteine (U) at position 387 replaced by X\r\n",
        "Selenocysteine (U) at position 387 replaced by X\r\n",
        "Selenocysteine (U) at position 388 replaced by X\r\n",
        "Selenocysteine (U) at position 387 replaced by X\r\n"
       ]
      },
      {
       "output_type": "stream",
       "stream": "stdout",
       "text": [
        "Selenocysteine (U) at position 637 replaced by X\r\n",
        "Selenocysteine (U) at position 690 replaced by X\r\n"
       ]
      },
      {
       "output_type": "stream",
       "stream": "stdout",
       "text": [
        "Selenocysteine (U) at position 47 replaced by X\r\n",
        "Selenocysteine (U) at position 47 replaced by X\r\n",
        "Selenocysteine (U) at position 43 replaced by X\r\n",
        "Selenocysteine (U) at position 73 replaced by X\r\n",
        "Selenocysteine (U) at position 73 replaced by X\r\n",
        "Selenocysteine (U) at position 129 replaced by X\r\n",
        "Selenocysteine (U) at position 129 replaced by X\r\n",
        "Selenocysteine (U) at position 73 replaced by X\r\n",
        "Selenocysteine (U) at position 73 replaced by X\r\n",
        "Selenocysteine (U) at position 73 replaced by X\r\n",
        "Selenocysteine (U) at position 73 replaced by X\r\n",
        "Selenocysteine (U) at position 73 replaced by X\r\n",
        "Selenocysteine (U) at position 73 replaced by X\r\n",
        "Selenocysteine (U) at position 73 replaced by X\r\n"
       ]
      },
      {
       "output_type": "stream",
       "stream": "stdout",
       "text": [
        "Selenocysteine (U) at position 73 replaced by X\r\n"
       ]
      }
     ],
     "prompt_number": 9
    },
    {
     "cell_type": "code",
     "collapsed": false,
     "input": [
      "!ls ../analyses/A*"
     ],
     "language": "python",
     "metadata": {},
     "outputs": [
      {
       "output_type": "stream",
       "stream": "stdout",
       "text": [
        "../analyses/Ahyacinthus_sprot.tab  ../analyses/Ahyacinthus_v1_CG.tab\r\n",
        "../analyses/Ahyacinthus_v1.tab     ../analyses/Ahyacinthus_v1_CpG.tab\r\n",
        "../analyses/Ahyacinthus_v1_C-G.tab ../analyses/Ahyacinthus_v1_G.tab\r\n",
        "../analyses/Ahyacinthus_v1_C.tab   ../analyses/Ahyacinthus_v1_len.tab\r\n"
       ]
      }
     ],
     "prompt_number": 10
    },
    {
     "cell_type": "heading",
     "level": 3,
     "metadata": {},
     "source": [
      "Number of matched sequences "
     ]
    },
    {
     "cell_type": "code",
     "collapsed": false,
     "input": [
      "!wc -l ../analyses/{sp}_sprot.tab"
     ],
     "language": "python",
     "metadata": {},
     "outputs": [
      {
       "output_type": "stream",
       "stream": "stdout",
       "text": [
        "   11607 ../analyses/Ahyacinthus_sprot.tab\r\n"
       ]
      }
     ],
     "prompt_number": 11
    },
    {
     "cell_type": "code",
     "collapsed": false,
     "input": [
      "!tr '|' \"\\t\" <../analyses/{sp}_sprot.tab> ../analyses/{sp}_sprot_sql.tab\n",
      "!head -1 ../analyses/{sp}_sprot.tab\n",
      "!echo SQLShare ready version has Pipes converted to Tabs ....\n",
      "!head -1 ../analyses/{sp}_sprot_sql.tab "
     ],
     "language": "python",
     "metadata": {},
     "outputs": [
      {
       "output_type": "stream",
       "stream": "stdout",
       "text": [
        "contig211\tsp|Q96JB1|DYH8_HUMAN\t77.53\t89\t20\t0\t1\t267\t2533\t2621\t4e-44\t  158\r\n"
       ]
      },
      {
       "output_type": "stream",
       "stream": "stdout",
       "text": [
        "SQLShare ready version has Pipes converted to Tabs ....\r\n"
       ]
      },
      {
       "output_type": "stream",
       "stream": "stdout",
       "text": [
        "contig211\tsp\tQ96JB1\tDYH8_HUMAN\t77.53\t89\t20\t0\t1\t267\t2533\t2621\t4e-44\t  158\r\n"
       ]
      }
     ],
     "prompt_number": 12
    },
    {
     "cell_type": "code",
     "collapsed": false,
     "input": [
      "!python {sqls}singleupload.py \\\n",
      "-d _blast_sprot \\\n",
      "../analyses/{sp}_sprot_sql.tab  "
     ],
     "language": "python",
     "metadata": {},
     "outputs": [
      {
       "output_type": "stream",
       "stream": "stdout",
       "text": [
        "processing chunk line 0 to 11607 (0.00473690032959 s elapsed)\r\n",
        "pushing ../analyses/Ahyacinthus_sprot_sql.tab...\r\n"
       ]
      },
      {
       "output_type": "stream",
       "stream": "stdout",
       "text": [
        "parsing 1D98A2E5...\r\n"
       ]
      },
      {
       "output_type": "stream",
       "stream": "stdout",
       "text": [
        "finished _blast_sprot\r\n"
       ]
      }
     ],
     "prompt_number": 13
    },
    {
     "cell_type": "code",
     "collapsed": false,
     "input": [
      "!python {sqls}fetchdata.py \\\n",
      "-s \"SELECT Column1 as ContigID, term, GOSlim_bin, aspect, ProteinName \\\n",
      "FROM [{usr}].[_blast_sprot]md \\\n",
      "left join \\\n",
      "[samwhite@washington.edu].[UniprotProtNamesReviewed_yes20130610]sp \\\n",
      "on md.Column3=sp.SPID \\\n",
      "left join \\\n",
      "[sr320@washington.edu].[SPID and GO Numbers]go \\\n",
      "on md.Column3=go.SPID \\\n",
      "left join \\\n",
      "[sr320@washington.edu].[GO_to_GOslim]slim on go.GOID=slim.GO_id \\\n",
      "where aspect like 'P'\" \\\n",
      "-f tsv \\\n",
      "-o ../analyses/{sp}_sprot_GOdescriptions.tab"
     ],
     "language": "python",
     "metadata": {},
     "outputs": [],
     "prompt_number": 14
    },
    {
     "cell_type": "code",
     "collapsed": false,
     "input": [
      "!head ../analyses/{sp}_sprot_GOdescriptions.tab"
     ],
     "language": "python",
     "metadata": {},
     "outputs": [
      {
       "output_type": "stream",
       "stream": "stdout",
       "text": [
        "ContigID\tterm\tGOSlim_bin\taspect\tProteinName\r",
        "\r\n",
        "contig135011_153678_153601\ttemperature compensation of the circadian clock\tother biological processes\tP\tProtein eyes shut (Protein spacemaker)\r",
        "\r\n",
        "contig135011_153678_153601\trhabdomere development\tdevelopmental processes\tP\tProtein eyes shut (Protein spacemaker)\r",
        "\r\n",
        "contig135011_153678_153601\trhabdomere development\tcell organization and biogenesis\tP\tProtein eyes shut (Protein spacemaker)\r",
        "\r\n",
        "contig135011_153678_153601\tcell morphogenesis\tcell organization and biogenesis\tP\tProtein eyes shut (Protein spacemaker)\r",
        "\r\n",
        "contig69684\tprotein ubiquitination\tprotein metabolism\tP\t\"WD repeat, SAM and U-box domain-containing protein 1\"\r",
        "\r\n",
        "contig113621\tubiquitin-dependent protein catabolic process\tprotein metabolism\tP\tUbiquitin-like modifier-activating enzyme 6 (Ubiquitin-activating enzyme 6) (Monocyte protein 4) (MOP-4) (Ubiquitin-activating enzyme E1-like protein 2) (E1-L2)\r",
        "\r\n",
        "contig97647\tubiquitin-dependent protein catabolic process\tprotein metabolism\tP\tUbiquitin-like modifier-activating enzyme 6 (Ubiquitin-activating enzyme 6) (Monocyte protein 4) (MOP-4) (Ubiquitin-activating enzyme E1-like protein 2) (E1-L2)\r",
        "\r\n",
        "contig97647\tprotein ubiquitination\tprotein metabolism\tP\tUbiquitin-like modifier-activating enzyme 6 (Ubiquitin-activating enzyme 6) (Monocyte protein 4) (MOP-4) (Ubiquitin-activating enzyme E1-like protein 2) (E1-L2)\r",
        "\r\n",
        "contig97647\tprotein modification process\tprotein metabolism\tP\tUbiquitin-like modifier-activating enzyme 6 (Ubiquitin-activating enzyme 6) (Monocyte protein 4) (MOP-4) (Ubiquitin-activating enzyme E1-like protein 2) (E1-L2)\r",
        "\r\n"
       ]
      }
     ],
     "prompt_number": 17
    },
    {
     "cell_type": "code",
     "collapsed": false,
     "input": [
      "!grep -c \"stress response\" ../analyses/{sp}_sprot_GOdescriptions.tab "
     ],
     "language": "python",
     "metadata": {},
     "outputs": [
      {
       "output_type": "stream",
       "stream": "stdout",
       "text": [
        "2356\r\n"
       ]
      }
     ],
     "prompt_number": 18
    },
    {
     "cell_type": "code",
     "collapsed": false,
     "input": [
      "!grep \"stress response\" ../analyses/{sp}_sprot_GOdescriptions.tab \\\n",
      "> ../analyses/{sp}_sprot_GOdescriptions-stress.tab"
     ],
     "language": "python",
     "metadata": {},
     "outputs": [],
     "prompt_number": 20
    },
    {
     "cell_type": "code",
     "collapsed": false,
     "input": [
      "!cut -f2 ../analyses/{sp}_sprot_GOdescriptions-stress.tab | sort | uniq -c\n"
     ],
     "language": "python",
     "metadata": {},
     "outputs": [
      {
       "output_type": "stream",
       "stream": "stdout",
       "text": [
        "  12 \"DNA damage response, signal transduction by p53 class mediator resulting in cell cycle arrest\"\r\n",
        "   9 \"DNA damage response, signal transduction by p53 class mediator resulting in induction of apoptosis\"\r\n",
        "   5 \"DNA damage response, signal transduction by p53 class mediator resulting in transcription of p21 class mediator\"\r\n",
        "   6 \"DNA damage response, signal transduction by p53 class mediator\"\r\n",
        "   8 \"DNA damage response, signal transduction resulting in induction of apoptosis\"\r\n",
        "   6 \"DNA damage response, signal transduction\"\r\n",
        "   1 \"base-excision repair, AP site formation\"\r\n",
        "   4 \"base-excision repair, gap-filling\"\r\n",
        "   3 \"blood coagulation, intrinsic pathway\"\r\n",
        "   4 \"complement activation, alternative pathway\"\r\n",
        "  10 \"complement activation, classical pathway\"\r\n",
        "   2 \"complement activation, lectin pathway\"\r\n",
        "   1 \"defense response to fungus, incompatible interaction\"\r\n",
        "   5 \"negative regulation of DNA damage response, signal transduction by p53 class mediator\"\r\n",
        "   2 \"nucleotide-excision repair, DNA damage recognition\"\r\n",
        "   4 \"nucleotide-excision repair, DNA damage removal\"\r\n",
        "   2 \"nucleotide-excision repair, DNA duplex unwinding\"\r\n",
        "   4 \"nucleotide-excision repair, DNA gap filling\"\r\n",
        "   3 \"nucleotide-excision repair, DNA incision\"\r\n",
        "   2 \"nucleotide-excision repair, DNA incision, 5'-to lesion\"\r\n",
        "   1 \"nucleotide-excision repair, preincision complex assembly\"\r\n",
        "   4 \"positive regulation of DNA damage response, signal transduction by p53 class mediator\"\r\n",
        "   2 \"regulation of complement activation, lectin pathway\"\r\n",
        "   1 \"sterol depletion response, sterol regulatory element binding protein nuclear translocation\"\r\n",
        "   2 \"wound healing, spreading of epidermal cells\"\r\n",
        "   9 DNA damage checkpoint\r\n",
        "   4 DNA damage induced protein phosphorylation\r\n",
        "   1 DNA dealkylation\r\n",
        "   1 DNA double-strand break processing\r\n",
        "   4 DNA ligation during DNA repair\r\n",
        "   1 DNA recombinase assembly\r\n",
        " 223 DNA repair\r\n",
        "   2 DNA strand renaturation\r\n",
        "   8 DNA synthesis during DNA repair\r\n",
        "   4 ER overload response\r\n",
        "   1 ER-nuclear sterol response pathway\r\n",
        "   3 G1 DNA damage checkpoint\r\n",
        "  11 G2/M transition DNA damage checkpoint\r\n",
        "  23 JNK cascade\r\n",
        "   1 JUN phosphorylation\r\n",
        "  13 MyD88-dependent toll-like receptor signaling pathway\r\n",
        "   9 MyD88-independent toll-like receptor signaling pathway\r\n",
        "   4 activation of JNKK activity\r\n",
        "  18 activation of JUN kinase activity\r\n",
        "   5 activation of innate immune response\r\n",
        "  15 activation of signaling protein activity involved in unfolded protein response\r\n",
        "   3 acute inflammatory response\r\n",
        "  17 acute-phase response\r\n",
        "   2 age-dependent response to oxidative stress\r\n",
        "   1 age-dependent response to reactive oxygen species\r\n",
        "   3 aggregation involved in sorocarp development\r\n",
        "   1 angiogenesis involved in wound healing\r\n",
        "   1 antibacterial humoral response\r\n",
        "   1 antibacterial peptide secretion\r\n",
        "  12 autophagic vacuole formation\r\n",
        "   2 autophagic vacuole fusion\r\n",
        "   2 axon extension involved in regeneration\r\n",
        "   3 axon regeneration\r\n",
        "   2 axon regeneration in the peripheral nervous system\r\n",
        "  19 base-excision repair\r\n",
        "   8 behavioral fear response\r\n",
        "   3 behavioral response to pain\r\n",
        " 110 blood coagulation\r\n",
        "   4 bypass DNA synthesis\r\n",
        "   1 callose deposition in cell wall during defense response\r\n",
        "   1 cell surface pattern recognition receptor signaling pathway\r\n",
        "   4 cellular defense response\r\n",
        "   1 cellular response to amino acid starvation\r\n",
        "   4 cellular response to glucose starvation\r\n",
        "  18 cellular response to heat\r\n",
        "   6 cellular response to hydrogen peroxide\r\n",
        "  18 cellular response to oxidative stress\r\n",
        "   3 cellular response to reactive oxygen species\r\n",
        "  14 cellular response to starvation\r\n",
        "   2 cellular response to stress\r\n",
        "   1 cellular response to unfolded protein\r\n",
        "   2 cellular response to water deprivation\r\n",
        "   3 chronic inflammatory response\r\n",
        "   1 collateral sprouting of injured axon\r\n",
        "   9 complement activation\r\n",
        "   1 culmination during sorocarp development\r\n",
        "  15 defense response\r\n",
        "   6 defense response to Gram-negative bacterium\r\n",
        "   9 defense response to Gram-positive bacterium\r\n",
        "  24 defense response to bacterium\r\n",
        "   6 defense response to fungus\r\n",
        "   8 defense response to protozoan\r\n",
        "  14 defense response to virus\r\n",
        "  29 double-strand break repair\r\n",
        "  17 double-strand break repair via homologous recombination\r\n",
        "   3 double-strand break repair via nonhomologous end joining\r\n",
        "  33 endoplasmic reticulum unfolded protein response\r\n",
        "   1 error-free postreplication DNA repair\r\n",
        "   3 fear response\r\n",
        "   6 fibrinolysis\r\n",
        "   3 fin regeneration\r\n",
        "  30 hydrogen peroxide catabolic process\r\n",
        "   2 hyperosmotic response\r\n",
        "   1 hypotonic response\r\n",
        "   1 induction by symbiont of defense-related host nitric oxide production\r\n",
        "   5 induction of bacterial agglutination\r\n",
        "  52 inflammatory response\r\n",
        "   2 inflammatory response to antigenic stimulus\r\n",
        " 105 innate immune response\r\n",
        "   1 innate immune response in mucosa\r\n",
        "   2 intra-S DNA damage checkpoint\r\n",
        "   1 leukocyte chemotaxis during inflammatory response\r\n",
        "   3 leukocyte migration during inflammatory response\r\n",
        "   3 leukotriene production during acute inflammatory response\r\n",
        "   7 macroautophagy\r\n",
        "   2 meiotic mismatch repair\r\n",
        "   1 melanization defense response\r\n",
        "   3 melanotic encapsulation of foreign target\r\n",
        "  10 mismatch repair\r\n",
        "   8 mitotic cell cycle G2/M transition DNA damage checkpoint\r\n",
        "   4 multicellular organismal response to stress\r\n",
        "   1 natural killer cell degranulation\r\n",
        "   6 natural killer cell mediated cytotoxicity\r\n",
        "   5 negative regulation of JNK cascade\r\n",
        "   4 negative regulation of JUN kinase activity\r\n",
        "   1 negative regulation of axon extension involved in regeneration\r\n",
        "   1 negative regulation of blood coagulation\r\n",
        "   1 negative regulation of defense response\r\n",
        "   1 negative regulation of defense response to virus\r\n",
        "   4 negative regulation of fibrinolysis\r\n",
        "   7 negative regulation of inflammatory response\r\n",
        "   2 negative regulation of inflammatory response to antigenic stimulus\r\n",
        "   2 negative regulation of innate immune response\r\n",
        "   9 negative regulation of macroautophagy\r\n",
        "   1 negative regulation of platelet activation\r\n",
        "   1 negative regulation of respiratory burst during acute inflammatory response\r\n",
        "   2 negative regulation of stress-activated MAPK cascade\r\n",
        "   1 negative regulation of toll-like receptor 2 signaling pathway\r\n",
        "   2 negative regulation of transcription from RNA polymerase II promoter in response to UV-induced DNA damage\r\n",
        "   4 negative regulation of translation in response to stress\r\n",
        "   2 negative regulation of translational initiation in response to stress\r\n",
        "   1 non-photoreactive DNA repair\r\n",
        "   1 nucleotide-binding oligomerization domain containing 2 signaling pathway\r\n",
        "   4 nucleotide-binding oligomerization domain containing signaling pathway\r\n",
        "  24 nucleotide-excision repair\r\n",
        "   2 pathogen-associated molecular pattern dependent induction by symbiont of host innate immunity\r\n",
        "   7 pattern recognition receptor signaling pathway\r\n",
        "  16 plasma membrane repair\r\n",
        "  52 platelet activation\r\n",
        "   1 platelet aggregation\r\n",
        "  10 positive regulation of DNA repair\r\n",
        "  19 positive regulation of JNK cascade\r\n",
        "  19 positive regulation of JUN kinase activity\r\n",
        "   1 positive regulation of acute inflammatory response\r\n",
        "   2 positive regulation of axon regeneration\r\n",
        "   1 positive regulation of biosynthetic process of antibacterial peptides active against Gram-positive bacteria\r\n",
        "   4 positive regulation of blood coagulation\r\n",
        "   1 positive regulation of chronic inflammatory response to non-antigenic stimulus\r\n",
        "   5 positive regulation of defense response to virus by host\r\n",
        "   2 positive regulation of epithelial cell proliferation involved in wound healing\r\n",
        "   1 positive regulation of fibrinolysis\r\n",
        "   6 positive regulation of inflammatory response\r\n",
        "   4 positive regulation of innate immune response\r\n",
        "   1 positive regulation of macroautophagy\r\n",
        "   1 positive regulation of natural killer cell mediated cytotoxicity\r\n",
        "   1 positive regulation of respiratory burst during acute inflammatory response\r\n",
        "   1 positive regulation of sterol regulatory element binding protein target gene transcription involved in sterol depletion response\r\n",
        "   3 positive regulation of stress-activated MAPK cascade\r\n",
        "   1 positive regulation of toll-like receptor 4 signaling pathway\r\n",
        "   1 positive regulation of toll-like receptor signaling pathway\r\n",
        "   5 postreplication repair\r\n",
        "   6 pyrimidine dimer repair\r\n",
        "   1 pyrimidine dimer repair by nucleotide-excision repair\r\n",
        "   4 regulation of DNA repair\r\n",
        "  10 regulation of JNK cascade\r\n",
        "   1 regulation of JUN kinase activity\r\n",
        "   1 regulation of aggregation involved in sorocarp development\r\n",
        "   1 regulation of axon regeneration\r\n",
        "   4 regulation of blood coagulation\r\n",
        "   2 regulation of cellular defense response\r\n",
        "   5 regulation of defense response to virus\r\n",
        "   3 regulation of defense response to virus by virus\r\n",
        "   1 regulation of double-strand break repair via homologous recombination\r\n",
        "   1 regulation of eIF2 alpha phosphorylation by heme\r\n",
        "   9 regulation of inflammatory response\r\n",
        "   5 regulation of innate immune response\r\n",
        "   1 regulation of response to interferon-gamma\r\n",
        "   1 regulation of response to osmotic stress\r\n",
        "   1 regulation of response to stress\r\n",
        "   2 regulation of stress-activated MAPK cascade\r\n",
        "   6 regulation of transcription from RNA polymerase II promoter in response to oxidative stress\r\n",
        "   2 regulation of transcription in response to stress\r\n",
        "   1 regulation of translation in response to stress\r\n",
        "   5 regulation of translational initiation in response to stress\r\n",
        "   2 replication fork processing\r\n",
        "   1 respiratory burst during defense response\r\n",
        " 234 response to DNA damage stimulus\r\n",
        "   7 response to axon injury\r\n",
        "  16 response to cold\r\n",
        "  15 response to endoplasmic reticulum stress\r\n",
        "   3 response to fluid shear stress\r\n",
        "  22 response to heat\r\n",
        "   2 response to herbicide\r\n",
        "  23 response to hydrogen peroxide\r\n",
        "   5 response to hydroperoxide\r\n",
        "   4 response to hyperoxia\r\n",
        "  59 response to hypoxia\r\n",
        "   2 response to interferon-gamma\r\n",
        "   2 response to laminar fluid shear stress\r\n",
        "   3 response to nitrosative stress\r\n",
        "   8 response to osmotic stress\r\n",
        "  96 response to oxidative stress\r\n",
        "   3 response to oxygen radical\r\n",
        "  17 response to pain\r\n",
        "   4 response to reactive oxygen species\r\n",
        "   5 response to salt stress\r\n",
        "  13 response to starvation\r\n",
        "   1 response to sterol depletion\r\n",
        "  89 response to stress\r\n",
        "   5 response to superoxide\r\n",
        "   3 response to type I interferon\r\n",
        "  35 response to unfolded protein\r\n",
        "   3 response to water deprivation\r\n",
        "  25 response to wounding\r\n",
        "   1 satellite cell maintenance involved in skeletal muscle regeneration\r\n",
        "   2 sensory epithelium regeneration\r\n",
        "   4 single strand break repair\r\n",
        "   1 skeletal muscle regeneration\r\n",
        "   3 sorocarp development\r\n",
        "   3 sorocarp morphogenesis\r\n",
        "   1 sorocarp stalk development\r\n",
        "  13 stress-activated MAPK cascade\r\n",
        "   1 stress-activated protein kinase signaling pathway\r\n",
        "   1 systemic acquired resistance\r\n",
        "  15 tissue regeneration\r\n",
        "  10 toll-like receptor 1 signaling pathway\r\n",
        "  11 toll-like receptor 2 signaling pathway\r\n",
        "  10 toll-like receptor 3 signaling pathway\r\n",
        "  11 toll-like receptor 4 signaling pathway\r\n",
        "   1 toll-like receptor 5 signaling pathway\r\n",
        "   1 toll-like receptor 7 signaling pathway\r\n"
       ]
      },
      {
       "output_type": "stream",
       "stream": "stdout",
       "text": [
        "  17 toll-like receptor signaling pathway\r\n",
        "  16 transcription-coupled nucleotide-excision repair\r\n",
        "   1 virus induced gene silencing\r\n",
        "  33 wound healing\r\n"
       ]
      }
     ],
     "prompt_number": 21
    },
    {
     "cell_type": "heading",
     "level": 2,
     "metadata": {},
     "source": [
      "Plot GoSlim terms\n"
     ]
    },
    {
     "cell_type": "code",
     "collapsed": false,
     "input": [
      "pylab inline\n"
     ],
     "language": "python",
     "metadata": {},
     "outputs": [
      {
       "output_type": "stream",
       "stream": "stdout",
       "text": [
        "Populating the interactive namespace from numpy and matplotlib\n"
       ]
      }
     ],
     "prompt_number": 22
    },
    {
     "cell_type": "code",
     "collapsed": false,
     "input": [
      "#FIXME - below I added '[Haliotis_kam]' "
     ],
     "language": "python",
     "metadata": {},
     "outputs": []
    },
    {
     "cell_type": "code",
     "collapsed": false,
     "input": [
      "from pandas import *\n",
      "\n",
      "gs = read_table('../analyses/Ahyacinthus_sprot_GOdescriptions.tab')"
     ],
     "language": "python",
     "metadata": {},
     "outputs": [],
     "prompt_number": 23
    },
    {
     "cell_type": "code",
     "collapsed": false,
     "input": [
      "gs"
     ],
     "language": "python",
     "metadata": {},
     "outputs": [
      {
       "html": [
        "<pre>\n",
        "&ltclass 'pandas.core.frame.DataFrame'&gt\n",
        "Int64Index: 55343 entries, 0 to 55342\n",
        "Data columns (total 5 columns):\n",
        "ContigID       55343  non-null values\n",
        "term           55343  non-null values\n",
        "GOSlim_bin     55343  non-null values\n",
        "aspect         55343  non-null values\n",
        "ProteinName    55296  non-null values\n",
        "dtypes: object(5)\n",
        "</pre>"
       ],
       "metadata": {},
       "output_type": "pyout",
       "prompt_number": 24,
       "text": [
        "<class 'pandas.core.frame.DataFrame'>\n",
        "Int64Index: 55343 entries, 0 to 55342\n",
        "Data columns (total 5 columns):\n",
        "ContigID       55343  non-null values\n",
        "term           55343  non-null values\n",
        "GOSlim_bin     55343  non-null values\n",
        "aspect         55343  non-null values\n",
        "ProteinName    55296  non-null values\n",
        "dtypes: object(5)"
       ]
      }
     ],
     "prompt_number": 24
    },
    {
     "cell_type": "code",
     "collapsed": false,
     "input": [
      "gs.groupby('GOSlim_bin').ContigID.count().plot(kind='barh', color=list('y'))\n",
      "savefig('../analyses/Ahyacinthus_GOSlim.png', bbox_inches='tight')"
     ],
     "language": "python",
     "metadata": {},
     "outputs": [
      {
       "metadata": {},
       "output_type": "display_data",
       "png": "[encoded data removed]",
       "text": [
        "<matplotlib.figure.Figure at 0x107651950>"
       ]
      }
     ],
     "prompt_number": 25
    },
    {
     "cell_type": "heading",
     "level": 1,
     "metadata": {},
     "source": [
      "\n",
      "Just Getting GOSlim directly\n"
     ]
    },
    {
     "cell_type": "code",
     "collapsed": false,
     "input": [
      "!python {sqls}fetchdata.py \\\n",
      "-s \"SELECT Distinct \\\n",
      "Column1 as ContigID, GOSlim_bin \\\n",
      "FROM [{usr}].[_blast_sprot]md \\\n",
      "left join \\\n",
      "[sr320@washington.edu].[SPID and GO Numbers]go \\\n",
      "on md.Column3=go.SPID \\\n",
      "left join \\\n",
      "[sr320@washington.edu].[GO_to_GOslim]slim on go.GOID=slim.GO_id \\\n",
      "where aspect like 'P'\" \\\n",
      "-f tsv \\\n",
      "-o ../analyses/{sp}_GOslim.tab"
     ],
     "language": "python",
     "metadata": {},
     "outputs": [],
     "prompt_number": 15
    },
    {
     "cell_type": "code",
     "collapsed": false,
     "input": [
      "!head ../analyses/{sp}_GOslim.tab"
     ],
     "language": "python",
     "metadata": {},
     "outputs": [
      {
       "output_type": "stream",
       "stream": "stdout",
       "text": [
        "ContigID\tGOSlim_bin\r",
        "\r\n",
        "contig70128\tother biological processes\r",
        "\r\n",
        "contig82454\tDNA metabolism\r",
        "\r\n",
        "contig174510\tprotein metabolism\r",
        "\r\n",
        "contig209629\tother biological processes\r",
        "\r\n",
        "contig10816_153279\tsignal transduction\r",
        "\r\n",
        "contig109222\ttransport\r",
        "\r\n",
        "contig79068\tsignal transduction\r",
        "\r\n",
        "contig119835\tstress response\r",
        "\r\n",
        "contig110229\ttransport\r",
        "\r\n"
       ]
      }
     ],
     "prompt_number": 16
    },
    {
     "cell_type": "code",
     "collapsed": false,
     "input": [
      "from pandas import *\n",
      "\n",
      "slim = read_table('../analyses/Ahyacinthus_GOslim.tab')"
     ],
     "language": "python",
     "metadata": {},
     "outputs": [],
     "prompt_number": 27
    },
    {
     "cell_type": "code",
     "collapsed": false,
     "input": [
      "slim.groupby('GOSlim_bin').ContigID.count().plot(kind='barh', color=list('y'))\n",
      "savefig('../analyses/Ahyacinthus_GOSlim-distinct.png', bbox_inches='tight')"
     ],
     "language": "python",
     "metadata": {},
     "outputs": [
      {
       "metadata": {},
       "output_type": "display_data",
       "png": "[encoded data removed]",
       "text": [
        "<matplotlib.figure.Figure at 0x103924110>"
       ]
      }
     ],
     "prompt_number": 30
    },
    {
     "cell_type": "code",
     "collapsed": false,
     "input": [],
     "language": "python",
     "metadata": {},
     "outputs": []
    }
   ],
   "metadata": {}
  }
 ]
}