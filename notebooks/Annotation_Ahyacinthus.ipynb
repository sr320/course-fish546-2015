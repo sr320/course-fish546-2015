{
 "metadata": {
  "name": "",
  "signature": "sha256:117e94972b5a9bf010ba7d2e81bfd888a35390aad036cc52abc201db82c0abdb"
 },
 "nbformat": 3,
 "nbformat_minor": 0,
 "worksheets": [
  {
   "cells": [
    {
     "cell_type": "heading",
     "level": 1,
     "metadata": {},
     "source": [
      "Annotation via Blast"
     ]
    },
    {
     "cell_type": "code",
     "collapsed": false,
     "input": [
      "#variables to set\n",
      "\n",
      "fa=\"../data/fa/Ahyacinthus_v1.fasta\"\n",
      "\n",
      "db=\"/Applications/BLAST/ncbi-blast-2.2.29\\+/db/uniprot_sprot_r2013_12\"\n",
      "\n",
      "sqls=\"/Users/sr320/sqlshare-pythonclient/tools/\"\n",
      "\n",
      "usr=\"sr320@washington.edu\"\n",
      "\n",
      "sp=\"Ahyacinthus\"\n"
     ],
     "language": "python",
     "metadata": {},
     "outputs": [],
     "prompt_number": 3
    },
    {
     "cell_type": "code",
     "collapsed": false,
     "input": [
      "!head -2 {fa}"
     ],
     "language": "python",
     "metadata": {},
     "outputs": [
      {
       "output_type": "stream",
       "stream": "stdout",
       "text": [
        ">contig27\r\n",
        "CAAAATTCCAGCACTCCGTTTTGCATGGTAAACTTGTCTTAGTAGGACACTGTGGAAGATGTACAGCGCAAGACATCACAGTTGCAAGCGCCGACGAACAGCTGTTAAACTCTCCTCTCATATTCTCGAACAAACCAAATATTTCTTCCTCTCTGTTGTTGCTAACCTTTGAATATATGAAGCTGGCATTAGCACAGGACTCAAAGTTTCCGCCGAGCAGTTT\r\n"
       ]
      }
     ],
     "prompt_number": 4
    },
    {
     "cell_type": "code",
     "collapsed": false,
     "input": [
      "!fgrep -c \">\" {fa}\n"
     ],
     "language": "python",
     "metadata": {},
     "outputs": [
      {
       "output_type": "stream",
       "stream": "stdout",
       "text": [
        "33496\r\n"
       ]
      }
     ],
     "prompt_number": 5
    },
    {
     "cell_type": "heading",
     "level": 2,
     "metadata": {},
     "source": [
      "Blast"
     ]
    },
    {
     "cell_type": "code",
     "collapsed": false,
     "input": [
      "!/Applications/BLAST/ncbi-blast-2.2.29\\+/bin/blastx \\\n",
      "-query {fa} \\\n",
      "-db {db} \\\n",
      "-max_target_seqs 1 \\\n",
      "-max_hsps 1 \\\n",
      "-outfmt 6 \\\n",
      "-evalue 1E-05 \\\n",
      "-num_threads 3 \\\n",
      "-out ../analyses/{sp}_sprot.tab"
     ],
     "language": "python",
     "metadata": {},
     "outputs": []
    },
    {
     "cell_type": "code",
     "collapsed": false,
     "input": [
      "!ls ../analyses/"
     ],
     "language": "python",
     "metadata": {},
     "outputs": [
      {
       "output_type": "stream",
       "stream": "stdout",
       "text": [
        "[Haliotis_kam]GOSlim.png\r\n",
        "[Haliotis_kam]_sprot.tab\r\n",
        "[Haliotis_kam]_sprot_GOdescriptions-stress.tab\r\n",
        "[Haliotis_kam]_sprot_GOdescriptions.tab\r\n",
        "[Haliotis_kam]_sprot_sql.tab\r\n",
        "name\r\n"
       ]
      }
     ],
     "prompt_number": 27
    },
    {
     "cell_type": "heading",
     "level": 3,
     "metadata": {},
     "source": [
      "Number of matched sequences "
     ]
    },
    {
     "cell_type": "code",
     "collapsed": false,
     "input": [
      "!wc -l ../analyses/{sp}_sprot.tab"
     ],
     "language": "python",
     "metadata": {},
     "outputs": [
      {
       "output_type": "stream",
       "stream": "stdout",
       "text": [
        "    1262 ../analyses/[Haliotis_kam]_sprot.tab\r\n"
       ]
      }
     ],
     "prompt_number": 33
    },
    {
     "cell_type": "code",
     "collapsed": false,
     "input": [
      "!tr '|' \"\\t\" <../analyses/{sp}_sprot.tab> ../analyses/{sp}_sprot_sql.tab\n",
      "!head -1 ../analyses/{sp}_sprot.tab\n",
      "!echo SQLShare ready version has Pipes converted to Tabs ....\n",
      "!head -1 ../analyses/{sp}_sprot_sql.tab "
     ],
     "language": "python",
     "metadata": {},
     "outputs": [
      {
       "output_type": "stream",
       "stream": "stdout",
       "text": [
        "Haliotis_kam_contig1\tsp|O79428|NU2M_RABIT\t34.55\t220\t137\t3\t1055\t399\t25\t238\t3e-21\t97.1\r\n"
       ]
      },
      {
       "output_type": "stream",
       "stream": "stdout",
       "text": [
        "SQLShare ready version has Pipes converted to Tabs ....\r\n"
       ]
      },
      {
       "output_type": "stream",
       "stream": "stdout",
       "text": [
        "Haliotis_kam_contig1\tsp\tO79428\tNU2M_RABIT\t34.55\t220\t137\t3\t1055\t399\t25\t238\t3e-21\t97.1\r\n"
       ]
      }
     ],
     "prompt_number": 34
    },
    {
     "cell_type": "code",
     "collapsed": false,
     "input": [
      "!python {sqls}singleupload.py \\\n",
      "-d _blast_sprot \\\n",
      "../analyses/{sp}_sprot_sql.tab  "
     ],
     "language": "python",
     "metadata": {},
     "outputs": [
      {
       "output_type": "stream",
       "stream": "stdout",
       "text": [
        "processing chunk line 0 to 1262 (0.000244140625 s elapsed)\r\n",
        "pushing ../analyses/[Haliotis_kam]_sprot_sql.tab...\r\n"
       ]
      },
      {
       "output_type": "stream",
       "stream": "stdout",
       "text": [
        "parsing B7408C56...\r\n"
       ]
      },
      {
       "output_type": "stream",
       "stream": "stdout",
       "text": [
        "finished _blast_sprot\r\n"
       ]
      }
     ],
     "prompt_number": 36
    },
    {
     "cell_type": "code",
     "collapsed": false,
     "input": [
      "!python {sqls}fetchdata.py \\\n",
      "-s \"SELECT Column1 as ContigID, term, GOSlim_bin, aspect, ProteinName \\\n",
      "FROM [{usr}].[_blast_sprot]md \\\n",
      "left join \\\n",
      "[samwhite@washington.edu].[UniprotProtNamesReviewed_yes20130610]sp \\\n",
      "on md.Column3=sp.SPID \\\n",
      "left join \\\n",
      "[sr320@washington.edu].[SPID and GO Numbers]go \\\n",
      "on md.Column3=go.SPID \\\n",
      "left join \\\n",
      "[sr320@washington.edu].[GO_to_GOslim]slim on go.GOID=slim.GO_id \\\n",
      "where aspect like 'P'\" \\\n",
      "-f tsv \\\n",
      "-o ../analyses/{sp}_sprot_GOdescriptions.tab"
     ],
     "language": "python",
     "metadata": {},
     "outputs": [],
     "prompt_number": 61
    },
    {
     "cell_type": "code",
     "collapsed": false,
     "input": [
      "!head ../analyses/{sp}_sprot_GOdescriptions.tab"
     ],
     "language": "python",
     "metadata": {},
     "outputs": [
      {
       "output_type": "stream",
       "stream": "stdout",
       "text": [
        "ContigID\tterm\tGOSlim_bin\taspect\tProteinName\r",
        "\r\n",
        "Haliotis_kam_contig1494\treproduction\tother biological processes\tP\t40S ribosomal protein S12\r",
        "\r\n",
        "Haliotis_kam_contig2880\treproduction\tother biological processes\tP\t14-3-3-like protein 2\r",
        "\r\n",
        "Haliotis_kam_contig3389\treproduction\tother biological processes\tP\t14-3-3-like protein 2\r",
        "\r\n",
        "Haliotis_kam_contig3529\treproduction\tother biological processes\tP\tTranscription factor BTF3 homolog (Inhibitor of cell death 1)\r",
        "\r\n",
        "Haliotis_kam_contig355\treproduction\tother biological processes\tP\t60S ribosomal protein L7\r",
        "\r\n",
        "Haliotis_kam_contig3907\treproduction\tother biological processes\tP\t40S ribosomal protein S7\r",
        "\r\n",
        "Haliotis_kam_contig6977\treproduction\tother biological processes\tP\tNADH dehydrogenase [ubiquinone] 1 beta subcomplex subunit 7\r",
        "\r\n",
        "Haliotis_kam_contig8389\treproduction\tother biological processes\tP\t60S ribosomal protein L44 (L41)\r",
        "\r\n",
        "Haliotis_kam_contig879\treproduction\tother biological processes\tP\tSpliceosome RNA helicase DDX39B homolog (EC 3.6.4.13) (DEAD box protein UAP56)\r",
        "\r\n"
       ]
      }
     ],
     "prompt_number": 62
    },
    {
     "cell_type": "code",
     "collapsed": false,
     "input": [
      "!grep -c \"stress response\" ../analyses/{sp}_sprot_GOdescriptions.tab "
     ],
     "language": "python",
     "metadata": {},
     "outputs": [
      {
       "output_type": "stream",
       "stream": "stdout",
       "text": [
        "175\r\n"
       ]
      }
     ],
     "prompt_number": 63
    },
    {
     "cell_type": "code",
     "collapsed": false,
     "input": [
      "!grep \"stress response\" ../analyses/{sp}_sprot_GOdescriptions.tab \\\n",
      "> ../analyses/{sp2}_sprot_GOdescriptions-stress.tab"
     ],
     "language": "python",
     "metadata": {},
     "outputs": [],
     "prompt_number": 66
    },
    {
     "cell_type": "code",
     "collapsed": false,
     "input": [
      "!cut -f2 ../analyses/{sp}_sprot_GOdescriptions-stress.tab | sort | uniq -c\n"
     ],
     "language": "python",
     "metadata": {},
     "outputs": [
      {
       "output_type": "stream",
       "stream": "stdout",
       "text": [
        "   4 \"DNA damage response, signal transduction by p53 class mediator resulting in cell cycle arrest\"\r\n",
        "   1 \"DNA damage response, signal transduction by p53 class mediator resulting in induction of apoptosis\"\r\n",
        "   1 \"DNA damage response, signal transduction by p53 class mediator\"\r\n",
        "   1 \"base-excision repair, DNA ligation\"\r\n",
        "   1 \"base-excision repair, gap-filling\"\r\n",
        "   1 \"defense response to fungus, incompatible interaction\"\r\n",
        "   1 \"negative regulation of DNA damage response, signal transduction by p53 class mediator\"\r\n",
        "   1 \"positive regulation of DNA damage response, signal transduction by p53 class mediator\"\r\n",
        "   1 \"regulation of complement activation, lectin pathway\"\r\n",
        "   1 DNA damage checkpoint\r\n",
        "   1 DNA double-strand break processing\r\n",
        "  10 DNA repair\r\n",
        "   1 JNK cascade\r\n",
        "   1 active induction of host immune response by virus\r\n",
        "   1 acute inflammatory response\r\n",
        "   1 age-dependent response to oxidative stress\r\n",
        "   1 age-dependent response to reactive oxygen species during chronological cell aging\r\n",
        "   1 autophagic vacuole formation\r\n",
        "   1 blood coagulation\r\n",
        "   2 bypass DNA synthesis\r\n",
        "   1 cellular response to amino acid starvation\r\n",
        "   2 cellular response to heat\r\n",
        "   2 cellular response to oxidative stress\r\n",
        "   1 cellular response to reactive oxygen species\r\n",
        "   1 cellular response to starvation\r\n",
        "   1 cellular response to stress\r\n",
        "   2 defense response\r\n",
        "   2 defense response to Gram-negative bacterium\r\n",
        "   5 defense response to bacterium\r\n",
        "   1 defense response to virus\r\n",
        "   2 double-strand break repair\r\n",
        "   1 double-strand break repair via homologous recombination\r\n",
        "   1 endoplasmic reticulum unfolded protein response\r\n",
        "   1 heat acclimation\r\n",
        "   5 hydrogen peroxide catabolic process\r\n",
        "   1 hyperosmotic response\r\n",
        "   2 inflammatory response\r\n",
        "   2 innate immune response\r\n",
        "   5 macroautophagy\r\n",
        "   1 melanization defense response\r\n",
        "   1 mismatch repair\r\n",
        "   2 mitotic cell cycle G2/M transition DNA damage checkpoint\r\n",
        "   1 natural killer cell mediated cytotoxicity\r\n",
        "   2 negative regulation of inflammatory response to antigenic stimulus\r\n",
        "   1 negative regulation of translational initiation in response to stress\r\n",
        "   3 platelet activation\r\n",
        "   1 positive regulation of DNA repair\r\n",
        "   2 positive regulation of biosynthetic process of antibacterial peptides active against Gram-negative bacteria\r\n",
        "   1 positive regulation of blood coagulation\r\n",
        "   1 positive regulation of innate immune response\r\n",
        "   1 regulation of cellular defense response\r\n",
        "   1 regulation of inflammatory response\r\n",
        "   1 regulation of innate immune response\r\n",
        "   1 regulation of translational initiation by eIF2 alpha phosphorylation\r\n",
        "   1 regulation of translational initiation in response to stress\r\n",
        "   1 respiratory burst during acute inflammatory response\r\n",
        "  16 response to DNA damage stimulus\r\n",
        "   1 response to axon injury\r\n",
        "   1 response to cold\r\n",
        "   1 response to endoplasmic reticulum stress\r\n",
        "   3 response to heat\r\n",
        "  15 response to oxidative stress\r\n",
        "   1 response to reactive oxygen species\r\n",
        "   6 response to salt stress\r\n",
        "   1 response to starvation\r\n",
        "  28 response to stress\r\n",
        "   2 response to water deprivation\r\n",
        "   1 response to wounding\r\n",
        "   2 sorocarp development\r\n",
        "   4 wound healing\r\n"
       ]
      }
     ],
     "prompt_number": 67
    },
    {
     "cell_type": "heading",
     "level": 2,
     "metadata": {},
     "source": [
      "Plot GoSlim terms\n"
     ]
    },
    {
     "cell_type": "code",
     "collapsed": false,
     "input": [
      "pylab inline\n"
     ],
     "language": "python",
     "metadata": {},
     "outputs": [
      {
       "output_type": "stream",
       "stream": "stdout",
       "text": [
        "Populating the interactive namespace from numpy and matplotlib\n"
       ]
      }
     ],
     "prompt_number": 44
    },
    {
     "cell_type": "code",
     "collapsed": false,
     "input": [
      "#FIXME - below I added '[Haliotis_kam]' "
     ],
     "language": "python",
     "metadata": {},
     "outputs": []
    },
    {
     "cell_type": "code",
     "collapsed": false,
     "input": [
      "from pandas import *\n",
      "\n",
      "gs = read_table('../analyses/Ahyacinthus_sprot_GOdescriptions.tab')"
     ],
     "language": "python",
     "metadata": {},
     "outputs": [
      {
       "ename": "IOError",
       "evalue": "File ../analyses/{sp2}_sprot_GOdescriptions.tab does not exist",
       "output_type": "pyerr",
       "traceback": [
        "\u001b[0;31m---------------------------------------------------------------------------\u001b[0m\n\u001b[0;31mIOError\u001b[0m                                   Traceback (most recent call last)",
        "\u001b[0;32m<ipython-input-68-286f72e2a23c>\u001b[0m in \u001b[0;36m<module>\u001b[0;34m()\u001b[0m\n\u001b[1;32m      1\u001b[0m \u001b[0;32mfrom\u001b[0m \u001b[0mpandas\u001b[0m \u001b[0;32mimport\u001b[0m \u001b[0;34m*\u001b[0m\u001b[0;34m\u001b[0m\u001b[0m\n\u001b[1;32m      2\u001b[0m \u001b[0;34m\u001b[0m\u001b[0m\n\u001b[0;32m----> 3\u001b[0;31m \u001b[0mgs\u001b[0m \u001b[0;34m=\u001b[0m \u001b[0mread_table\u001b[0m\u001b[0;34m(\u001b[0m\u001b[0;34m'../analyses/{sp2}_sprot_GOdescriptions.tab'\u001b[0m\u001b[0;34m)\u001b[0m\u001b[0;34m\u001b[0m\u001b[0m\n\u001b[0m",
        "\u001b[0;32m/Users/sr320/anaconda/lib/python2.7/site-packages/pandas/io/parsers.pyc\u001b[0m in \u001b[0;36mparser_f\u001b[0;34m(filepath_or_buffer, sep, dialect, compression, doublequote, escapechar, quotechar, quoting, skipinitialspace, lineterminator, header, index_col, names, prefix, skiprows, skipfooter, skip_footer, na_values, true_values, false_values, delimiter, converters, dtype, usecols, engine, delim_whitespace, as_recarray, na_filter, compact_ints, use_unsigned, low_memory, buffer_lines, warn_bad_lines, error_bad_lines, keep_default_na, thousands, comment, decimal, parse_dates, keep_date_col, dayfirst, date_parser, memory_map, nrows, iterator, chunksize, verbose, encoding, squeeze)\u001b[0m\n\u001b[1;32m    399\u001b[0m                     buffer_lines=buffer_lines)\n\u001b[1;32m    400\u001b[0m \u001b[0;34m\u001b[0m\u001b[0m\n\u001b[0;32m--> 401\u001b[0;31m         \u001b[0;32mreturn\u001b[0m \u001b[0m_read\u001b[0m\u001b[0;34m(\u001b[0m\u001b[0mfilepath_or_buffer\u001b[0m\u001b[0;34m,\u001b[0m \u001b[0mkwds\u001b[0m\u001b[0;34m)\u001b[0m\u001b[0;34m\u001b[0m\u001b[0m\n\u001b[0m\u001b[1;32m    402\u001b[0m \u001b[0;34m\u001b[0m\u001b[0m\n\u001b[1;32m    403\u001b[0m     \u001b[0mparser_f\u001b[0m\u001b[0;34m.\u001b[0m\u001b[0m__name__\u001b[0m \u001b[0;34m=\u001b[0m \u001b[0mname\u001b[0m\u001b[0;34m\u001b[0m\u001b[0m\n",
        "\u001b[0;32m/Users/sr320/anaconda/lib/python2.7/site-packages/pandas/io/parsers.pyc\u001b[0m in \u001b[0;36m_read\u001b[0;34m(filepath_or_buffer, kwds)\u001b[0m\n\u001b[1;32m    207\u001b[0m \u001b[0;34m\u001b[0m\u001b[0m\n\u001b[1;32m    208\u001b[0m     \u001b[0;31m# Create the parser.\u001b[0m\u001b[0;34m\u001b[0m\u001b[0;34m\u001b[0m\u001b[0m\n\u001b[0;32m--> 209\u001b[0;31m     \u001b[0mparser\u001b[0m \u001b[0;34m=\u001b[0m \u001b[0mTextFileReader\u001b[0m\u001b[0;34m(\u001b[0m\u001b[0mfilepath_or_buffer\u001b[0m\u001b[0;34m,\u001b[0m \u001b[0;34m**\u001b[0m\u001b[0mkwds\u001b[0m\u001b[0;34m)\u001b[0m\u001b[0;34m\u001b[0m\u001b[0m\n\u001b[0m\u001b[1;32m    210\u001b[0m \u001b[0;34m\u001b[0m\u001b[0m\n\u001b[1;32m    211\u001b[0m     \u001b[0;32mif\u001b[0m \u001b[0mnrows\u001b[0m \u001b[0;32mis\u001b[0m \u001b[0;32mnot\u001b[0m \u001b[0mNone\u001b[0m\u001b[0;34m:\u001b[0m\u001b[0;34m\u001b[0m\u001b[0m\n",
        "\u001b[0;32m/Users/sr320/anaconda/lib/python2.7/site-packages/pandas/io/parsers.pyc\u001b[0m in \u001b[0;36m__init__\u001b[0;34m(self, f, engine, **kwds)\u001b[0m\n\u001b[1;32m    507\u001b[0m             \u001b[0mself\u001b[0m\u001b[0;34m.\u001b[0m\u001b[0moptions\u001b[0m\u001b[0;34m[\u001b[0m\u001b[0;34m'has_index_names'\u001b[0m\u001b[0;34m]\u001b[0m \u001b[0;34m=\u001b[0m \u001b[0mkwds\u001b[0m\u001b[0;34m[\u001b[0m\u001b[0;34m'has_index_names'\u001b[0m\u001b[0;34m]\u001b[0m\u001b[0;34m\u001b[0m\u001b[0m\n\u001b[1;32m    508\u001b[0m \u001b[0;34m\u001b[0m\u001b[0m\n\u001b[0;32m--> 509\u001b[0;31m         \u001b[0mself\u001b[0m\u001b[0;34m.\u001b[0m\u001b[0m_make_engine\u001b[0m\u001b[0;34m(\u001b[0m\u001b[0mself\u001b[0m\u001b[0;34m.\u001b[0m\u001b[0mengine\u001b[0m\u001b[0;34m)\u001b[0m\u001b[0;34m\u001b[0m\u001b[0m\n\u001b[0m\u001b[1;32m    510\u001b[0m \u001b[0;34m\u001b[0m\u001b[0m\n\u001b[1;32m    511\u001b[0m     \u001b[0;32mdef\u001b[0m \u001b[0m_get_options_with_defaults\u001b[0m\u001b[0;34m(\u001b[0m\u001b[0mself\u001b[0m\u001b[0;34m,\u001b[0m \u001b[0mengine\u001b[0m\u001b[0;34m)\u001b[0m\u001b[0;34m:\u001b[0m\u001b[0;34m\u001b[0m\u001b[0m\n",
        "\u001b[0;32m/Users/sr320/anaconda/lib/python2.7/site-packages/pandas/io/parsers.pyc\u001b[0m in \u001b[0;36m_make_engine\u001b[0;34m(self, engine)\u001b[0m\n\u001b[1;32m    609\u001b[0m     \u001b[0;32mdef\u001b[0m \u001b[0m_make_engine\u001b[0m\u001b[0;34m(\u001b[0m\u001b[0mself\u001b[0m\u001b[0;34m,\u001b[0m \u001b[0mengine\u001b[0m\u001b[0;34m=\u001b[0m\u001b[0;34m'c'\u001b[0m\u001b[0;34m)\u001b[0m\u001b[0;34m:\u001b[0m\u001b[0;34m\u001b[0m\u001b[0m\n\u001b[1;32m    610\u001b[0m         \u001b[0;32mif\u001b[0m \u001b[0mengine\u001b[0m \u001b[0;34m==\u001b[0m \u001b[0;34m'c'\u001b[0m\u001b[0;34m:\u001b[0m\u001b[0;34m\u001b[0m\u001b[0m\n\u001b[0;32m--> 611\u001b[0;31m             \u001b[0mself\u001b[0m\u001b[0;34m.\u001b[0m\u001b[0m_engine\u001b[0m \u001b[0;34m=\u001b[0m \u001b[0mCParserWrapper\u001b[0m\u001b[0;34m(\u001b[0m\u001b[0mself\u001b[0m\u001b[0;34m.\u001b[0m\u001b[0mf\u001b[0m\u001b[0;34m,\u001b[0m \u001b[0;34m**\u001b[0m\u001b[0mself\u001b[0m\u001b[0;34m.\u001b[0m\u001b[0moptions\u001b[0m\u001b[0;34m)\u001b[0m\u001b[0;34m\u001b[0m\u001b[0m\n\u001b[0m\u001b[1;32m    612\u001b[0m         \u001b[0;32melse\u001b[0m\u001b[0;34m:\u001b[0m\u001b[0;34m\u001b[0m\u001b[0m\n\u001b[1;32m    613\u001b[0m             \u001b[0;32mif\u001b[0m \u001b[0mengine\u001b[0m \u001b[0;34m==\u001b[0m \u001b[0;34m'python'\u001b[0m\u001b[0;34m:\u001b[0m\u001b[0;34m\u001b[0m\u001b[0m\n",
        "\u001b[0;32m/Users/sr320/anaconda/lib/python2.7/site-packages/pandas/io/parsers.pyc\u001b[0m in \u001b[0;36m__init__\u001b[0;34m(self, src, **kwds)\u001b[0m\n\u001b[1;32m    891\u001b[0m         \u001b[0;31m# #2442\u001b[0m\u001b[0;34m\u001b[0m\u001b[0;34m\u001b[0m\u001b[0m\n\u001b[1;32m    892\u001b[0m         \u001b[0mkwds\u001b[0m\u001b[0;34m[\u001b[0m\u001b[0;34m'allow_leading_cols'\u001b[0m\u001b[0;34m]\u001b[0m \u001b[0;34m=\u001b[0m \u001b[0mself\u001b[0m\u001b[0;34m.\u001b[0m\u001b[0mindex_col\u001b[0m \u001b[0;32mis\u001b[0m \u001b[0;32mnot\u001b[0m \u001b[0mFalse\u001b[0m\u001b[0;34m\u001b[0m\u001b[0m\n\u001b[0;32m--> 893\u001b[0;31m         \u001b[0mself\u001b[0m\u001b[0;34m.\u001b[0m\u001b[0m_reader\u001b[0m \u001b[0;34m=\u001b[0m \u001b[0m_parser\u001b[0m\u001b[0;34m.\u001b[0m\u001b[0mTextReader\u001b[0m\u001b[0;34m(\u001b[0m\u001b[0msrc\u001b[0m\u001b[0;34m,\u001b[0m \u001b[0;34m**\u001b[0m\u001b[0mkwds\u001b[0m\u001b[0;34m)\u001b[0m\u001b[0;34m\u001b[0m\u001b[0m\n\u001b[0m\u001b[1;32m    894\u001b[0m \u001b[0;34m\u001b[0m\u001b[0m\n\u001b[1;32m    895\u001b[0m         \u001b[0;31m# XXX\u001b[0m\u001b[0;34m\u001b[0m\u001b[0;34m\u001b[0m\u001b[0m\n",
        "\u001b[0;32m/Users/sr320/anaconda/lib/python2.7/site-packages/pandas/_parser.so\u001b[0m in \u001b[0;36mpandas._parser.TextReader.__cinit__ (pandas/src/parser.c:2771)\u001b[0;34m()\u001b[0m\n",
        "\u001b[0;32m/Users/sr320/anaconda/lib/python2.7/site-packages/pandas/_parser.so\u001b[0m in \u001b[0;36mpandas._parser.TextReader._setup_parser_source (pandas/src/parser.c:4803)\u001b[0;34m()\u001b[0m\n",
        "\u001b[0;31mIOError\u001b[0m: File ../analyses/{sp2}_sprot_GOdescriptions.tab does not exist"
       ]
      }
     ],
     "prompt_number": 68
    },
    {
     "cell_type": "code",
     "collapsed": false,
     "input": [
      "gs"
     ],
     "language": "python",
     "metadata": {},
     "outputs": [
      {
       "html": [
        "<pre>\n",
        "&ltclass 'pandas.core.frame.DataFrame'&gt\n",
        "Int64Index: 3983 entries, 0 to 3982\n",
        "Data columns (total 5 columns):\n",
        "ContigID       3983  non-null values\n",
        "term           3983  non-null values\n",
        "GOSlim_bin     3983  non-null values\n",
        "aspect         3983  non-null values\n",
        "ProteinName    3960  non-null values\n",
        "dtypes: object(5)\n",
        "</pre>"
       ],
       "metadata": {},
       "output_type": "pyout",
       "prompt_number": 24,
       "text": [
        "<class 'pandas.core.frame.DataFrame'>\n",
        "Int64Index: 3983 entries, 0 to 3982\n",
        "Data columns (total 5 columns):\n",
        "ContigID       3983  non-null values\n",
        "term           3983  non-null values\n",
        "GOSlim_bin     3983  non-null values\n",
        "aspect         3983  non-null values\n",
        "ProteinName    3960  non-null values\n",
        "dtypes: object(5)"
       ]
      }
     ],
     "prompt_number": 24
    },
    {
     "cell_type": "code",
     "collapsed": false,
     "input": [
      "gs.groupby('GOSlim_bin').ContigID.count().plot(kind='barh', color=list('y'))\n",
      "savefig('../analyses/[Haliotis_kam]GOSlim.png', bbox_inches='tight')"
     ],
     "language": "python",
     "metadata": {},
     "outputs": [
      {
       "metadata": {},
       "output_type": "display_data",
       "png": "[encoded data removed]",
       "text": [
        "<matplotlib.figure.Figure at 0x10a964e50>"
       ]
      }
     ],
     "prompt_number": 56
    },
    {
     "cell_type": "code",
     "collapsed": false,
     "input": [],
     "language": "python",
     "metadata": {},
     "outputs": []
    }
   ],
   "metadata": {}
  }
 ]
}