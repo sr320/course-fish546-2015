{
 "metadata": {
  "name": "",
  "signature": "sha256:40b432edfe5ea7eba3fc06e61fa8e975c2ac04d28a82b4e6a6590184e3fe88e6"
 },
 "nbformat": 3,
 "nbformat_minor": 0,
 "worksheets": [
  {
   "cells": [
    {
     "cell_type": "heading",
     "level": 2,
     "metadata": {},
     "source": [
      "A few blast outputs"
     ]
    },
    {
     "cell_type": "code",
     "collapsed": false,
     "input": [
      "!ls ../analyses/blastout/"
     ],
     "language": "python",
     "metadata": {},
     "outputs": [
      {
       "output_type": "stream",
       "stream": "stdout",
       "text": [
        "33496_Ahyacinthus_CoralContigs_blastx_sprot.tab\r\n",
        "Hcracherodii_v1_sprot.tab\r\n",
        "Nucella.JA132014.trinity_blastx_sprot.tab\r\n"
       ]
      }
     ],
     "prompt_number": 1
    },
    {
     "cell_type": "code",
     "collapsed": false,
     "input": [
      "cd .."
     ],
     "language": "python",
     "metadata": {},
     "outputs": [
      {
       "output_type": "stream",
       "stream": "stdout",
       "text": [
        "/Users/sr320/git-repos/fish546-2015\n"
       ]
      }
     ],
     "prompt_number": 16
    },
    {
     "cell_type": "code",
     "collapsed": false,
     "input": [
      "ls"
     ],
     "language": "python",
     "metadata": {},
     "outputs": [
      {
       "output_type": "stream",
       "stream": "stdout",
       "text": [
        "CONTRIBUTING.md  \u001b[34manalyses\u001b[m\u001b[m/        \u001b[34mnotebooks\u001b[m\u001b[m/\r\n",
        "README.md        \u001b[34mdata\u001b[m\u001b[m/\r\n"
       ]
      }
     ],
     "prompt_number": 19
    },
    {
     "cell_type": "code",
     "collapsed": false,
     "input": [
      "!head -3 analyses/blastout/*.tab"
     ],
     "language": "python",
     "metadata": {},
     "outputs": [
      {
       "output_type": "stream",
       "stream": "stdout",
       "text": [
        "==> analyses/blastout/33496_Ahyacinthus_CoralContigs_blastx_sprot.tab <==\r\n",
        "contig113764\tsp|F1LPQ2|ASCC3_RAT\t41.46\t82\t40\t2\t87\t332\t319\t392\t2e-06\t50.1\r\n",
        "contig113779\tsp|P45844|ABCG1_HUMAN\t59.29\t140\t56\t1\t1\t417\t499\t638\t8e-54\t  184\r\n",
        "contig113786\tsp|A7T395|SPAST_NEMVE\t56.82\t44\t19\t0\t3\t134\t126\t169\t1e-09\t57.8\r\n",
        "\r\n",
        "==> analyses/blastout/Hcracherodii_v1_sprot.tab <==\r\n",
        "Haliotis_crach_v1_contig_1\tsp|Q5R924|RS20_PONAB\t93.48\t46\t3\t0\t2\t139\t74\t119\t1e-23\t90.9\r\n",
        "Haliotis_crach_v1_contig_4\tsp|P02556|TBB_LYTPI\t100.00\t60\t0\t0\t1\t180\t26\t85\t4e-39\t  132\r\n",
        "Haliotis_crach_v1_contig_6\tsp|P74615|Y1483_SYNY3\t39.71\t68\t39\t1\t5\t202\t63\t130\t5e-07\t47.8\r\n",
        "\r\n",
        "==> analyses/blastout/Nucella.JA132014.trinity_blastx_sprot.tab <==\r\n",
        "comp274304_c0_seq1\tsp|Q92831|KAT2B_HUMAN\t58.82\t119\t48\t1\t372\t19\t277\t395\t4e-41\t  149\r\n",
        "comp274305_c0_seq1\tsp|Q5ZMV8|RPGP2_CHICK\t66.67\t96\t32\t0\t288\t1\t309\t404\t5e-38\t  139\r\n",
        "comp274308_c0_seq1\tsp|P00390|GSHR_HUMAN\t52.75\t91\t41\t1\t21\t287\t108\t198\t5e-27\t  107\r\n"
       ]
      }
     ],
     "prompt_number": 24
    },
    {
     "cell_type": "heading",
     "level": 1,
     "metadata": {},
     "source": [
      "nest"
     ]
    },
    {
     "cell_type": "code",
     "collapsed": false,
     "input": [
      "akjdf\n",
      "akdfj"
     ],
     "language": "python",
     "metadata": {},
     "outputs": [
      {
       "ename": "NameError",
       "evalue": "name 'akjdf' is not defined",
       "output_type": "pyerr",
       "traceback": [
        "\u001b[0;31m---------------------------------------------------------------------------\u001b[0m\n\u001b[0;31mNameError\u001b[0m                                 Traceback (most recent call last)",
        "\u001b[0;32m<ipython-input-9-c40391ab48f0>\u001b[0m in \u001b[0;36m<module>\u001b[0;34m()\u001b[0m\n\u001b[0;32m----> 1\u001b[0;31m \u001b[0makjdf\u001b[0m\u001b[0;34m\u001b[0m\u001b[0m\n\u001b[0m\u001b[1;32m      2\u001b[0m \u001b[0makdfj\u001b[0m\u001b[0;34m\u001b[0m\u001b[0m\n",
        "\u001b[0;31mNameError\u001b[0m: name 'akjdf' is not defined"
       ]
      }
     ],
     "prompt_number": 9
    },
    {
     "cell_type": "heading",
     "level": 5,
     "metadata": {},
     "source": [
      "net"
     ]
    },
    {
     "cell_type": "code",
     "collapsed": false,
     "input": [],
     "language": "python",
     "metadata": {},
     "outputs": []
    }
   ],
   "metadata": {}
  }
 ]
}