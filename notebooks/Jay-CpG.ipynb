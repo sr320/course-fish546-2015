{
 "metadata": {
  "name": "",
  "signature": "sha256:009ac995a16077173fe4cdd403aefa96ffd829cd1d7d11f843b00d346fa702f0"
 },
 "nbformat": 3,
 "nbformat_minor": 0,
 "worksheets": [
  {
   "cells": [
    {
     "cell_type": "heading",
     "level": 1,
     "metadata": {},
     "source": [
      "Determing CpG ratio per Gene Function"
     ]
    },
    {
     "cell_type": "heading",
     "level": 1,
     "metadata": {},
     "source": [
      "Step 1: Obtain GO slim information (gene function)"
     ]
    },
    {
     "cell_type": "code",
     "collapsed": false,
     "input": [
      "#from 00 notebook\n",
      "!head ../analyses/Ahyacinthus_GOslim.tab"
     ],
     "language": "python",
     "metadata": {},
     "outputs": [
      {
       "output_type": "stream",
       "stream": "stdout",
       "text": [
        "ContigID\tGOSlim_bin\r",
        "\r\n",
        "contig70128\tother biological processes\r",
        "\r\n",
        "contig82454\tDNA metabolism\r",
        "\r\n",
        "contig174510\tprotein metabolism\r",
        "\r\n",
        "contig209629\tother biological processes\r",
        "\r\n",
        "contig10816_153279\tsignal transduction\r",
        "\r\n",
        "contig109222\ttransport\r",
        "\r\n",
        "contig79068\tsignal transduction\r",
        "\r\n",
        "contig119835\tstress response\r",
        "\r\n",
        "contig110229\ttransport\r",
        "\r\n"
       ]
      }
     ],
     "prompt_number": 9
    },
    {
     "cell_type": "heading",
     "level": 1,
     "metadata": {},
     "source": [
      "Step 2: Determine CpG ratio for each gene "
     ]
    },
    {
     "cell_type": "heading",
     "level": 1,
     "metadata": {},
     "source": [
      "Step 2a: Convert fasta to tab-delimited"
     ]
    },
    {
     "cell_type": "code",
     "collapsed": false,
     "input": [
      "!perl -e '$count=0; $len=0; while(<>) {s/\\r?\\n//; s/\\t/ /g; if (s/^>//) { if ($. != 1) {print \"\\n\"} s/ |$/\\t/; $count++; $_ .= \"\\t\";} else {s/ //g; $len += length($_)} print $_;} print \"\\n\"; warn \"\\nConverted $count FASTA records in $. lines to tabular format\\nTotal sequence length: $len\\n\\n\";' \\\n",
      "../data/fa/Ahyacinthus_v1.fasta > ../analyses/Ahyacinthus_v1.tab"
     ],
     "language": "python",
     "metadata": {},
     "outputs": [
      {
       "output_type": "stream",
       "stream": "stdout",
       "text": [
        "\r\n",
        "Converted 33496 FASTA records in 66992 lines to tabular format\r\n",
        "Total sequence length: 17056543\r\n",
        "\r\n"
       ]
      }
     ],
     "prompt_number": 1
    },
    {
     "cell_type": "code",
     "collapsed": false,
     "input": [
      "!head -1 ../analyses/Ahyacinthus_v1.tab"
     ],
     "language": "python",
     "metadata": {},
     "outputs": [
      {
       "output_type": "stream",
       "stream": "stdout",
       "text": [
        "contig27\t\tCAAAATTCCAGCACTCCGTTTTGCATGGTAAACTTGTCTTAGTAGGACACTGTGGAAGATGTACAGCGCAAGACATCACAGTTGCAAGCGCCGACGAACAGCTGTTAAACTCTCCTCTCATATTCTCGAACAAACCAAATATTTCTTCCTCTCTGTTGTTGCTAACCTTTGAATATATGAAGCTGGCATTAGCACAGGACTCAAAGTTTCCGCCGAGCAGTTT\r\n"
       ]
      }
     ],
     "prompt_number": 2
    },
    {
     "cell_type": "code",
     "collapsed": false,
     "input": [
      "#temp replace name so c or g will not confound\n",
      "#!sed 's/PiuraChilensis_v1_contig/999999/g' <../data/Piura_v1_contigs.tab> ../data/Piura_v1-99_contigs.tab\n"
     ],
     "language": "python",
     "metadata": {},
     "outputs": [],
     "prompt_number": 24
    },
    {
     "cell_type": "code",
     "collapsed": false,
     "input": [
      "#!head -1 ../data/Piura_v1-99_contigs.tab"
     ],
     "language": "python",
     "metadata": {},
     "outputs": [
      {
       "output_type": "stream",
       "stream": "stdout",
       "text": [
        "999999_1\t\tATTTACAATACGAAGTAAAATAGATAACGTGAAAATAATCTTGGTGCTGGATGATCGATCAAGTTCACCAATATTTTATTGTAAAAAATCATTCTAAACAGCATGAAATCGTGTACAATGTATAAACAAGCAAATATATAACACTAAAGCAAGAGGGCGTAAGTGGGGGGGTGGGTGAGAGTAAAAAATTCAAACATGTCAAATACCCCGGCGTTAGCCTTAAAAGCACCATGGACTTCTGCCTTCAATAAGCATAAAATTAAAACACCTAATACACAATGAATATACAGATAAAACAGATTTATGAATAGTTGGTGTTACATCTTTTACAGCCATAAGCCTTCATTTTGCTTCCAAACGTATAAAATCTGACTTGGAACAATATACAGCCATGAGATATGACACAGCGAGCACTACAATATATATTTATCTTGTACTATACAGCCTGTACAAGAAAATTCTGGAATTGTCTTCACAAGAGACAGAAAAATAGTTGCAATGTGAATGCTAGTCTACTATTTGATCACAATTGGATAGAAAAGTACAGCACATAAATGTTGGTGATACCTTAAAGAAAAGTGCAACAATATCAAAGGAATTAGTACCAGCATGCATTAGAAAAGTAAAAGTCTTGCTTATTACACAAAGCTGACTATATGATGTTCACCGCTTCTGGTGTGCAAAGAATTAAAAACAATGCAATTTCGGTCAGTTTTAACAAGGAATTAACAATTCATAGGAAAAATACAAGCATATGGTCTCAGGCCAATTGCTAGGACATAAAAAAAGCCTGCATATCACGAAAAGCCAAGTGCATGCATCGTATCCTGAAGACACCTTGATATTAACATGTAAGAAATTTAGCTTGCCACATTTCCATATTCCATAATTTCATTTTGAACACCGTGCCAGCAAATTCATCTGATATAAACACACAGGCAACTAATTTGGACACTTTCTAACTAGGTAGTTCAGAAAATACAGCTTTCAACAGGTACACATTTCTATAATAATAATAATAGCAAATGTCAGTGTGGCAGTTTTTGGACAAGTCCCTTTCAGAGGCCAAAATATCTATTTTGTATTAATTAATTATCCATTTTTTGGACTATACGGCTGTATCAAAACCATGGGTAACTGGGACTTGCCTAGCTTTGGGGGTGGAGTC\r\n"
       ]
      }
     ],
     "prompt_number": 25
    },
    {
     "cell_type": "code",
     "collapsed": false,
     "input": [
      "#add column with length of sequence\n",
      "!perl -e '$col = 2;' -e 'while (<>) { s/\\r?\\n//; @F = split /\\t/, $_; $len = length($F[$col]); print \"$_\\t$len\\n\" } warn \"\\nAdded column with length of column $col for $. lines.\\n\\n\";' \\\n",
      "../analyses/Ahyacinthus_v1.tab > ../analyses/Ahyacinthus_v1_len.tab"
     ],
     "language": "python",
     "metadata": {},
     "outputs": [
      {
       "output_type": "stream",
       "stream": "stdout",
       "text": [
        "\r\n",
        "Added column with length of column 2 for 33496 lines.\r\n",
        "\r\n"
       ]
      }
     ],
     "prompt_number": 3
    },
    {
     "cell_type": "code",
     "collapsed": false,
     "input": [
      "!head -1 ../analyses/Ahyacinthus_v1_len.tab"
     ],
     "language": "python",
     "metadata": {},
     "outputs": [
      {
       "output_type": "stream",
       "stream": "stdout",
       "text": [
        "contig27\t\tCAAAATTCCAGCACTCCGTTTTGCATGGTAAACTTGTCTTAGTAGGACACTGTGGAAGATGTACAGCGCAAGACATCACAGTTGCAAGCGCCGACGAACAGCTGTTAAACTCTCCTCTCATATTCTCGAACAAACCAAATATTTCTTCCTCTCTGTTGTTGCTAACCTTTGAATATATGAAGCTGGCATTAGCACAGGACTCAAAGTTTCCGCCGAGCAGTTT\t223\r\n"
       ]
      }
     ],
     "prompt_number": 4
    },
    {
     "cell_type": "code",
     "collapsed": false,
     "input": [
      "!awk -F\\CG '{print NF-1}' ../analyses/Ahyacinthus_v1_len.tab > ../analyses/Ahyacinthus_v1_CG.tab\n",
      "!awk -F\\C '{print NF-1}' ../analyses/Ahyacinthus_v1_len.tab > ../analyses/Ahyacinthus_v1_C.tab\n",
      "!awk -F\\G '{print NF-1}' ../analyses/Ahyacinthus_v1_len.tab > ../analyses/Ahyacinthus_v1_G.tab\n",
      "!paste ../analyses/Ahyacinthus_v1_len.tab \\\n",
      "../analyses/Ahyacinthus_v1_CG.tab \\\n",
      "../analyses/Ahyacinthus_v1_C.tab \\\n",
      "../analyses/Ahyacinthus_v1_G.tab \\\n",
      "> ../analyses/Ahyacinthus_v1_C-G.tab\n",
      "!head -1 ../analyses/Ahyacinthus_v1_C-G.tab\n"
     ],
     "language": "python",
     "metadata": {},
     "outputs": [
      {
       "output_type": "stream",
       "stream": "stdout",
       "text": [
        "contig27\t\tCAAAATTCCAGCACTCCGTTTTGCATGGTAAACTTGTCTTAGTAGGACACTGTGGAAGATGTACAGCGCAAGACATCACAGTTGCAAGCGCCGACGAACAGCTGTTAAACTCTCCTCTCATATTCTCGAACAAACCAAATATTTCTTCCTCTCTGTTGTTGCTAACCTTTGAATATATGAAGCTGGCATTAGCACAGGACTCAAAGTTTCCGCCGAGCAGTTT\t223\t8\t55\t42\r\n"
       ]
      }
     ],
     "prompt_number": 5
    },
    {
     "cell_type": "markdown",
     "metadata": {},
     "source": [
      "![](http://eagle.fish.washington.edu/cnidarian/skitch/BMC_Genomics___Full_text___DNA_methylation_patterns_provide_insight_into_epigenetic_regulation_in_the_Pacific_oyster__Crassostrea_gigas__1A0683A5.png)"
     ]
    },
    {
     "cell_type": "code",
     "collapsed": false,
     "input": [
      "!awk '{print $1, \"\\t\", (($4)/($5*$6))*(($3**2)/($3-1))}' \\\n",
      "../analyses/Ahyacinthus_v1_C-G.tab > ../analyses/Ahyacinthus_v1_CpG.tab\n",
      "!head ../analyses/Ahyacinthus_v1_CpG.tab"
     ],
     "language": "python",
     "metadata": {},
     "outputs": [
      {
       "output_type": "stream",
       "stream": "stdout",
       "text": [
        "contig27 \t 0.775773\r\n",
        "contig88 \t 0.459903\r\n",
        "contig100 \t 0.254614\r\n",
        "contig211 \t 0.885658\r\n",
        "contig405 \t 0.689373\r\n",
        "contig443 \t 1.34126\r\n",
        "contig470 \t 0.323368\r\n",
        "contig503 \t 0.941889\r\n",
        "contig583 \t 0.625727\r\n",
        "contig590 \t 1.21135\r\n"
       ]
      }
     ],
     "prompt_number": 6
    },
    {
     "cell_type": "code",
     "collapsed": false,
     "input": [
      "!ls ../analyses/A*"
     ],
     "language": "python",
     "metadata": {},
     "outputs": [
      {
       "output_type": "stream",
       "stream": "stdout",
       "text": [
        "../analyses/Ahyacinthus_sprot.tab  ../analyses/Ahyacinthus_v1_CG.tab\r\n",
        "../analyses/Ahyacinthus_v1.tab     ../analyses/Ahyacinthus_v1_CpG.tab\r\n",
        "../analyses/Ahyacinthus_v1_C-G.tab ../analyses/Ahyacinthus_v1_G.tab\r\n",
        "../analyses/Ahyacinthus_v1_C.tab   ../analyses/Ahyacinthus_v1_len.tab\r\n"
       ]
      }
     ],
     "prompt_number": 8
    },
    {
     "cell_type": "code",
     "collapsed": false,
     "input": [],
     "language": "python",
     "metadata": {},
     "outputs": [],
     "prompt_number": 31
    },
    {
     "cell_type": "heading",
     "level": 1,
     "metadata": {},
     "source": [
      "Join with GO Slim"
     ]
    },
    {
     "cell_type": "code",
     "collapsed": false,
     "input": [
      "!head ../analyses/Ahyacinthus_GOslim.tab"
     ],
     "language": "python",
     "metadata": {},
     "outputs": [
      {
       "output_type": "stream",
       "stream": "stdout",
       "text": [
        "ContigID\tGOSlim_bin\r",
        "\r\n",
        "contig70128\tother biological processes\r",
        "\r\n",
        "contig82454\tDNA metabolism\r",
        "\r\n",
        "contig174510\tprotein metabolism\r",
        "\r\n",
        "contig209629\tother biological processes\r",
        "\r\n",
        "contig10816_153279\tsignal transduction\r",
        "\r\n",
        "contig109222\ttransport\r",
        "\r\n",
        "contig79068\tsignal transduction\r",
        "\r\n",
        "contig119835\tstress response\r",
        "\r\n",
        "contig110229\ttransport\r",
        "\r\n"
       ]
      }
     ],
     "prompt_number": 11
    },
    {
     "cell_type": "code",
     "collapsed": false,
     "input": [
      "#!tr ',' \"\\t\" <../data/Piura_v1_GOslim.csv> ../data/Piura_v1_GOslim.tab"
     ],
     "language": "python",
     "metadata": {},
     "outputs": [],
     "prompt_number": 36
    },
    {
     "cell_type": "code",
     "collapsed": false,
     "input": [
      "!sort ../analyses/Ahyacinthus_GOslim.tab | tail -n +2 > ../analyses/Ahyacinthus_GOslim.sorted\n",
      "!head ../analyses/Ahyacinthus_GOslim.sorted\n",
      "!awk -F $'\\t' '{print $1, \"\\t\", $2}' ../analyses/Ahyacinthus_GOslim.sorted > ../analyses/Ahyacinthus_GOslim.sortedtab\n",
      "!head ../analyses/Ahyacinthus_GOslim.sortedtab"
     ],
     "language": "python",
     "metadata": {},
     "outputs": [
      {
       "output_type": "stream",
       "stream": "stdout",
       "text": [
        "contig100010\tcell adhesion\r",
        "\r\n",
        "contig100010\tcell-cell signaling\r",
        "\r\n",
        "contig100010\tdevelopmental processes\r",
        "\r\n",
        "contig100021_110093_105915\tDNA metabolism\r",
        "\r\n",
        "contig100021_110093_105915\tprotein metabolism\r",
        "\r\n",
        "contig100025\tdevelopmental processes\r",
        "\r\n",
        "contig100040\tRNA metabolism\r",
        "\r\n",
        "contig100040\tdevelopmental processes\r",
        "\r\n",
        "contig100055\ttransport\r",
        "\r\n",
        "contig100067\tdevelopmental processes\r",
        "\r\n"
       ]
      },
      {
       "output_type": "stream",
       "stream": "stdout",
       "text": [
        "contig100010 \t cell adhesion\r",
        "\r\n",
        "contig100010 \t cell-cell signaling\r",
        "\r\n",
        "contig100010 \t developmental processes\r",
        "\r\n",
        "contig100021_110093_105915 \t DNA metabolism\r",
        "\r\n",
        "contig100021_110093_105915 \t protein metabolism\r",
        "\r\n",
        "contig100025 \t developmental processes\r",
        "\r\n",
        "contig100040 \t RNA metabolism\r",
        "\r\n",
        "contig100040 \t developmental processes\r",
        "\r\n",
        "contig100055 \t transport\r",
        "\r\n",
        "contig100067 \t developmental processes\r",
        "\r\n"
       ]
      }
     ],
     "prompt_number": 66
    },
    {
     "cell_type": "code",
     "collapsed": false,
     "input": [
      "!sort ../analyses/Ahyacinthus_v1_CpG.tab > ../analyses/Ahyacinthus_v1_CpG.sorted\n",
      "!head ../analyses/Ahyacinthus_v1_CpG.sorted\n",
      "#!awk -F $'\\t' '{print $1, \"\\t\", $2}' ../data/Piura_v1_CpG.sorted > ../data/Piura_v1_CpG.sortedtab\n",
      "#!head ../data/Piura_v1_CpG.sortedtab"
     ],
     "language": "python",
     "metadata": {},
     "outputs": [
      {
       "output_type": "stream",
       "stream": "stdout",
       "text": [
        "contig100 \t 0.254614\r\n",
        "contig100001 \t 0.431531\r\n",
        "contig100008 \t 0.276093\r\n",
        "contig100010 \t 0.476931\r\n",
        "contig100021_110093_105915 \t 2.0758\r\n",
        "contig100025 \t 0.299187\r\n",
        "contig100026 \t 1.0599\r\n",
        "contig100030 \t 0.854552\r\n",
        "contig100031 \t 0.64616\r\n",
        "contig100038_111047 \t 1.60515\r\n"
       ]
      }
     ],
     "prompt_number": 13
    },
    {
     "cell_type": "markdown",
     "metadata": {},
     "source": []
    },
    {
     "cell_type": "code",
     "collapsed": false,
     "input": [
      "!join -t $'\\t' ../analyses/Ahyacinthus_v1_CpG.sorted ../analyses/Ahyacinthus_GOslim.sortedtab \\\n",
      "> ../analyses/Ahyacinthus_v1_CpG_GOslim"
     ],
     "language": "python",
     "metadata": {},
     "outputs": [],
     "prompt_number": 68
    },
    {
     "cell_type": "heading",
     "level": 1,
     "metadata": {},
     "source": [
      "Graph"
     ]
    },
    {
     "cell_type": "code",
     "collapsed": false,
     "input": [
      "import pandas as pd"
     ],
     "language": "python",
     "metadata": {},
     "outputs": [],
     "prompt_number": 69
    },
    {
     "cell_type": "code",
     "collapsed": false,
     "input": [
      "Ahya = pd.read_table('../analyses/Ahyacinthus_v1_CpG_GOslim', header=None)\n"
     ],
     "language": "python",
     "metadata": {},
     "outputs": [],
     "prompt_number": 70
    },
    {
     "cell_type": "code",
     "collapsed": false,
     "input": [
      "Ahya"
     ],
     "language": "python",
     "metadata": {},
     "outputs": [
      {
       "html": [
        "<pre>\n",
        "&ltclass 'pandas.core.frame.DataFrame'&gt\n",
        "Int64Index: 25258 entries, 0 to 25257\n",
        "Data columns (total 3 columns):\n",
        "0    25258  non-null values\n",
        "1    25258  non-null values\n",
        "2    25258  non-null values\n",
        "dtypes: float64(1), object(2)\n",
        "</pre>"
       ],
       "metadata": {},
       "output_type": "pyout",
       "prompt_number": 71,
       "text": [
        "<class 'pandas.core.frame.DataFrame'>\n",
        "Int64Index: 25258 entries, 0 to 25257\n",
        "Data columns (total 3 columns):\n",
        "0    25258  non-null values\n",
        "1    25258  non-null values\n",
        "2    25258  non-null values\n",
        "dtypes: float64(1), object(2)"
       ]
      }
     ],
     "prompt_number": 71
    },
    {
     "cell_type": "code",
     "collapsed": false,
     "input": [
      "%matplotlib inline\n"
     ],
     "language": "python",
     "metadata": {},
     "outputs": [],
     "prompt_number": 72
    },
    {
     "cell_type": "code",
     "collapsed": false,
     "input": [
      "import matplotlib.pyplot as plt "
     ],
     "language": "python",
     "metadata": {},
     "outputs": [],
     "prompt_number": 73
    },
    {
     "cell_type": "code",
     "collapsed": false,
     "input": [
      "Ahya.groupby(2)[1].mean().plot(kind='barh', color=list('myb'))\n",
      "plt.axis([0.7, 0.9, 0, 15])"
     ],
     "language": "python",
     "metadata": {},
     "outputs": [
      {
       "metadata": {},
       "output_type": "pyout",
       "prompt_number": 74,
       "text": [
        "[0.7, 0.9, 0, 15]"
       ]
      },
      {
       "metadata": {},
       "output_type": "display_data",
       "png": "[encoded data removed]",
       "text": [
        "<matplotlib.figure.Figure at 0x10760f290>"
       ]
      }
     ],
     "prompt_number": 74
    },
    {
     "cell_type": "code",
     "collapsed": false,
     "input": [
      "# pandas density plot\n",
      "Ahya[1].plot(kind='kde', linewidth=3);\n",
      "plt.axis([0, 1.5, 0, 1.9])"
     ],
     "language": "python",
     "metadata": {},
     "outputs": [
      {
       "metadata": {},
       "output_type": "pyout",
       "prompt_number": 77,
       "text": [
        "[0, 1.5, 0, 1.9]"
       ]
      },
      {
       "metadata": {},
       "output_type": "display_data",
       "png": "[encoded data removed]",
       "text": [
        "<matplotlib.figure.Figure at 0x1076bbbd0>"
       ]
      }
     ],
     "prompt_number": 77
    },
    {
     "cell_type": "code",
     "collapsed": false,
     "input": [
      "#using whole transcriptome data \n",
      "%matplotlib inline\n",
      "\n",
      "import matplotlib.pyplot as plt \n"
     ],
     "language": "python",
     "metadata": {},
     "outputs": [],
     "prompt_number": 1
    },
    {
     "cell_type": "code",
     "collapsed": false,
     "input": [
      "import pandas as pd"
     ],
     "language": "python",
     "metadata": {},
     "outputs": [],
     "prompt_number": 2
    },
    {
     "cell_type": "code",
     "collapsed": false,
     "input": [],
     "language": "python",
     "metadata": {},
     "outputs": []
    },
    {
     "cell_type": "code",
     "collapsed": false,
     "input": [
      "Ahya_all = pd.read_table('../analyses/Ahyacinthus_v1_CpG.tab', header=None)\n",
      "\n"
     ],
     "language": "python",
     "metadata": {},
     "outputs": [],
     "prompt_number": 3
    },
    {
     "cell_type": "code",
     "collapsed": false,
     "input": [
      "# pandas density plot\n",
      "Ahya_all[1].plot(kind='kde', linewidth=3);\n",
      "plt.axis([0, 1.5, 0, 1.9])"
     ],
     "language": "python",
     "metadata": {},
     "outputs": [
      {
       "metadata": {},
       "output_type": "pyout",
       "prompt_number": 4,
       "text": [
        "[0, 1.5, 0, 1.9]"
       ]
      },
      {
       "metadata": {},
       "output_type": "display_data",
       "png": "[encoded data removed]",
       "text": [
        "<matplotlib.figure.Figure at 0x10a82e190>"
       ]
      }
     ],
     "prompt_number": 4
    },
    {
     "cell_type": "code",
     "collapsed": false,
     "input": [],
     "language": "python",
     "metadata": {},
     "outputs": []
    }
   ],
   "metadata": {}
  }
 ]
}