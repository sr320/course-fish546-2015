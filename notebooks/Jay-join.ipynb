{
 "metadata": {
  "name": "",
  "signature": "sha256:b7a9a7bd2143e797ea90d631ac75ec26561edbfb0b9a8371deb4302634cb6657"
 },
 "nbformat": 3,
 "nbformat_minor": 0,
 "worksheets": [
  {
   "cells": [
    {
     "cell_type": "markdown",
     "metadata": {},
     "source": [
      "```\n",
      "join -t $'\\t' /home/jay/Documents/fish546-2015/Analyses/Ahya/ID_CpG.sorted /home/jay/Documents/fish546-2015/Analyses/Ahya/Ahya_GOSlim.sorted \\\n",
      "> /home/jay/Documents/fish546-2015/Analyses/Ahya/Ahya_cpg_GOslim\n",
      "```"
     ]
    },
    {
     "cell_type": "code",
     "collapsed": false,
     "input": [
      "cd ../data"
     ],
     "language": "python",
     "metadata": {},
     "outputs": [
      {
       "output_type": "stream",
       "stream": "stdout",
       "text": [
        "/Users/sr320/git-repos/fish546-2015/data\n"
       ]
      }
     ],
     "prompt_number": 1
    },
    {
     "cell_type": "code",
     "collapsed": false,
     "input": [
      "!curl -O https://raw.githubusercontent.com/jldimond/fish546-2015/master/Analyses/Ahya/Ahya_GOSlim.sorted"
     ],
     "language": "python",
     "metadata": {},
     "outputs": [
      {
       "output_type": "stream",
       "stream": "stdout",
       "text": [
        "  % Total    % Received % Xferd  Average Speed   Time    Time     Time  Current\r\n",
        "                                 Dload  Upload   Total   Spent    Left  Speed\r\n",
        "\r",
        "  0     0    0     0    0     0      0      0 --:--:-- --:--:-- --:--:--     0"
       ]
      },
      {
       "output_type": "stream",
       "stream": "stdout",
       "text": [
        "\r",
        "  0  942k    0     0    0     0      0      0 --:--:--  0:00:01 --:--:--     0"
       ]
      },
      {
       "output_type": "stream",
       "stream": "stdout",
       "text": [
        "\r",
        "100  942k  100  942k    0     0   754k      0  0:00:01  0:00:01 --:--:--  754k\r\n"
       ]
      }
     ],
     "prompt_number": 8
    },
    {
     "cell_type": "code",
     "collapsed": false,
     "input": [
      "!curl -O https://raw.githubusercontent.com/jldimond/fish546-2015/master/Analyses/Ahya/ID_CpG.sorted"
     ],
     "language": "python",
     "metadata": {},
     "outputs": [
      {
       "output_type": "stream",
       "stream": "stdout",
       "text": [
        "  % Total    % Received % Xferd  Average Speed   Time    Time     Time  Current\r\n",
        "                                 Dload  Upload   Total   Spent    Left  Speed\r\n",
        "\r",
        "  0     0    0     0    0     0      0      0 --:--:-- --:--:-- --:--:--     0"
       ]
      },
      {
       "output_type": "stream",
       "stream": "stdout",
       "text": [
        "\r",
        "  0  805k    0     0    0     0      0      0 --:--:-- --:--:-- --:--:--     0"
       ]
      },
      {
       "output_type": "stream",
       "stream": "stdout",
       "text": [
        "\r",
        "100  805k  100  805k    0     0   854k      0 --:--:-- --:--:-- --:--:--  854k\r\n"
       ]
      }
     ],
     "prompt_number": 9
    },
    {
     "cell_type": "code",
     "collapsed": false,
     "input": [
      "!head *"
     ],
     "language": "python",
     "metadata": {},
     "outputs": [
      {
       "output_type": "stream",
       "stream": "stdout",
       "text": [
        "==> Ahya_GOSlim.sorted <==\r\n",
        "contig100010\tcell-cell signaling\r\n",
        "contig100010\tdevelopmental processes\r\n",
        "contig100021_110093_105915\tDNA metabolism\r\n",
        "contig100021_110093_105915\tprotein metabolism\r\n",
        "contig100025\tdevelopmental processes\r\n",
        "contig100040\tdevelopmental processes\r\n",
        "contig100040\tRNA metabolism\r\n",
        "contig100055\ttransport\r\n",
        "contig100067\tdevelopmental processes\r\n",
        "contig100067\ttransport\r\n",
        "\r\n",
        "==> Ahya_GOSlim.sortedtab <==\r\n",
        "contig100010 \t cell-cell signaling\r\n",
        "contig100010 \t developmental processes\r\n",
        "contig100021_110093_105915 \t DNA metabolism\r\n",
        "contig100021_110093_105915 \t protein metabolism\r\n",
        "contig100025 \t developmental processes\r\n",
        "contig100040 \t developmental processes\r\n",
        "contig100040 \t RNA metabolism\r\n",
        "contig100055 \t transport\r\n",
        "contig100067 \t developmental processes\r\n",
        "contig100067 \t transport\r\n",
        "\r\n",
        "==> ID_CpG.sorted <==\r\n",
        "contig100001 \t 0.431531\r\n",
        "contig100008 \t 0.276093\r\n",
        "contig100010 \t 0.476931\r\n",
        "contig100021_110093_105915 \t 2.0758\r\n",
        "contig100025 \t 0.299187\r\n",
        "contig100 \t 0.254614\r\n",
        "contig100026 \t 1.0599\r\n",
        "contig100030 \t 0.854552\r\n",
        "contig100031 \t 0.64616\r\n",
        "contig100038_111047 \t 1.60515\r\n",
        "\r\n",
        "==> fa <==\r\n",
        "head: Error reading fa\r\n",
        "\r\n",
        "==> gtf <==\r\n",
        "head: Error reading gtf\r\n"
       ]
      }
     ],
     "prompt_number": 2
    },
    {
     "cell_type": "code",
     "collapsed": false,
     "input": [
      "!awk -F $'\\t' '{print $1, \"\\t\", $2}' Ahya_GOSlim.sorted > Ahya_GOSlim.sortedtab\n"
     ],
     "language": "python",
     "metadata": {},
     "outputs": [],
     "prompt_number": 9
    },
    {
     "cell_type": "code",
     "collapsed": false,
     "input": [],
     "language": "python",
     "metadata": {},
     "outputs": []
    },
    {
     "cell_type": "code",
     "collapsed": false,
     "input": [
      "!join -t $'\\t' Ahya_GOSlim.sortedtab \\\n",
      "ID_CpG.sorted | head"
     ],
     "language": "python",
     "metadata": {},
     "outputs": [
      {
       "output_type": "stream",
       "stream": "stdout",
       "text": [
        "contig100010 \t cell-cell signaling\t 0.476931\r\n",
        "contig100010 \t developmental processes\t 0.476931\r\n",
        "contig100021_110093_105915 \t DNA metabolism\t 2.0758\r\n",
        "contig100021_110093_105915 \t protein metabolism\t 2.0758\r\n",
        "contig100025 \t developmental processes\t 0.299187\r\n",
        "contig100040 \t developmental processes\t 0.558145\r\n",
        "contig100040 \t RNA metabolism\t 0.558145\r\n",
        "contig100055 \t transport\t 0.161543\r\n",
        "contig100067 \t developmental processes\t 0.139249\r\n",
        "contig100067 \t transport\t 0.139249\r\n",
        "join: stdout: Broken pipe\r\n"
       ]
      }
     ],
     "prompt_number": 10
    },
    {
     "cell_type": "code",
     "collapsed": false,
     "input": [],
     "language": "python",
     "metadata": {},
     "outputs": []
    },
    {
     "cell_type": "code",
     "collapsed": false,
     "input": [],
     "language": "python",
     "metadata": {},
     "outputs": []
    },
    {
     "cell_type": "code",
     "collapsed": false,
     "input": [],
     "language": "python",
     "metadata": {},
     "outputs": []
    },
    {
     "cell_type": "markdown",
     "metadata": {},
     "source": [
      "File format (Line Breaks)\n",
      "\n",
      "GOSlim was Windows - needs to be Unix\n",
      "\n",
      "<img src=\"http://eagle.fish.washington.edu/cnidarian/skitch/Save_and_Ahya_GOSlim_sorted_1A8E915D.png\" alt=\"Save_and_Ahya_GOSlim_sorted_1A8E915D.png\"/>\n",
      "\n",
      "After I saved as Unix in TextWrangler\n",
      "\n",
      "<img src=\"http://eagle.fish.washington.edu/cnidarian/skitch/Jay-join_1A8E91AC.png\" alt=\"Jay-join_1A8E91AC.png\"/>"
     ]
    },
    {
     "cell_type": "code",
     "collapsed": false,
     "input": [],
     "language": "python",
     "metadata": {},
     "outputs": []
    }
   ],
   "metadata": {}
  }
 ]
}