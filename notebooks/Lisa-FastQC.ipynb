{
 "metadata": {
  "name": "",
  "signature": "sha256:c0f7ef196c3f05b9160b744ace20343b7cf833a5744453a112b46823b1a437ea"
 },
 "nbformat": 3,
 "nbformat_minor": 0,
 "worksheets": [
  {
   "cells": [
    {
     "cell_type": "markdown",
     "metadata": {},
     "source": [
      "<img src=\"http://eagle.fish.washington.edu/cnidarian/skitch/Haliotis_crac_CCCEcombined_fastq_FastQC_Report_1A818730.png\" alt=\"Haliotis_crac_CCCEcombined_fastq_FastQC_Report_1A818730.png\"/>"
     ]
    },
    {
     "cell_type": "code",
     "collapsed": false,
     "input": [
      "git"
     ],
     "language": "python",
     "metadata": {},
     "outputs": []
    }
   ],
   "metadata": {}
  }
 ]
}