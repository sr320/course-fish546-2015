{
 "metadata": {
  "name": "",
  "signature": "sha256:6f30602fe4c944e5cdbc162d7a1acf457801cddcbfca31e73cb46575bcf71638"
 },
 "nbformat": 3,
 "nbformat_minor": 0,
 "worksheets": [
  {
   "cells": [
    {
     "cell_type": "markdown",
     "metadata": {},
     "source": [
      "<img src=\"http://eagle.fish.washington.edu/cnidarian/skitch/Haliotis_crac_CCCEcombined_fastq_FastQC_Report_1A818730.png\" alt=\"Haliotis_crac_CCCEcombined_fastq_FastQC_Report_1A818730.png\"/>"
     ]
    },
    {
     "cell_type": "code",
     "collapsed": false,
     "input": [
      "ghraw=\"https://raw.githubusercontent.com/sr320/fish546-2015/master/analyses/Haliotis_crac_CCCEcombined_fastqc/fastqc_report.html\"\n",
      "pre=\"http://htmlpreview.github.io/?\""
     ],
     "language": "python",
     "metadata": {},
     "outputs": [],
     "prompt_number": 1
    },
    {
     "cell_type": "code",
     "collapsed": false,
     "input": [
      "!echo {pre}{ghraw}"
     ],
     "language": "python",
     "metadata": {},
     "outputs": [
      {
       "output_type": "stream",
       "stream": "stdout",
       "text": [
        "http://htmlpreview.github.io/?https://raw.githubusercontent.com/sr320/fish546-2015/master/analyses/Haliotis_crac_CCCEcombined_fastqc/fastqc_report.html\r\n"
       ]
      }
     ],
     "prompt_number": 4
    },
    {
     "cell_type": "code",
     "collapsed": false,
     "input": [],
     "language": "python",
     "metadata": {},
     "outputs": []
    }
   ],
   "metadata": {}
  }
 ]
}