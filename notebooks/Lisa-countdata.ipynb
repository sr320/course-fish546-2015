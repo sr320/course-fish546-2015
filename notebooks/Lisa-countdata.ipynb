{
 "metadata": {
  "name": "",
  "signature": "sha256:02a78361becb7fadef6e91ecdd92c350c35f1cfb956b8769581fb3d1c1134a32"
 },
 "nbformat": 3,
 "nbformat_minor": 0,
 "worksheets": [
  {
   "cells": [
    {
     "cell_type": "markdown",
     "metadata": {},
     "source": [
      "<img src=\"http://eagle.fish.washington.edu/cnidarian/skitch/greenbird_1A8137E5.png\" alt=\"greenbird_1A8137E5.png\"/>"
     ]
    },
    {
     "cell_type": "code",
     "collapsed": false,
     "input": [
      "cp /Users/sr320/Dropbox/scratch/cc-ce-abalone-count ../analyses/"
     ],
     "language": "python",
     "metadata": {},
     "outputs": [],
     "prompt_number": 1
    },
    {
     "cell_type": "code",
     "collapsed": false,
     "input": [
      "!ls ../analyses/c*"
     ],
     "language": "python",
     "metadata": {},
     "outputs": [
      {
       "output_type": "stream",
       "stream": "stdout",
       "text": [
        "../analyses/cc-ce-abalone-count\r\n"
       ]
      }
     ],
     "prompt_number": 3
    },
    {
     "cell_type": "code",
     "collapsed": false,
     "input": [
      "!head -2 ../analyses/cc-ce-abalone-count"
     ],
     "language": "python",
     "metadata": {},
     "outputs": [
      {
       "output_type": "stream",
       "stream": "stdout",
       "text": [
        "\"Feature ID\"\t\"Experiment - Range (original values)\"\t\"Experiment - IQR (original values)\"\t\"Experiment - Difference (original values)\"\t\"Experiment - Fold Change (original values)\"\t\"CC - Roberts_20100712_CC_F3 trimmed (GE) - Expression values\"\t\"CC - Roberts_20100712_CC_F3 trimmed (GE) - Unique gene reads\"\t\"CC - Roberts_20100712_CC_F3 trimmed (GE) - Total gene reads\"\t\"CC - Roberts_20100712_CC_F3 trimmed (GE) - RPKM\"\t\"CC - Roberts_20100712_CC_F3 trimmed (GE) - Chromosome\"\t\"CC - Roberts_20100712_CC_F3 trimmed (GE) - Chromosome region start\"\t\"CC - Roberts_20100712_CC_F3 trimmed (GE) - Chromosome region end\"\t\"CC - Means\"\t\"CE - Roberts_20100712_CE_F3 trimmed (GE) - Expression values\"\t\"CE - Roberts_20100712_CE_F3 trimmed (GE) - Unique gene reads\"\t\"CE - Roberts_20100712_CE_F3 trimmed (GE) - Total gene reads\"\t\"CE - Roberts_20100712_CE_F3 trimmed (GE) - RPKM\"\t\"CE - Roberts_20100712_CE_F3 trimmed (GE) - Chromosome\"\t\"CE - Roberts_20100712_CE_F3 trimmed (GE) - Chromosome region start\"\t\"CE - Roberts_20100712_CE_F3 trimmed (GE) - Chromosome region end\"\t\"CE - Means\"\r\n",
        "Roberts_20100712_CC_F3_trimmed_contig_1\t1213\t1213\t1213\t1.58\t2093\t2093\t2093\t0\tRoberts_20100712_CC_F3_trimmed_contig_1\t0\t174\t2093\t3306\t3306\t3306\t0\tRoberts_20100712_CC_F3_trimmed_contig_1\t0\t174\t3306\r\n"
       ]
      }
     ],
     "prompt_number": 5
    },
    {
     "cell_type": "code",
     "collapsed": false,
     "input": [
      "!awk -F\"\\t\" '{print $1, $8, $16}' ../analyses/cc-ce-abalone-count | \\\n",
      "sed 's/\"Feature ID\" \"CC - Roberts_20100712_CC_F3 trimmed (GE) - Total gene reads\" \"CE - Roberts_20100712_CE_F3 trimmed (GE) - Total gene reads\"/ContigID CC_Totalcounts CC_Totalcounts/g' | \\\n",
      "sed 's/Roberts_20100712_CC_F3_trimmed_/Haliotis_crac_/g' > ../analyses/Haliotis_crac_CCCE-counts\n",
      "!head ../analyses/Haliotis_crac_CCCE-counts\n"
     ],
     "language": "python",
     "metadata": {},
     "outputs": [
      {
       "output_type": "stream",
       "stream": "stdout",
       "text": [
        "ContigID CC_Totalcounts CC_Totalcounts\r\n",
        "Haliotis_crac_contig_1 2093 3306\r\n",
        "Haliotis_crac_contig_10 5070 1321\r\n",
        "Haliotis_crac_contig_100 1962 2013\r\n",
        "Haliotis_crac_contig_1000 2873 476\r\n",
        "Haliotis_crac_contig_10000 50 156\r\n",
        "Haliotis_crac_contig_10001 130 44\r\n",
        "Haliotis_crac_contig_10002 72 28\r\n",
        "Haliotis_crac_contig_10003 43 184\r\n",
        "Haliotis_crac_contig_10004 79 32\r\n"
       ]
      }
     ],
     "prompt_number": 16
    },
    {
     "cell_type": "code",
     "collapsed": false,
     "input": [],
     "language": "python",
     "metadata": {},
     "outputs": []
    }
   ],
   "metadata": {}
  }
 ]
}