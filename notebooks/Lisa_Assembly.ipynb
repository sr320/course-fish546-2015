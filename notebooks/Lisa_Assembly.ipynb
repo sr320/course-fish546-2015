{
 "metadata": {
  "name": "",
  "signature": "sha256:54910a1d36025651bb47b996e720da775aa20dbebe0cff88274224cb521f5250"
 },
 "nbformat": 3,
 "nbformat_minor": 0,
 "worksheets": [
  {
   "cells": [
    {
     "cell_type": "heading",
     "level": 1,
     "metadata": {},
     "source": [
      "CLC"
     ]
    },
    {
     "cell_type": "markdown",
     "metadata": {},
     "source": [
      "<img src=\"http://eagle.fish.washington.edu/cnidarian/skitch/greenbird_1A7C3E50.png\" alt=\"greenbird_1A7C3E50.png\"/>"
     ]
    },
    {
     "cell_type": "code",
     "collapsed": false,
     "input": [
      "#file\n",
      "!ls ../data/fa\n"
     ],
     "language": "python",
     "metadata": {},
     "outputs": [
      {
       "output_type": "stream",
       "stream": "stdout",
       "text": [
        "Hcracherodii.fasta      Olurida_v1.fasta        Pchilensis_v1.fasta\r\n",
        "Hkamtschatkana_v1.fasta Olurida_v3.fasta        README.md\r\n"
       ]
      }
     ],
     "prompt_number": 3
    },
    {
     "cell_type": "code",
     "collapsed": false,
     "input": [
      "!head ../data/fa/Hcracherodii_v1.fasta"
     ],
     "language": "python",
     "metadata": {},
     "outputs": [
      {
       "output_type": "stream",
       "stream": "stdout",
       "text": [
        ">Roberts_20100712_CC_F3_trimmed_contig_1\r\n",
        "CTCCAAGACATGGAGTCGTTACCAGATGAGGATCCACAAGCGAATCATCGATCTGCACAG\r\n",
        "TCCCTCCGAGATTGTGAAGCAGATCACCTCCATCAGCATCGAACCAGGTGTGGAGGTCGA\r\n",
        "GGTTACCATTGCTGACGCATAAAGACATGTAAATGACGGACACGCCTTGGCCGT\r\n",
        ">Roberts_20100712_CC_F3_trimmed_contig_2\r\n",
        "TGACATGTTGCCGACCACCACTATGACAACCACAACGACAACTACAACTACATCTACTCC\r\n",
        "AACGACAACACCAACCACTACAGCGACAACGACAACACCAACCACAACAACGACGACAAC\r\n",
        "CACAACCACATCACCAACCACAACTTCTACAACTACAACTACTACCACACCCTGTCAGCT\r\n",
        "GCTCTCTTGTACACTGGACTGTTCTCTGAATGGCTTCAAGACTGGCCCGGATGGATGTCC\r\n",
        "CGCCTT\r\n"
       ]
      }
     ],
     "prompt_number": 5
    },
    {
     "cell_type": "heading",
     "level": 1,
     "metadata": {},
     "source": [
      "Iplant"
     ]
    },
    {
     "cell_type": "code",
     "collapsed": false,
     "input": [],
     "language": "python",
     "metadata": {},
     "outputs": []
    }
   ],
   "metadata": {}
  }
 ]
}