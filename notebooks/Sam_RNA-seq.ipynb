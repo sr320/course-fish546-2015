{
 "metadata": {
  "name": "",
  "signature": "sha256:1ed6ce654e50f013b26e3967d63bcef0a731b6631722f45b907f9184a3e7c5fe"
 },
 "nbformat": 3,
 "nbformat_minor": 0,
 "worksheets": [
  {
   "cells": [
    {
     "cell_type": "markdown",
     "metadata": {},
     "source": [
      "#Crassostrea gigas RNA-Seq\n",
      "\n",
      "##Tophat via iPlant\n",
      "\n",
      "Goal: Use RNA-seq to compare expression between oysters (n=3) pre and post heat shock.\n",
      "__\n",
      "\n",
      ">Based on IPlant Collaborative Tutorial      \n",
      "[<img src=\"http://eagle.fish.washington.edu/cnidarian/skitch/RNA-Seq_tutorial_-_Education__Outreach__and_Training_-_iPlant_Collaborative_Wiki_1A45D493.png\" alt=\"RNA-Seq_tutorial_-_Education__Outreach__and_Training_-_iPlant_Collaborative_Wiki\"/>](https://pods.iplantcollaborative.org/wiki/display/eot/RNA-Seq_tutorial)\n",
      "<https://pods.iplantcollaborative.org/wiki/display/eot/RNA-Seq_tutorial>\n",
      "\n",
      "___\n",
      "\n",
      "####Task 1: Align read data to _Crassostrea gigas_ genome.\n",
      "Tophat is a specialized alignment software for RNA-seq reads that is aware of splice junctions when aligning to a reference assembly.\n",
      "\n",
      "1) Click Apps from DE workspace and select **TopHat2-SE**. Use search bar.\n",
      "\n",
      "<img src=\"http://eagle.fish.washington.edu/cnidarian/skitch/_18__Discovery_Environment_1A446EF5.png\" alt=\"_18__Discovery_Environment_1A446EF5.png\"/>\n",
      "\n",
      "\n",
      "2) Under 'Analysis Name' leave as defaults for make any changes.\n",
      "\n",
      "3) Under **Input data** for FASTQ files add six fastq.gz files localed in `austral-data` with prefixes _2M, 2M-HS, 4M, 4M-HS, 6M, 6M-HS_. \n",
      "\n",
      "4) Under **Reference Genome** for 'Provide a reference genome file in FASTA format' select `/austral-data/Crassostrea_gigas.GCA_000297895.1.24.dna_sm.toplevel.fa` \n",
      "\n",
      "5) For **Reference Annoations** add the GTF file `/austral-data/Crassostrea_gigas.GCA_000297895.1.24.gtf`\n",
      "\n",
      "6) Click **Launch Analyses** and monitor the status of you job.\n",
      "\n",
      "7) Once complete....\n",
      "\n",
      "- Note this takes ~10 hours \n",
      "\n",
      "---\n",
      "\n",
      "\n",
      "####Task 2: Assemble transcripts using **Cufflinks2**\n",
      "Cufflinks assembles RNA-Seq alignments into a parsimonious set of transcripts, then estimates the relative abundances of these transcripts based on how many reads support each one, taking into account biases in library preparation protocols. A detailed manual can be found at http://cufflinks.cbcb.umd.edu/manual.html.\n",
      "\n",
      "1) Open **Cufflinks2**\n",
      "\n",
      "2) For **Input Data** add the six bam files from the `bam` subdirectory of the TopHat2 output.\n",
      "\n",
      "3) Under **Reference Sequence** use custom option select `/austral-data/Crassostrea_gigas.GCA_000297895.1.24.dna_sm.toplevel.fa` \n",
      "\n",
      "4) For **Reference Annoations** add the GTF file `/austral-data/Crassostrea_gigas.GCA_000297895.1.24.gtf`\n",
      "\n",
      "5) Click **Launch Analyses** and monitor the status of you job.\n",
      "\n",
      "- Note this takes ~2 hours \n",
      "\n",
      "---\n",
      "\n",
      "####Task 3: Merge all Cufflinks transcripts into a single transcriptome annotation file using **Cuffmerge2**\n",
      "Cuffmerge merges together several Cufflinks assemblies. It handles also handles running Cuffcompare. The main purpose of this application is to make it easier to make an assembly GTF file suitable for use with Cuffdiff. A merged, empirical annotation file will be more accurate than using the standard reference annotation, as the expression of rare or novel genes and alternative splicing isoforms seen in this experiment will be better reflected in the empirical transcriptome assemblies. \n",
      "\n",
      "1) Open the **Cuffmerge2** app. Under 'Input Data', browse to the results of the cufflinks analyses (abovee) and add the 6 gtf files located in the `gtf` subdirectory.\n",
      "\n",
      "2) For **Reference Annoations** add the GTF file `/austral-data/Crassostrea_gigas.GCA_000297895.1.24.gtf`\n",
      "\n",
      "3) Under **Reference Sequence** use custom option select `/austral-data/Crassostrea_gigas.GCA_000297895.1.24.dna_sm.toplevel.fa` \n",
      "\n",
      "4) Click **Launch Analyses** and monitor the status of you job.\n",
      "\n",
      "\n",
      "---\n",
      "####Task 4: Compare expression analysis using CuffDiff2\n",
      "Cuffdiff is a program that uses the Cufflinks transcript quantification engine to calculate gene and transcript expression levels in more than one condition and test them for significant differences. <http://cufflinks.cbcb.umd.edu/manual.html>\n",
      "\n",
      "1) Open **Cuffdiff2**. For 'Input Data' Sample 1 Name enter Pre adn add three bam file from Tophat analysis..\n",
      "\n",
      "<img src=\"http://eagle.fish.washington.edu/cnidarian/skitch/_39__Discovery_Environment_1A462B43.png\" alt=\"_39__Discovery_Environment_1A462B43.png\"/>\n",
      "\n",
      "For Sample 2 enter post and add other three bam files ...\n",
      "\n",
      "<img src=\"http://eagle.fish.washington.edu/cnidarian/skitch/_39__Discovery_Environment_1A462B91.png\" alt=\"_39__Discovery_Environment_1A462B91.png\"/>\n",
      "\n",
      "2) Next, open the **Reference Annotations** section and add a custom reference annotation file using the `merged_with_ref_ids.gtf` file from the cuffmerge output folder. \n",
      "\n",
      "3) Click **Launch Analyses** and monitor the status of you job.\n",
      "\n",
      "---\n",
      "\n",
      "\n",
      "\n"
     ]
    },
    {
     "cell_type": "code",
     "collapsed": false,
     "input": [
      "!ls ../analyses/Cuffdiff2_heat-b-2014-12-20-22-27-15.4/"
     ],
     "language": "python",
     "metadata": {},
     "outputs": [
      {
       "output_type": "stream",
       "stream": "stdout",
       "text": [
        "cuffdiff.stderr \u001b[34mcuffdiff_out\u001b[m\u001b[m    \u001b[34mgraphs\u001b[m\u001b[m          \u001b[34mlogs\u001b[m\u001b[m            \u001b[34msorted_data\u001b[m\u001b[m\r\n"
       ]
      }
     ],
     "prompt_number": 1
    },
    {
     "cell_type": "code",
     "collapsed": false,
     "input": [
      "!ls ../analyses/Cuffdiff2_heat-b-2014-12-20-22-27-15.4/sorted_data/"
     ],
     "language": "python",
     "metadata": {},
     "outputs": [
      {
       "output_type": "stream",
       "stream": "stdout",
       "text": [
        "genes.sorted_by_expression.sig.txt\r\n",
        "genes.sorted_by_expression.txt\r\n",
        "genes.sorted_by_fold.sig.txt\r\n",
        "genes.sorted_by_fold.txt\r\n",
        "transcripts.sorted_by_expression.sig.txt\r\n",
        "transcripts.sorted_by_expression.txt\r\n",
        "transcripts.sorted_by_fold.sig.txt\r\n",
        "transcripts.sorted_by_fold.txt\r\n"
       ]
      }
     ],
     "prompt_number": 2
    },
    {
     "cell_type": "code",
     "collapsed": false,
     "input": [
      "!head ../analyses/Cuffdiff2_heat-b-2014-12-20-22-27-15.4/sorted_data/genes.sorted_by_fold.sig.txt"
     ],
     "language": "python",
     "metadata": {},
     "outputs": [
      {
       "output_type": "stream",
       "stream": "stdout",
       "text": [
        "gene_id\tgene_name\tsample1\tsample2\tfold_change\tdirection\ttotal_fpkm\tq-value\tgene_description\r\n",
        "XLOC_003768\tHSP70\tPre\tPost\t280.15\tUP\t1936.97\t0.00215\t\r\n",
        "XLOC_032537\t-\tPre\tPost\t260.76\tDOWN\t2614.87\t0.00215\t\r\n",
        "CGI_10020701\t.\tPre\tPost\t239.05\tDOWN\t4568.52\t0.00215\t\r\n",
        "CGI_10002594\t.\tPre\tPost\t224.07\tUP\t2390.25\t0.00215\t\r\n",
        "XLOC_003774\tCGI_10010646\tPre\tPost\t181.01\tUP\t1818.52\t0.00215\t\r\n",
        "XLOC_032785\tHSP68\tPre\tPost\t155.89\tUP\t373.66\t0.00215\t\r\n",
        "XLOC_015275\tCGI_10011376\tPre\tPost\t122.85\tUP\t418.73\t0.0228219\t\r\n",
        "CGI_10001496\t.\tPre\tPost\t119.83\tDOWN\t1450.68\t0.00215\t\r\n",
        "CGI_10011376\t.\tPre\tPost\t97.71\tUP\t528.85\t0.00215\t\r\n"
       ]
      }
     ],
     "prompt_number": 3
    },
    {
     "cell_type": "code",
     "collapsed": false,
     "input": [],
     "language": "python",
     "metadata": {},
     "outputs": []
    }
   ],
   "metadata": {}
  }
 ]
}